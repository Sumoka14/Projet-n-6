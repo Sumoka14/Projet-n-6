{
 "cells": [
  {
   "cell_type": "code",
   "execution_count": 1568,
   "id": "3dbe0921",
   "metadata": {},
   "outputs": [],
   "source": [
    "import pandas as pd\n",
    "import matplotlib.pyplot as plt\n",
    "import matplotlib\n",
    "from statsmodels.tsa.seasonal import seasonal_decompose\n",
    "import seaborn as sns\n",
    "import numpy as np\n",
    "\n",
    "\n",
    "sns.plotting_context(\"talk\")\n",
    "\n",
    "produit = pd.read_csv(\"./data/products.csv\")\n",
    "client = pd.read_csv(\"./data/customers.csv\")\n",
    "vente = pd.read_csv(\"./data/transactions.csv\")\n",
    "\n",
    "\n",
    "\n"
   ]
  },
  {
   "cell_type": "markdown",
   "source": [
    "# Vérification des tables"
   ],
   "metadata": {
    "collapsed": false
   }
  },
  {
   "cell_type": "markdown",
   "source": [
    "# Produit"
   ],
   "metadata": {
    "collapsed": false
   }
  },
  {
   "cell_type": "code",
   "execution_count": 1569,
   "outputs": [
    {
     "name": "stdout",
     "output_type": "stream",
     "text": [
      "  id_prod  price  categ\n",
      "0  0_1421  19.99      0\n",
      "1  0_1368   5.13      0\n",
      "2   0_731  17.99      0\n",
      "3   1_587   4.99      1\n",
      "4  0_1507   3.99      0\n"
     ]
    }
   ],
   "source": [
    "print(produit.head(5))"
   ],
   "metadata": {
    "collapsed": false
   }
  },
  {
   "cell_type": "code",
   "execution_count": 1570,
   "outputs": [
    {
     "name": "stdout",
     "output_type": "stream",
     "text": [
      "(3287, 3)\n",
      "       id_prod        price        categ\n",
      "count     3287  3287.000000  3287.000000\n",
      "unique    3287          NaN          NaN\n",
      "top     0_1421          NaN          NaN\n",
      "freq         1          NaN          NaN\n",
      "mean       NaN    21.856641     0.370246\n",
      "std        NaN    29.847908     0.615387\n",
      "min        NaN    -1.000000     0.000000\n",
      "25%        NaN     6.990000     0.000000\n",
      "50%        NaN    13.060000     0.000000\n",
      "75%        NaN    22.990000     1.000000\n",
      "max        NaN   300.000000     2.000000\n"
     ]
    }
   ],
   "source": [
    "print(produit.shape)\n",
    "print(produit.describe(include='all'))"
   ],
   "metadata": {
    "collapsed": false
   }
  },
  {
   "cell_type": "markdown",
   "source": [
    "'id_prod' est bel et bien une clé primaire, car ils sont tous uniques."
   ],
   "metadata": {
    "collapsed": false
   }
  },
  {
   "cell_type": "markdown",
   "source": [
    "Cependant, on peut remarquer que certains prix sont négatifs"
   ],
   "metadata": {
    "collapsed": false
   }
  },
  {
   "cell_type": "code",
   "execution_count": 1571,
   "outputs": [
    {
     "name": "stdout",
     "output_type": "stream",
     "text": [
      "     id_prod   price  categ\n",
      "731      T_0   -1.00      0\n",
      "2355   0_202    0.62      0\n",
      "2272   0_528    0.62      0\n",
      "370    0_120    0.66      0\n",
      "1211  0_1844    0.77      0\n",
      "...      ...     ...    ...\n",
      "2779    2_30  233.54      2\n",
      "1436   2_167  236.99      2\n",
      "394    2_158  247.22      2\n",
      "724     2_76  254.44      2\n",
      "947      2_2  300.00      2\n",
      "\n",
      "[3287 rows x 3 columns]\n"
     ]
    }
   ],
   "source": [
    "print(produit.sort_values(by='price'))"
   ],
   "metadata": {
    "collapsed": false
   }
  },
  {
   "cell_type": "markdown",
   "source": [
    "On voit que le prix négatif correspond au produit 'T_0'"
   ],
   "metadata": {
    "collapsed": false
   }
  },
  {
   "cell_type": "code",
   "execution_count": 1572,
   "outputs": [
    {
     "name": "stdout",
     "output_type": "stream",
     "text": [
      "(3286, 3)\n",
      "       id_prod        price        categ\n",
      "count     3286  3286.000000  3286.000000\n",
      "unique    3286          NaN          NaN\n",
      "top     0_1421          NaN          NaN\n",
      "freq         1          NaN          NaN\n",
      "mean       NaN    21.863597     0.370359\n",
      "std        NaN    29.849786     0.615446\n",
      "min        NaN     0.620000     0.000000\n",
      "25%        NaN     6.990000     0.000000\n",
      "50%        NaN    13.075000     0.000000\n",
      "75%        NaN    22.990000     1.000000\n",
      "max        NaN   300.000000     2.000000\n"
     ]
    }
   ],
   "source": [
    "produit = produit[produit['id_prod'] != 'T_0']\n",
    "print(produit.shape)\n",
    "print(produit.describe(include='all'))"
   ],
   "metadata": {
    "collapsed": false
   }
  },
  {
   "cell_type": "code",
   "execution_count": 1573,
   "outputs": [
    {
     "name": "stdout",
     "output_type": "stream",
     "text": [
      "Les différentes valeurs de la colonne categ sont : [0 1 2]\n"
     ]
    }
   ],
   "source": [
    "print(\"Les différentes valeurs de la colonne categ sont :\",produit.categ.unique())"
   ],
   "metadata": {
    "collapsed": false
   }
  },
  {
   "cell_type": "markdown",
   "source": [
    "# Client"
   ],
   "metadata": {
    "collapsed": false
   }
  },
  {
   "cell_type": "code",
   "execution_count": 1574,
   "outputs": [
    {
     "name": "stdout",
     "output_type": "stream",
     "text": [
      "  client_id sex  birth\n",
      "0    c_4410   f   1967\n",
      "1    c_7839   f   1975\n",
      "2    c_1699   f   1984\n",
      "3    c_5961   f   1962\n",
      "4    c_5320   m   1943\n"
     ]
    }
   ],
   "source": [
    "print(client.head(5))"
   ],
   "metadata": {
    "collapsed": false
   }
  },
  {
   "cell_type": "code",
   "execution_count": 1575,
   "outputs": [
    {
     "name": "stdout",
     "output_type": "stream",
     "text": [
      "(8623, 3)\n",
      "       client_id   sex        birth\n",
      "count       8623  8623  8623.000000\n",
      "unique      8623     2          NaN\n",
      "top       c_4410     f          NaN\n",
      "freq           1  4491          NaN\n",
      "mean         NaN   NaN  1978.280877\n",
      "std          NaN   NaN    16.919535\n",
      "min          NaN   NaN  1929.000000\n",
      "25%          NaN   NaN  1966.000000\n",
      "50%          NaN   NaN  1979.000000\n",
      "75%          NaN   NaN  1992.000000\n",
      "max          NaN   NaN  2004.000000\n"
     ]
    }
   ],
   "source": [
    "print(client.shape)\n",
    "print(client.describe(include='all'))"
   ],
   "metadata": {
    "collapsed": false
   }
  },
  {
   "cell_type": "markdown",
   "source": [
    "De même pour 'client_id'"
   ],
   "metadata": {
    "collapsed": false
   }
  },
  {
   "cell_type": "code",
   "execution_count": 1576,
   "outputs": [
    {
     "name": "stdout",
     "output_type": "stream",
     "text": [
      "Les différentes valeurs de la colonne sex sont : ['f' 'm']\n"
     ]
    }
   ],
   "source": [
    "print(\"Les différentes valeurs de la colonne sex sont :\",client.sex.unique())"
   ],
   "metadata": {
    "collapsed": false
   }
  },
  {
   "cell_type": "markdown",
   "source": [
    "# Vente"
   ],
   "metadata": {
    "collapsed": false
   }
  },
  {
   "cell_type": "code",
   "execution_count": 1577,
   "outputs": [
    {
     "name": "stdout",
     "output_type": "stream",
     "text": [
      "  id_prod                        date session_id client_id\n",
      "0  0_1518  2022-05-20 13:21:29.043970   s_211425     c_103\n",
      "1   1_251  2022-02-02 07:55:19.149409   s_158752    c_8534\n",
      "2  0_1277  2022-06-18 15:44:33.155329   s_225667    c_6714\n",
      "3   2_209  2021-06-24 04:19:29.835891    s_52962    c_6941\n",
      "4  0_1509  2023-01-11 08:22:08.194479   s_325227    c_4232\n"
     ]
    }
   ],
   "source": [
    "print(vente.head(5))"
   ],
   "metadata": {
    "collapsed": false
   }
  },
  {
   "cell_type": "markdown",
   "source": [
    "On retire les lignes de test"
   ],
   "metadata": {
    "collapsed": false
   }
  },
  {
   "cell_type": "code",
   "execution_count": 1582,
   "outputs": [],
   "source": [
    "vente = vente.drop(vente[vente.id_prod == 'T_0'].index)\n",
    "vente['date'] = pd.to_datetime(vente['date'], format='%Y-%m-%d')"
   ],
   "metadata": {
    "collapsed": false
   }
  },
  {
   "cell_type": "code",
   "execution_count": 1583,
   "outputs": [
    {
     "name": "stdout",
     "output_type": "stream",
     "text": [
      "(679332, 4)\n",
      "       id_prod                           date session_id client_id\n",
      "count   679332                         679332     679332    679332\n",
      "unique    3266                            NaN     342315      8600\n",
      "top      1_369                            NaN   s_118668    c_1609\n",
      "freq      2252                            NaN         14     25488\n",
      "mean       NaN  2022-03-03 15:13:19.307389696        NaN       NaN\n",
      "min        NaN     2021-03-01 00:01:07.843138        NaN       NaN\n",
      "25%        NaN  2021-09-08 09:14:25.055994368        NaN       NaN\n",
      "50%        NaN  2022-03-03 07:50:20.817730560        NaN       NaN\n",
      "75%        NaN  2022-08-30 23:57:08.555173888        NaN       NaN\n",
      "max        NaN     2023-02-28 23:58:30.792755        NaN       NaN\n"
     ]
    }
   ],
   "source": [
    "print(vente.shape)\n",
    "print(vente.describe(include='all',datetime_is_numeric=True))"
   ],
   "metadata": {
    "collapsed": false
   }
  },
  {
   "cell_type": "markdown",
   "source": [
    "# Fusion des Tables"
   ],
   "metadata": {
    "collapsed": false
   }
  },
  {
   "cell_type": "code",
   "execution_count": null,
   "outputs": [],
   "source": [
    "tableTotale = pd.merge(vente, produit, on='id_prod', how='left')\n",
    "tableTotale = pd.merge(tableTotale, client, on='client_id', how='left')\n",
    "\n",
    "print(f' vente shape is :{vente.shape}')\n",
    "print(f' produit shape is :{produit.shape}')\n",
    "print(f' client shape is :{client.shape}')\n",
    "print(f' tableTotale shape is :{tableTotale.shape}')"
   ],
   "metadata": {
    "collapsed": false
   }
  },
  {
   "cell_type": "markdown",
   "source": [
    "# Ajout de nouvelles colonnes"
   ],
   "metadata": {
    "collapsed": false
   }
  },
  {
   "cell_type": "markdown",
   "source": [
    "Création d'une tranche d'age"
   ],
   "metadata": {
    "collapsed": false
   }
  },
  {
   "cell_type": "code",
   "execution_count": null,
   "outputs": [],
   "source": [
    "def arrondiDizaine(n):\n",
    "    while n%10 !=0:\n",
    "        n=n-1\n",
    "    return n"
   ],
   "metadata": {
    "collapsed": false
   }
  },
  {
   "cell_type": "code",
   "execution_count": null,
   "outputs": [],
   "source": [
    "tableTotale['age'] = pd.DatetimeIndex(tableTotale['date']).year - tableTotale['birth']"
   ],
   "metadata": {
    "collapsed": false
   }
  },
  {
   "cell_type": "code",
   "execution_count": null,
   "outputs": [],
   "source": [
    "tableTotale['trancheAge'] = tableTotale['age'].apply(arrondiDizaine)\n",
    "\n",
    "tableTotale.loc[tableTotale[\"trancheAge\"] >= 100, \"trancheAge\"] = \"100+\"\n",
    "tableTotale.loc[tableTotale[\"trancheAge\"] == 10, \"trancheAge\"] = \"10-20\"\n",
    "tableTotale.loc[tableTotale[\"trancheAge\"] == 20, \"trancheAge\"] = \"20-30\"\n",
    "tableTotale.loc[tableTotale[\"trancheAge\"] == 30, \"trancheAge\"] = \"30-40\"\n",
    "tableTotale.loc[tableTotale[\"trancheAge\"] == 40, \"trancheAge\"] = \"40-50\"\n",
    "tableTotale.loc[tableTotale[\"trancheAge\"] == 50, \"trancheAge\"] = \"50-60\"\n",
    "tableTotale.loc[tableTotale[\"trancheAge\"] == 60, \"trancheAge\"] = \"60-70\"\n",
    "tableTotale.loc[tableTotale[\"trancheAge\"] == 70, \"trancheAge\"] = \"70-80\"\n",
    "tableTotale.loc[tableTotale[\"trancheAge\"] == 80, \"trancheAge\"] = \"80-90\"\n",
    "tableTotale.loc[tableTotale[\"trancheAge\"] == 90, \"trancheAge\"] = \"90-100\"\n"
   ],
   "metadata": {
    "collapsed": false
   }
  },
  {
   "cell_type": "code",
   "execution_count": null,
   "outputs": [],
   "source": [
    "print(tableTotale.sample(5))"
   ],
   "metadata": {
    "collapsed": false
   }
  },
  {
   "cell_type": "code",
   "execution_count": null,
   "outputs": [],
   "source": [
    "print(tableTotale.shape)\n",
    "print(tableTotale.describe(include='all', datetime_is_numeric=True))"
   ],
   "metadata": {
    "collapsed": false
   }
  },
  {
   "cell_type": "markdown",
   "source": [
    "On remarque qu'il y a des prix et des catégories qui ne sont pas renseignées"
   ],
   "metadata": {
    "collapsed": false
   }
  },
  {
   "cell_type": "code",
   "execution_count": null,
   "outputs": [],
   "source": [
    "print(tableTotale[tableTotale['price'].isna()]['id_prod'].unique())"
   ],
   "metadata": {
    "collapsed": false
   }
  },
  {
   "cell_type": "code",
   "execution_count": null,
   "outputs": [],
   "source": [
    "print(produit[produit['id_prod'] == '0_2245'].shape)"
   ],
   "metadata": {
    "collapsed": false
   }
  },
  {
   "cell_type": "code",
   "execution_count": null,
   "outputs": [],
   "source": [
    "print(vente[vente['id_prod'] == '0_2245'].shape)"
   ],
   "metadata": {
    "collapsed": false
   }
  },
  {
   "cell_type": "markdown",
   "source": [
    "Ce produit n'apparait pas dans la table produit ce qui explique qui ne possède ni prix ni catégorie, pourtant il a été vendu 221 fois. Sur les 658664 ventes ce nombre est négligeable. D'autant plus si on remarque que le premier nombre de l'id produit correspond à la catégorie et que la catégorie 0 est la catégorie avec les prix les moins chères en moyenne."
   ],
   "metadata": {
    "collapsed": false
   }
  },
  {
   "cell_type": "code",
   "execution_count": null,
   "outputs": [],
   "source": [
    "tableTotale = tableTotale[tableTotale['id_prod'] != '0_2245']"
   ],
   "metadata": {
    "collapsed": false
   }
  },
  {
   "cell_type": "code",
   "execution_count": null,
   "outputs": [],
   "source": [
    "print(tableTotale.shape)\n",
    "print(tableTotale.describe(include='all', datetime_is_numeric=True))"
   ],
   "metadata": {
    "collapsed": false
   }
  },
  {
   "cell_type": "markdown",
   "source": [
    "# Calcul du chiffre d'affaire"
   ],
   "metadata": {
    "collapsed": false
   }
  },
  {
   "cell_type": "code",
   "execution_count": null,
   "outputs": [],
   "source": [
    "chiffreAffaire = tableTotale[['price', 'date', 'id_prod', 'categ']].sort_values(by='date')\n",
    "plt.figure(figsize=(10, 8))\n",
    "\n",
    "chiffreAffaireJournalier = tableTotale[['price', 'date']].resample('D', on='date').sum()\n",
    "\n",
    "chiffreAffaireJournalier['jour'] = chiffreAffaireJournalier['price'].rolling(1).mean().shift(0)\n",
    "chiffreAffaireJournalier['semaine'] = chiffreAffaireJournalier['price'].rolling(7).mean().shift(-3)\n",
    "chiffreAffaireJournalier['mois'] = chiffreAffaireJournalier['price'].rolling(31).mean().shift(-15)\n",
    "chiffreAffaireJournalier['semestre'] = chiffreAffaireJournalier['price'].rolling(183).mean().shift(-91)\n",
    "\n",
    "\"\"\"\n",
    "sns.lineplot(x=\"date\",y=\"price\",\n",
    "             label=\"CA Journalier\", data=chiffreAffaireJournalier,\n",
    "             ci=None)\n",
    "\"\"\"\n",
    "# Time series plot with Seaborn lineplot() with label\n",
    "sns.lineplot(x=\"date\", y=\"semestre\",\n",
    "             label=\"CA Semestrielle\",\n",
    "             data=chiffreAffaireJournalier,\n",
    "             ci=None)\n",
    "\n",
    "# 7-day rolling average Time series plot with Seaborn lineplot() with label\n",
    "sns.lineplot(x=\"date\", y=\"semaine\",\n",
    "             label=\"CA Hebdomadaire\",\n",
    "             data=chiffreAffaireJournalier,\n",
    "             ci=None)\n",
    "\n",
    "# Time series plot with Seaborn lineplot() with label\n",
    "sns.lineplot(x=\"date\", y=\"mois\",\n",
    "             label=\"CA Mensuelle\",\n",
    "             data=chiffreAffaireJournalier,\n",
    "             ci=None)"
   ],
   "metadata": {
    "collapsed": false
   }
  },
  {
   "cell_type": "markdown",
   "source": [
    "# Nombre de Ventes par catégorie"
   ],
   "metadata": {
    "collapsed": false
   }
  },
  {
   "cell_type": "code",
   "execution_count": null,
   "outputs": [],
   "source": [
    "plt.figure(figsize=(10,8))\n",
    "sns.histplot(data=tableTotale, x='date', hue='categ',palette=\"dark:c_r\")"
   ],
   "metadata": {
    "collapsed": false
   }
  },
  {
   "cell_type": "markdown",
   "source": [
    "\n",
    "\n",
    "Comme on peut le voir, il manque certaines données sur le mois d'octobre. On va donc complétement effacer les données du mois d'octobre 2021."
   ],
   "metadata": {
    "collapsed": false
   }
  },
  {
   "cell_type": "code",
   "execution_count": null,
   "outputs": [],
   "source": [
    "tableTotale = tableTotale.loc[tableTotale['date'].dt.strftime('%Y%m') != pd.Timestamp(year=2021, month=10,day=1).strftime('%Y%m')]"
   ],
   "metadata": {
    "collapsed": false
   }
  },
  {
   "cell_type": "markdown",
   "source": [
    "# Calcul du nouveau chiffre d'affaires"
   ],
   "metadata": {
    "collapsed": false
   }
  },
  {
   "cell_type": "code",
   "execution_count": null,
   "outputs": [],
   "source": [
    "chiffreAffaire = tableTotale[['price', 'date', 'id_prod', 'categ']].sort_values(by='date')\n",
    "plt.figure(figsize=(10, 8))\n",
    "\n",
    "chiffreAffaireJournalier = tableTotale[['price', 'date']].resample('D', on='date').sum()\n",
    "\n",
    "chiffreAffaireJournalier['jour'] = chiffreAffaireJournalier['price'].rolling(1).mean().shift(0)\n",
    "chiffreAffaireJournalier['semaine'] = chiffreAffaireJournalier['price'].rolling(7).mean().shift(-3)\n",
    "chiffreAffaireJournalier['mois'] = chiffreAffaireJournalier['price'].rolling(31).mean().shift(-15)\n",
    "chiffreAffaireJournalier['semestre'] = chiffreAffaireJournalier['price'].rolling(183).mean().shift(-91)\n",
    "\n",
    "\"\"\"\n",
    "sns.lineplot(x=\"date\",y=\"price\",\n",
    "             label=\"CA Journalier\", data=chiffreAffaireJournalier,\n",
    "             ci=None)\n",
    "\"\"\"\n",
    "# Time series plot with Seaborn lineplot() with label\n",
    "sns.lineplot(x=\"date\", y=\"semestre\",\n",
    "             label=\"CA Semestrielle\",\n",
    "             data=chiffreAffaireJournalier,\n",
    "             ci=None)\n",
    "\n",
    "# 7-day rolling average Time series plot with Seaborn lineplot() with label\n",
    "sns.lineplot(x=\"date\", y=\"semaine\",\n",
    "             label=\"CA Hebdomadaire\",\n",
    "             data=chiffreAffaireJournalier,\n",
    "             ci=None)\n",
    "\n",
    "# Time series plot with Seaborn lineplot() with label\n",
    "sns.lineplot(x=\"date\", y=\"mois\",\n",
    "             label=\"CA Mensuelle\",\n",
    "             data=chiffreAffaireJournalier,\n",
    "             ci=None)"
   ],
   "metadata": {
    "collapsed": false
   }
  },
  {
   "cell_type": "markdown",
   "source": [
    "# Nouvelles ventes par catégorie"
   ],
   "metadata": {
    "collapsed": false
   }
  },
  {
   "cell_type": "code",
   "execution_count": null,
   "outputs": [],
   "source": [
    "plt.figure(figsize=(10,8))\n",
    "sns.histplot(data=tableTotale, x='date', hue='categ',palette=\"dark:c_r\")"
   ],
   "metadata": {
    "collapsed": false
   }
  },
  {
   "cell_type": "markdown",
   "source": [
    "# Ajout de la fréquence d'achat"
   ],
   "metadata": {
    "collapsed": false
   }
  },
  {
   "cell_type": "markdown",
   "source": [
    "Ajout du nombre d'achats moyen par mois"
   ],
   "metadata": {
    "collapsed": false
   }
  },
  {
   "cell_type": "code",
   "execution_count": null,
   "outputs": [],
   "source": [
    "max,min = tableTotale['date'].max(),tableTotale['date'].min()\n",
    "\n",
    "nbMois = (max - min)/np.timedelta64(1, 'M')\n",
    "nbMois = round(nbMois)\n",
    "\n",
    "print(\"Les données s'étalent sur\", nbMois,\"mois,\",nbMois-1, \"si on ne prend pas en compte le mois d'octobre\")"
   ],
   "metadata": {
    "collapsed": false
   }
  },
  {
   "cell_type": "markdown",
   "source": [
    "On ajoute la fréquence d'achat en ignorant le mois d'octobre"
   ],
   "metadata": {
    "collapsed": false
   }
  },
  {
   "cell_type": "code",
   "execution_count": null,
   "outputs": [],
   "source": [
    "tableTotale = tableTotale.merge(\n",
    "    tableTotale.groupby('client_id').count()['date'].reset_index().rename(columns={'date': 'nombre d\\'achats'}),\n",
    "    how='left', on='client_id')\n",
    "\n",
    "tableTotale = tableTotale.merge(\n",
    "    tableTotale.groupby('client_id')['date'].agg(['first']).reset_index().rename(columns={'first': 'date_inscription'}),\n",
    "    how='left', on='client_id')\n",
    "\n",
    "tableTotale['date_inscription'] = np.where(tableTotale['date_inscription']<'2021-10-01',\n",
    "                                           tableTotale['date_inscription'] +  pd.DateOffset(months=1),\n",
    "                                           tableTotale['date_inscription'])\n",
    "\n",
    "\n",
    "tableTotale['ventes_mensuelles'] = round(tableTotale['nombre d\\'achats'] / (((tableTotale['date'].max() - tableTotale['date_inscription'])/np.timedelta64(1, 'M'))),2)\n",
    "\n",
    "print(tableTotale.describe(datetime_is_numeric=True))\n",
    "print(tableTotale.sort_values(by='price'))"
   ],
   "metadata": {
    "collapsed": false
   }
  },
  {
   "cell_type": "markdown",
   "source": [
    "(Importance des plus grosses fréquences d'achats)"
   ],
   "metadata": {
    "collapsed": false
   }
  },
  {
   "cell_type": "markdown",
   "source": [
    "# Chiffre d'affaire par produit"
   ],
   "metadata": {
    "collapsed": false
   }
  },
  {
   "cell_type": "code",
   "execution_count": null,
   "outputs": [],
   "source": [
    "# ----------------------------------------------------------------------------------------------------------------------\n",
    "# Chiffre d'affaire par produit/catégorie ------------------------------------------------------------------------------\n",
    "\n",
    "# chiffreAffaireProduit = chiffreAffaire.groupby(['id_prod'],\n",
    "# pd.Grouper(key='date', axis=0, freq='M')).sum().rename(columns={\"price\": \"Chiffre d'affaires\"})\n",
    "\n",
    "chiffreAffaireProduit = chiffreAffaire.copy(deep=True)\n",
    "chiffreAffaireProduit.set_index('date')\n",
    "chiffreAffaireProduit.index = pd.to_datetime(chiffreAffaireProduit.index)\n",
    "chiffreAffaireProduit = chiffreAffaireProduit.groupby('id_prod').sum().sort_values(by='price').rename(columns={\"price\": \"Chiffre d'affaires\"})\n",
    "\n",
    "chiffreAffaireProduit.head(15)[['Chiffre d\\'affaires']].plot.barh()\n",
    "chiffreAffaireProduit.tail(15)[['Chiffre d\\'affaires']].plot.barh()"
   ],
   "metadata": {
    "collapsed": false
   }
  },
  {
   "cell_type": "markdown",
   "source": [
    "# Chiffre d'affaire par catégorie"
   ],
   "metadata": {
    "collapsed": false
   }
  },
  {
   "cell_type": "code",
   "execution_count": null,
   "outputs": [],
   "source": [
    "chiffreAffaire"
   ],
   "metadata": {
    "collapsed": false
   }
  },
  {
   "cell_type": "code",
   "execution_count": null,
   "outputs": [],
   "source": [
    "plt.figure(figsize=(15,8))\n",
    "chiffreAffaireCategorie = chiffreAffaire.groupby(by=[pd.Grouper(key='date', freq='M'), 'categ'])['price'].sum().unstack(fill_value=0).reset_index()\n",
    "chiffreAffaireCategorie['date'] = pd.to_datetime(chiffreAffaireCategorie['date']).dt.date\n",
    "chiffreAffaireCategorie[1.0] = chiffreAffaireCategorie[1.0] + chiffreAffaireCategorie[0.0]\n",
    "chiffreAffaireCategorie[2.0] = chiffreAffaireCategorie[1.0] + chiffreAffaireCategorie[2.0]\n",
    "\n",
    "Cat2 = sns.barplot(x = 'date', y = 2.0, data = chiffreAffaireCategorie, color = 'limegreen')\n",
    "Cat1 = sns.barplot(x = 'date', y = 1.0, data = chiffreAffaireCategorie, color = 'coral')\n",
    "Cat0 = sns.barplot(x = 'date', y = 0.0, data = chiffreAffaireCategorie, color = 'slateblue')\n",
    "\n",
    "plt.ylabel('Chiffre d\\'affaire')\n",
    "plt.xticks(rotation=45)\n",
    "\n",
    "\n",
    "chiffreAffaireCategorie = chiffreAffaire.copy(deep=True)\n",
    "\n",
    "plt.figure(figsize=(15,8))\n",
    "chiffreAffaireCategorie = chiffreAffaireCategorie.groupby(by=[pd.Grouper(key='date', freq='M'), 'categ'])['price'].sum().reset_index()#.unstack(fill_value=0)##\n",
    "chiffreAffaireCategorie['date'] = pd.to_datetime(chiffreAffaireCategorie['date']).dt.date\n",
    "\n",
    "sns.barplot(data=chiffreAffaireCategorie,x='date',y='price',hue='categ')\n",
    "plt.xticks(rotation=45)\n",
    "plt.ylabel('Chiffre d\\'affaire')\n",
    "plt.show()\n",
    "\n",
    "sns.lineplot(data=chiffreAffaireCategorie,x='date',y='price')\n",
    "#chiffreAffaireCategorie.plot.bar(stacked=True, x='date')\n",
    "plt.show()\n",
    "print(chiffreAffaireCategorie)\n",
    "\n"
   ],
   "metadata": {
    "collapsed": false
   }
  },
  {
   "cell_type": "code",
   "execution_count": null,
   "outputs": [],
   "source": [
    "\n",
    "chiffreAffaireCategorie = chiffreAffaire.groupby(by='categ')['price'].sum().rename(\"Chiffre d'affaires\")\n",
    "chiffreAffaireCategorie.plot.pie(autopct=lambda diapo: str(round(diapo, 2)) + '%',labeldistance=None,figsize=(8,8),title=None).legend(loc='center left', bbox_to_anchor=(1.0, 0.5))\n"
   ],
   "metadata": {
    "collapsed": false
   }
  },
  {
   "cell_type": "markdown",
   "source": [
    "# Répartition des clients"
   ],
   "metadata": {
    "collapsed": false
   }
  },
  {
   "cell_type": "markdown",
   "source": [
    "# Courbe de Lorenz"
   ],
   "metadata": {
    "collapsed": false
   }
  },
  {
   "cell_type": "code",
   "execution_count": null,
   "outputs": [],
   "source": [
    "def lorenz(variable, title):\n",
    "    X = variable.values\n",
    "    X = np.sort(X)\n",
    "\n",
    "    # Indice de Gini\n",
    "    def gini(array):\n",
    "        sorted_array = array.copy()\n",
    "        sorted_array.sort()\n",
    "        n = array.size\n",
    "        coef_ = 2. / n\n",
    "        const_ = (n + 1.) / n\n",
    "        weighted_sum = sum([(i + 1) * yi for i, yi in enumerate(sorted_array)])\n",
    "        return coef_ * weighted_sum / (sorted_array.sum()) - const_\n",
    "\n",
    "    print('Incide de Gini :', gini(X))\n",
    "\n",
    "    # Courbe de Lorenz\n",
    "    X_lorenz = X.cumsum() / X.sum()\n",
    "    X_lorenz = np.insert(X_lorenz, 0, 0)\n",
    "    # X_lorenz[0], X_lorenz[-1]\n",
    "    y = np.arange(X_lorenz.size) / (X_lorenz.size - 1)\n",
    "    lorenz = pd.DataFrame()\n",
    "    lorenz['X'] = pd.Series(X_lorenz)\n",
    "    lorenz['Y'] = pd.Series(y)\n",
    "    sns.scatterplot(data=lorenz, x='Y', y='X', marker='x')\n",
    "\n",
    "    # Diagonale\n",
    "    a = np.arange(0, 1, .01)\n",
    "    x = a\n",
    "    y = a\n",
    "\n",
    "    # Graphique\n",
    "    sns.lineplot(x=x, y=y)\n",
    "    plt.xlim([0, 1])\n",
    "    plt.ylim([0, 1])\n",
    "    plt.title(title)\n",
    "    plt.show()"
   ],
   "metadata": {
    "collapsed": false
   }
  },
  {
   "cell_type": "code",
   "execution_count": null,
   "outputs": [],
   "source": [
    "\n",
    "# ----------------------------------------------------------------------------------------------------------------------\n",
    "# Courbe de Lorenz -----------------------------------------------------------------------------------------------------\n",
    "\n",
    "chiffreAffaireClient = tableTotale.groupby('client_id')['price'].sum().rename('chiffre d\\'affaire').sort_values()\n",
    "\n",
    "lorenz(chiffreAffaireClient, 'Répartition du chiffre d\\'affaires entre tous les clients')"
   ],
   "metadata": {
    "collapsed": false
   }
  },
  {
   "cell_type": "code",
   "execution_count": null,
   "outputs": [],
   "source": [],
   "metadata": {
    "collapsed": false
   }
  },
  {
   "cell_type": "markdown",
   "source": [
    "# Corrélation entre les caractéristiques"
   ],
   "metadata": {
    "collapsed": false
   }
  },
  {
   "cell_type": "code",
   "execution_count": null,
   "outputs": [],
   "source": [
    "#Lien entre données\n",
    "sns.heatmap(tableTotale.replace({\"m\": 0,\"f\": 1}).corr(), annot = True, fmt='.2g',cmap= 'YlGnBu')"
   ],
   "metadata": {
    "collapsed": false
   }
  },
  {
   "cell_type": "code",
   "execution_count": null,
   "outputs": [],
   "source": [
    "#Prix/catégorie\n",
    "plt.figure(figsize=(10,10))\n",
    "chiffreAffaire.plot.box(column=\"price\", by=\"categ\", vert=False, showfliers=True)"
   ],
   "metadata": {
    "collapsed": false
   }
  },
  {
   "cell_type": "code",
   "execution_count": null,
   "outputs": [],
   "source": [
    "#Prix/catégorie\n",
    "plt.figure(figsize=(10,10))\n",
    "chiffreAffaire.plot.box(column=\"price\", by=\"categ\", vert=False, showfliers=False)"
   ],
   "metadata": {
    "collapsed": false
   }
  },
  {
   "cell_type": "code",
   "execution_count": null,
   "outputs": [],
   "source": [
    "# ----------------------------------------------------------------------------------------------------------------------\n",
    "# Lien entre age et montant des achats ---------------------------------------------------------------------------------\n",
    "\n",
    "ageMontant = tableTotale[['client_id', 'birth', 'price', 'sex']].groupby(by=['client_id', 'birth', 'sex'], as_index=False)['price'].sum()\n",
    "ageMontant['age'] = 2022 - ageMontant['birth']\n",
    "ageMontant = ageMontant[ageMontant.price.between(ageMontant.price.quantile(.01), ageMontant.price.quantile(.99))]\n",
    "sns.regplot(x=\"age\", y=\"price\", data=ageMontant, line_kws={'color': 'red'})\n",
    "plt.show()"
   ],
   "metadata": {
    "collapsed": false
   }
  },
  {
   "cell_type": "markdown",
   "source": [
    "# Prix en fonction de l'age"
   ],
   "metadata": {
    "collapsed": false
   }
  },
  {
   "cell_type": "code",
   "execution_count": null,
   "outputs": [],
   "source": [
    "f, (ax_box1, ax_box) = plt.subplots(2, sharex=False, gridspec_kw={\"height_ratios\": (.5, .5)},  figsize=(20,10))\n",
    "\n",
    "sns.boxplot(data=tableTotale, x='age',y='price',ax=ax_box1, showfliers=False)\n",
    "sns.boxplot(data=tableTotale, x='age',y='price',ax=ax_box)\n",
    "\n",
    "ax_box1.set(xlabel='',ylabel='Prix moyen du livre acheté')\n",
    "ax_box.set(xlabel='Age',ylabel='Prix moyen du livre acheté')"
   ],
   "metadata": {
    "collapsed": false
   }
  },
  {
   "cell_type": "code",
   "execution_count": null,
   "outputs": [],
   "source": [
    "f, (ax_box1, ax_box) = plt.subplots(2, sharex=False, gridspec_kw={\"height_ratios\": (.5, .5)},  figsize=(15,10))\n",
    "\n",
    "sns.boxplot(data=tableTotale.sort_values(by='trancheAge'), x='trancheAge',y='price',ax=ax_box1, showfliers=False)\n",
    "sns.boxplot(data=tableTotale.sort_values(by='trancheAge'), x='trancheAge',y='price',ax=ax_box)\n",
    "\n",
    "ax_box1.set(xlabel='',ylabel='Prix moyen du livre acheté')\n",
    "ax_box.set(xlabel='Tranche d\\'age',ylabel='Prix moyen du livre acheté')\n",
    "\n"
   ],
   "metadata": {
    "collapsed": false
   }
  },
  {
   "cell_type": "markdown",
   "source": [
    "# Lien entre age et catégorie"
   ],
   "metadata": {
    "collapsed": false
   }
  },
  {
   "cell_type": "code",
   "execution_count": null,
   "outputs": [],
   "source": [
    "plt.figure(figsize=(19,10))\n",
    "sns.histplot(data=tableTotale.sort_values(by='age'), x='age', hue='categ',bins=93-17,palette=\"dark:c_r\",multiple='stack')"
   ],
   "metadata": {
    "collapsed": false
   }
  },
  {
   "cell_type": "code",
   "execution_count": null,
   "outputs": [],
   "source": [
    "plt.figure(figsize=(19,10))\n",
    "sns.histplot(data=tableTotale.sort_values(by='trancheAge'), x='trancheAge', hue='categ',palette=\"dark:c_r\",multiple='stack')"
   ],
   "metadata": {
    "collapsed": false
   }
  },
  {
   "cell_type": "markdown",
   "source": [
    "# Lien entre catégorie et genre"
   ],
   "metadata": {
    "collapsed": false
   }
  },
  {
   "cell_type": "code",
   "execution_count": null,
   "outputs": [],
   "source": [
    "plt.figure(figsize=(3,4))\n",
    "sns.histplot(data=tableTotale.sort_values(by='trancheAge'), x='sex', hue='categ',palette=\"dark:c_r\",multiple='stack')"
   ],
   "metadata": {
    "collapsed": false
   }
  },
  {
   "cell_type": "code",
   "execution_count": null,
   "outputs": [],
   "source": [],
   "metadata": {
    "collapsed": false
   }
  }
 ],
 "metadata": {
  "kernelspec": {
   "display_name": "Python 3 (ipykernel)",
   "language": "python",
   "name": "python3"
  },
  "language_info": {
   "codemirror_mode": {
    "name": "ipython",
    "version": 3
   },
   "file_extension": ".py",
   "mimetype": "text/x-python",
   "name": "python",
   "nbconvert_exporter": "python",
   "pygments_lexer": "ipython3",
   "version": "3.9.12"
  }
 },
 "nbformat": 4,
 "nbformat_minor": 5
}
