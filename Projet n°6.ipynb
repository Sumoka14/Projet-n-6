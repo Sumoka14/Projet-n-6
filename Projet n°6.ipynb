{
 "cells": [
  {
   "cell_type": "code",
   "execution_count": 92,
   "id": "3dbe0921",
   "metadata": {},
   "outputs": [],
   "source": [
    "# importations des librairies\n",
    "\n",
    "from __future__ import print_function\n",
    "from ipywidgets import interact, interactive, fixed,interact_manual\n",
    "import ipywidgets as widgets\n",
    "\n",
    "import pandas as pd\n",
    "import matplotlib.pyplot as plt\n",
    "import matplotlib\n",
    "from statsmodels.tsa.seasonal import seasonal_decompose\n",
    "import seaborn as sns\n",
    "import numpy as np\n",
    "\n",
    "from scipy.stats import pearsonr\n",
    "from scipy.stats import bartlett\n",
    "from scipy.stats import shapiro\n",
    "from scipy.stats import chi2_contingency\n",
    "from scipy.stats import kendalltau, spearmanr\n",
    "\n",
    "from sklearn.preprocessing import StandardScaler\n",
    "from sklearn.datasets import make_regression, make_circles\n",
    "\n",
    "import statsmodels.stats.multicomp as multi\n",
    "import statsmodels.api as sm\n",
    "from statsmodels.formula.api import ols\n",
    "\n",
    "sns.plotting_context(\"talk\")\n",
    "sns.set_palette(\"Dark2\")\n"
   ]
  },
  {
   "cell_type": "markdown",
   "id": "80d4d693",
   "metadata": {},
   "source": [
    "# Vérification des tables"
   ]
  },
  {
   "cell_type": "code",
   "execution_count": 93,
   "id": "04f2a334",
   "metadata": {},
   "outputs": [],
   "source": [
    "# Lecture des fichiers\n",
    "produit = pd.read_csv(\"./data/products.csv\")\n",
    "client = pd.read_csv(\"./data/customers.csv\")\n",
    "vente = pd.read_csv(\"./data/transactions.csv\")"
   ]
  },
  {
   "cell_type": "markdown",
   "id": "9b4e28e2",
   "metadata": {},
   "source": [
    "# Produit"
   ]
  },
  {
   "cell_type": "code",
   "execution_count": 94,
   "id": "c1f32145",
   "metadata": {},
   "outputs": [
    {
     "name": "stdout",
     "output_type": "stream",
     "text": [
      "  id_prod  price  categ\n",
      "0  0_1421  19.99      0\n",
      "1  0_1368   5.13      0\n",
      "2   0_731  17.99      0\n",
      "3   1_587   4.99      1\n",
      "4  0_1507   3.99      0\n"
     ]
    }
   ],
   "source": [
    "# Vérification du la table produit\n",
    "print(produit.head(5))"
   ]
  },
  {
   "cell_type": "code",
   "execution_count": 95,
   "id": "52076925",
   "metadata": {},
   "outputs": [
    {
     "name": "stdout",
     "output_type": "stream",
     "text": [
      "(3287, 3)\n",
      "       id_prod        price        categ\n",
      "count     3287  3287.000000  3287.000000\n",
      "unique    3287          NaN          NaN\n",
      "top     0_1421          NaN          NaN\n",
      "freq         1          NaN          NaN\n",
      "mean       NaN    21.856641     0.370246\n",
      "std        NaN    29.847908     0.615387\n",
      "min        NaN    -1.000000     0.000000\n",
      "25%        NaN     6.990000     0.000000\n",
      "50%        NaN    13.060000     0.000000\n",
      "75%        NaN    22.990000     1.000000\n",
      "max        NaN   300.000000     2.000000\n"
     ]
    }
   ],
   "source": [
    "# Vérification des variables de la table produit\n",
    "print(produit.shape)\n",
    "print(produit.describe(include='all'))"
   ]
  },
  {
   "cell_type": "markdown",
   "id": "3e6507b2",
   "metadata": {},
   "source": [
    "'id_prod' est bel et bien une clé primaire, car ils sont tous uniques."
   ]
  },
  {
   "cell_type": "markdown",
   "id": "e4a0e54a",
   "metadata": {},
   "source": [
    "Cependant, on peut remarquer que certains prix sont négatifs"
   ]
  },
  {
   "cell_type": "code",
   "execution_count": 96,
   "id": "7915fe41",
   "metadata": {},
   "outputs": [
    {
     "name": "stdout",
     "output_type": "stream",
     "text": [
      "     id_prod   price  categ\n",
      "731      T_0   -1.00      0\n",
      "2355   0_202    0.62      0\n",
      "2272   0_528    0.62      0\n",
      "370    0_120    0.66      0\n",
      "1211  0_1844    0.77      0\n",
      "...      ...     ...    ...\n",
      "2779    2_30  233.54      2\n",
      "1436   2_167  236.99      2\n",
      "394    2_158  247.22      2\n",
      "724     2_76  254.44      2\n",
      "947      2_2  300.00      2\n",
      "\n",
      "[3287 rows x 3 columns]\n"
     ]
    }
   ],
   "source": [
    "# On vérifie quels sont les prix négatifs\n",
    "print(produit.sort_values(by='price'))"
   ]
  },
  {
   "cell_type": "markdown",
   "id": "025028eb",
   "metadata": {},
   "source": [
    "On voit que le prix négatif correspond au produit 'T_0'"
   ]
  },
  {
   "cell_type": "code",
   "execution_count": 97,
   "id": "adbdf317",
   "metadata": {},
   "outputs": [
    {
     "name": "stdout",
     "output_type": "stream",
     "text": [
      "(3286, 3)\n",
      "       id_prod        price        categ\n",
      "count     3286  3286.000000  3286.000000\n",
      "unique    3286          NaN          NaN\n",
      "top     0_1421          NaN          NaN\n",
      "freq         1          NaN          NaN\n",
      "mean       NaN    21.863597     0.370359\n",
      "std        NaN    29.849786     0.615446\n",
      "min        NaN     0.620000     0.000000\n",
      "25%        NaN     6.990000     0.000000\n",
      "50%        NaN    13.075000     0.000000\n",
      "75%        NaN    22.990000     1.000000\n",
      "max        NaN   300.000000     2.000000\n"
     ]
    }
   ],
   "source": [
    "# On retire les prix négatifs\n",
    "produit = produit[produit['id_prod'] != 'T_0']\n",
    "print(produit.shape)\n",
    "print(produit.describe(include='all'))"
   ]
  },
  {
   "cell_type": "code",
   "execution_count": 98,
   "id": "deeea985",
   "metadata": {},
   "outputs": [
    {
     "name": "stdout",
     "output_type": "stream",
     "text": [
      "Les différentes valeurs de la colonne categ sont : [0 1 2]\n"
     ]
    }
   ],
   "source": [
    "# On vérifie comment est codée la catégorie\n",
    "print(\"Les différentes valeurs de la colonne categ sont :\",produit.categ.unique())"
   ]
  },
  {
   "cell_type": "markdown",
   "id": "9a9d15d2",
   "metadata": {},
   "source": [
    "# Client"
   ]
  },
  {
   "cell_type": "code",
   "execution_count": 99,
   "id": "7f1f4339",
   "metadata": {},
   "outputs": [
    {
     "data": {
      "text/html": [
       "<div>\n",
       "<style scoped>\n",
       "    .dataframe tbody tr th:only-of-type {\n",
       "        vertical-align: middle;\n",
       "    }\n",
       "\n",
       "    .dataframe tbody tr th {\n",
       "        vertical-align: top;\n",
       "    }\n",
       "\n",
       "    .dataframe thead th {\n",
       "        text-align: right;\n",
       "    }\n",
       "</style>\n",
       "<table border=\"1\" class=\"dataframe\">\n",
       "  <thead>\n",
       "    <tr style=\"text-align: right;\">\n",
       "      <th></th>\n",
       "      <th>client_id</th>\n",
       "      <th>sex</th>\n",
       "      <th>birth</th>\n",
       "    </tr>\n",
       "  </thead>\n",
       "  <tbody>\n",
       "    <tr>\n",
       "      <th>7364</th>\n",
       "      <td>c_4105</td>\n",
       "      <td>m</td>\n",
       "      <td>1985</td>\n",
       "    </tr>\n",
       "    <tr>\n",
       "      <th>2389</th>\n",
       "      <td>c_1788</td>\n",
       "      <td>m</td>\n",
       "      <td>1990</td>\n",
       "    </tr>\n",
       "    <tr>\n",
       "      <th>7652</th>\n",
       "      <td>c_5809</td>\n",
       "      <td>m</td>\n",
       "      <td>1977</td>\n",
       "    </tr>\n",
       "    <tr>\n",
       "      <th>8438</th>\n",
       "      <td>c_4283</td>\n",
       "      <td>f</td>\n",
       "      <td>1976</td>\n",
       "    </tr>\n",
       "    <tr>\n",
       "      <th>2033</th>\n",
       "      <td>c_5747</td>\n",
       "      <td>m</td>\n",
       "      <td>2003</td>\n",
       "    </tr>\n",
       "  </tbody>\n",
       "</table>\n",
       "</div>"
      ],
      "text/plain": [
       "     client_id sex  birth\n",
       "7364    c_4105   m   1985\n",
       "2389    c_1788   m   1990\n",
       "7652    c_5809   m   1977\n",
       "8438    c_4283   f   1976\n",
       "2033    c_5747   m   2003"
      ]
     },
     "execution_count": 99,
     "metadata": {},
     "output_type": "execute_result"
    }
   ],
   "source": [
    "# On regarde la table client\n",
    "client.sample(5)"
   ]
  },
  {
   "cell_type": "code",
   "execution_count": 100,
   "id": "645d8f12",
   "metadata": {},
   "outputs": [
    {
     "name": "stdout",
     "output_type": "stream",
     "text": [
      "(8623, 3)\n",
      "       client_id   sex        birth\n",
      "count       8623  8623  8623.000000\n",
      "unique      8623     2          NaN\n",
      "top       c_4410     f          NaN\n",
      "freq           1  4491          NaN\n",
      "mean         NaN   NaN  1978.280877\n",
      "std          NaN   NaN    16.919535\n",
      "min          NaN   NaN  1929.000000\n",
      "25%          NaN   NaN  1966.000000\n",
      "50%          NaN   NaN  1979.000000\n",
      "75%          NaN   NaN  1992.000000\n",
      "max          NaN   NaN  2004.000000\n"
     ]
    }
   ],
   "source": [
    "# Vérification des variables de la table client\n",
    "print(client.shape)\n",
    "print(client.describe(include='all'))"
   ]
  },
  {
   "cell_type": "markdown",
   "id": "90cd34fc",
   "metadata": {},
   "source": [
    "'client_id' est aussi une clé primaire pour les mêmes conditions"
   ]
  },
  {
   "cell_type": "code",
   "execution_count": 101,
   "id": "0a35e7e5",
   "metadata": {},
   "outputs": [
    {
     "name": "stdout",
     "output_type": "stream",
     "text": [
      "Les différentes valeurs de la colonne sex sont : ['f' 'm']\n"
     ]
    }
   ],
   "source": [
    "# Vérification de comment est codé le sexe\n",
    "print(\"Les différentes valeurs de la colonne sex sont :\",client.sex.unique())"
   ]
  },
  {
   "cell_type": "markdown",
   "id": "779151e5",
   "metadata": {},
   "source": [
    "# Vente"
   ]
  },
  {
   "cell_type": "code",
   "execution_count": 102,
   "id": "9673ab90",
   "metadata": {},
   "outputs": [
    {
     "name": "stdout",
     "output_type": "stream",
     "text": [
      "  id_prod                        date session_id client_id\n",
      "0  0_1518  2022-05-20 13:21:29.043970   s_211425     c_103\n",
      "1   1_251  2022-02-02 07:55:19.149409   s_158752    c_8534\n",
      "2  0_1277  2022-06-18 15:44:33.155329   s_225667    c_6714\n",
      "3   2_209  2021-06-24 04:19:29.835891    s_52962    c_6941\n",
      "4  0_1509  2023-01-11 08:22:08.194479   s_325227    c_4232\n"
     ]
    }
   ],
   "source": [
    "# Vérification de la table vente\n",
    "print(vente.head(5))"
   ]
  },
  {
   "cell_type": "markdown",
   "id": "f1749dcf",
   "metadata": {},
   "source": [
    "On retire les lignes de test"
   ]
  },
  {
   "cell_type": "code",
   "execution_count": 103,
   "id": "708be36a",
   "metadata": {},
   "outputs": [],
   "source": [
    "# Suppression des lignes établies comme test précédement\n",
    "vente = vente.drop(vente[vente.id_prod == 'T_0'].index)\n",
    "vente['date'] = pd.to_datetime(vente['date'], format='%Y-%m-%d')"
   ]
  },
  {
   "cell_type": "code",
   "execution_count": 104,
   "id": "a39a2160",
   "metadata": {},
   "outputs": [
    {
     "name": "stdout",
     "output_type": "stream",
     "text": [
      "(679332, 4)\n",
      "       id_prod                           date session_id client_id\n",
      "count   679332                         679332     679332    679332\n",
      "unique    3266                            NaN     342315      8600\n",
      "top      1_369                            NaN   s_118668    c_1609\n",
      "freq      2252                            NaN         14     25488\n",
      "mean       NaN  2022-03-03 15:13:19.307389696        NaN       NaN\n",
      "min        NaN     2021-03-01 00:01:07.843138        NaN       NaN\n",
      "25%        NaN  2021-09-08 09:14:25.055994368        NaN       NaN\n",
      "50%        NaN  2022-03-03 07:50:20.817730560        NaN       NaN\n",
      "75%        NaN  2022-08-30 23:57:08.555173888        NaN       NaN\n",
      "max        NaN     2023-02-28 23:58:30.792755        NaN       NaN\n"
     ]
    }
   ],
   "source": [
    "# Vérification des variables de la table vente\n",
    "print(vente.shape)\n",
    "print(vente.describe(include='all',datetime_is_numeric=True))"
   ]
  },
  {
   "cell_type": "markdown",
   "id": "e7f67737",
   "metadata": {},
   "source": [
    "# Fusion des Tables"
   ]
  },
  {
   "cell_type": "code",
   "execution_count": 105,
   "id": "006da791",
   "metadata": {},
   "outputs": [
    {
     "name": "stdout",
     "output_type": "stream",
     "text": [
      " vente shape is :(679332, 4)\n",
      " produit shape is :(3286, 3)\n",
      " client shape is :(8623, 3)\n",
      " tableTotale shape is :(679332, 8)\n"
     ]
    }
   ],
   "source": [
    "# On fusionne les 3 tables\n",
    "tableTotale = pd.merge(vente, produit, on='id_prod', how='left')\n",
    "tableTotale = pd.merge(tableTotale, client, on='client_id', how='left')\n",
    "\n",
    "print(f' vente shape is :{vente.shape}')\n",
    "print(f' produit shape is :{produit.shape}')\n",
    "print(f' client shape is :{client.shape}')\n",
    "print(f' tableTotale shape is :{tableTotale.shape}')"
   ]
  },
  {
   "cell_type": "code",
   "execution_count": 106,
   "id": "915f8806",
   "metadata": {},
   "outputs": [
    {
     "name": "stdout",
     "output_type": "stream",
     "text": [
      "(679332, 8)\n",
      "       id_prod                           date session_id client_id  \\\n",
      "count   679332                         679332     679332    679332   \n",
      "unique    3266                            NaN     342315      8600   \n",
      "top      1_369                            NaN   s_118668    c_1609   \n",
      "freq      2252                            NaN         14     25488   \n",
      "mean       NaN  2022-03-03 15:13:19.307389696        NaN       NaN   \n",
      "min        NaN     2021-03-01 00:01:07.843138        NaN       NaN   \n",
      "25%        NaN  2021-09-08 09:14:25.055994368        NaN       NaN   \n",
      "50%        NaN  2022-03-03 07:50:20.817730560        NaN       NaN   \n",
      "75%        NaN  2022-08-30 23:57:08.555173888        NaN       NaN   \n",
      "max        NaN     2023-02-28 23:58:30.792755        NaN       NaN   \n",
      "std        NaN                            NaN        NaN       NaN   \n",
      "\n",
      "                price          categ     sex          birth  \n",
      "count   679111.000000  679111.000000  679332  679332.000000  \n",
      "unique            NaN            NaN       2            NaN  \n",
      "top               NaN            NaN       m            NaN  \n",
      "freq              NaN            NaN  340930            NaN  \n",
      "mean        17.454773       0.441953     NaN    1977.811139  \n",
      "min          0.620000       0.000000     NaN    1929.000000  \n",
      "25%          8.870000       0.000000     NaN    1970.000000  \n",
      "50%         13.990000       0.000000     NaN    1980.000000  \n",
      "75%         18.990000       1.000000     NaN    1987.000000  \n",
      "max        300.000000       2.000000     NaN    2004.000000  \n",
      "std         18.328998       0.595042     NaN      13.574553  \n"
     ]
    }
   ],
   "source": [
    "# Vérification des variables de la table obtenue\n",
    "print(tableTotale.shape)\n",
    "print(tableTotale.describe(include='all', datetime_is_numeric=True))"
   ]
  },
  {
   "cell_type": "markdown",
   "id": "1a9368be",
   "metadata": {},
   "source": [
    "On remarque qu'il y a des prix et des catégories qui ne sont pas renseignées"
   ]
  },
  {
   "cell_type": "code",
   "execution_count": 107,
   "id": "38e3649c",
   "metadata": {},
   "outputs": [
    {
     "name": "stdout",
     "output_type": "stream",
     "text": [
      "['0_2245']\n"
     ]
    }
   ],
   "source": [
    "# Identification des prix non renseignés\n",
    "print(tableTotale[tableTotale['price'].isna()]['id_prod'].unique())"
   ]
  },
  {
   "cell_type": "code",
   "execution_count": 108,
   "id": "d0f05eca",
   "metadata": {},
   "outputs": [
    {
     "name": "stdout",
     "output_type": "stream",
     "text": [
      "(0, 3)\n"
     ]
    }
   ],
   "source": [
    "# Vérification de la table produit pour savoir d'où vient l'erreur\n",
    "print(produit[produit['id_prod'] == '0_2245'].shape)"
   ]
  },
  {
   "cell_type": "code",
   "execution_count": 109,
   "id": "61cfd014",
   "metadata": {},
   "outputs": [
    {
     "name": "stdout",
     "output_type": "stream",
     "text": [
      "(221, 4)\n"
     ]
    }
   ],
   "source": [
    "# Vérification de la table vente pour savoir d'où vient l'erreur\n",
    "print(vente[vente['id_prod'] == '0_2245'].shape)"
   ]
  },
  {
   "cell_type": "markdown",
   "id": "1d420dac",
   "metadata": {},
   "source": [
    "Ce produit n'apparait pas dans la table produit ce qui explique qui ne possède ni prix ni catégorie, pourtant il a été vendu 221 fois. Sur les 658664 ventes ce nombre est négligeable. D'autant plus si on remarque que le premier nombre de l'id produit correspond à la catégorie et que la catégorie 0 est la catégorie avec les prix les moins chères en moyenne."
   ]
  },
  {
   "cell_type": "code",
   "execution_count": 110,
   "id": "ea578f49",
   "metadata": {},
   "outputs": [],
   "source": [
    "# Suppression des lignes contenant ce produit\n",
    "tableTotale = tableTotale[tableTotale['id_prod'] != '0_2245']"
   ]
  },
  {
   "cell_type": "markdown",
   "id": "06ac2520",
   "metadata": {},
   "source": [
    "# Calcul du chiffre d'affaires"
   ]
  },
  {
   "cell_type": "code",
   "execution_count": 111,
   "id": "30453a23",
   "metadata": {},
   "outputs": [
    {
     "data": {
      "text/plain": [
       "<AxesSubplot: xlabel='date', ylabel='semestre'>"
      ]
     },
     "execution_count": 111,
     "metadata": {},
     "output_type": "execute_result"
    },
    {
     "data": {
      "image/png": "[encoded data removed]",
      "text/plain": [
       "<Figure size 1000x800 with 1 Axes>"
      ]
     },
     "metadata": {},
     "output_type": "display_data"
    }
   ],
   "source": [
    "# Calcul de la moyenne mobile du chiffre d'affaires \n",
    "chiffreAffaire = tableTotale[['price', 'date', 'id_prod', 'categ']].sort_values(by='date')\n",
    "plt.figure(figsize=(10, 8))\n",
    "\n",
    "chiffreAffaireJournalier = tableTotale[['price', 'date']].resample('D', on='date').sum()\n",
    "\n",
    "chiffreAffaireJournalier['jour'] = chiffreAffaireJournalier['price'].rolling(1).mean().shift(0)\n",
    "chiffreAffaireJournalier['semaine'] = chiffreAffaireJournalier['price'].rolling(7).mean().shift(-3)\n",
    "chiffreAffaireJournalier['mois'] = chiffreAffaireJournalier['price'].rolling(31).mean().shift(-15)\n",
    "chiffreAffaireJournalier['semestre'] = chiffreAffaireJournalier['price'].rolling(183).mean().shift(-91)\n",
    "\n",
    "\"\"\"\n",
    "sns.lineplot(x=\"date\",y=\"price\",\n",
    "             label=\"CA Journalier\", data=chiffreAffaireJournalier,\n",
    "             errorbar=None)\n",
    "\"\"\"\n",
    "# Time series plot with Seaborn lineplot() with label\n",
    "sns.lineplot(x=\"date\", y=\"semestre\",\n",
    "             label=\"CA Semestrielle\",\n",
    "             data=chiffreAffaireJournalier,\n",
    "             errorbar=None)\n",
    "\n",
    "# 7-day rolling average Time series plot with Seaborn lineplot() with label\n",
    "sns.lineplot(x=\"date\", y=\"semaine\",\n",
    "             label=\"CA Hebdomadaire\",\n",
    "             data=chiffreAffaireJournalier,\n",
    "             errorbar=None)\n",
    "\n",
    "# Time series plot with Seaborn lineplot() with label\n",
    "sns.lineplot(x=\"date\", y=\"mois\",\n",
    "             label=\"CA Mensuelle\",\n",
    "             data=chiffreAffaireJournalier,\n",
    "             errorbar=None)"
   ]
  },
  {
   "cell_type": "code",
   "execution_count": 112,
   "id": "6e496f0e",
   "metadata": {},
   "outputs": [
    {
     "data": {
      "text/html": [
       "<div>\n",
       "<style scoped>\n",
       "    .dataframe tbody tr th:only-of-type {\n",
       "        vertical-align: middle;\n",
       "    }\n",
       "\n",
       "    .dataframe tbody tr th {\n",
       "        vertical-align: top;\n",
       "    }\n",
       "\n",
       "    .dataframe thead th {\n",
       "        text-align: right;\n",
       "    }\n",
       "</style>\n",
       "<table border=\"1\" class=\"dataframe\">\n",
       "  <thead>\n",
       "    <tr style=\"text-align: right;\">\n",
       "      <th></th>\n",
       "      <th>price</th>\n",
       "      <th>jour</th>\n",
       "      <th>semaine</th>\n",
       "      <th>mois</th>\n",
       "      <th>semestre</th>\n",
       "    </tr>\n",
       "    <tr>\n",
       "      <th>date</th>\n",
       "      <th></th>\n",
       "      <th></th>\n",
       "      <th></th>\n",
       "      <th></th>\n",
       "      <th></th>\n",
       "    </tr>\n",
       "  </thead>\n",
       "  <tbody>\n",
       "    <tr>\n",
       "      <th>2021-03-01</th>\n",
       "      <td>16565.22</td>\n",
       "      <td>16565.22</td>\n",
       "      <td>NaN</td>\n",
       "      <td>NaN</td>\n",
       "      <td>NaN</td>\n",
       "    </tr>\n",
       "    <tr>\n",
       "      <th>2021-03-02</th>\n",
       "      <td>15486.45</td>\n",
       "      <td>15486.45</td>\n",
       "      <td>NaN</td>\n",
       "      <td>NaN</td>\n",
       "      <td>NaN</td>\n",
       "    </tr>\n",
       "    <tr>\n",
       "      <th>2021-03-03</th>\n",
       "      <td>15198.69</td>\n",
       "      <td>15198.69</td>\n",
       "      <td>NaN</td>\n",
       "      <td>NaN</td>\n",
       "      <td>NaN</td>\n",
       "    </tr>\n",
       "    <tr>\n",
       "      <th>2021-03-04</th>\n",
       "      <td>15196.07</td>\n",
       "      <td>15196.07</td>\n",
       "      <td>15780.468571</td>\n",
       "      <td>NaN</td>\n",
       "      <td>NaN</td>\n",
       "    </tr>\n",
       "    <tr>\n",
       "      <th>2021-03-05</th>\n",
       "      <td>17471.37</td>\n",
       "      <td>17471.37</td>\n",
       "      <td>15653.941429</td>\n",
       "      <td>NaN</td>\n",
       "      <td>NaN</td>\n",
       "    </tr>\n",
       "    <tr>\n",
       "      <th>...</th>\n",
       "      <td>...</td>\n",
       "      <td>...</td>\n",
       "      <td>...</td>\n",
       "      <td>...</td>\n",
       "      <td>...</td>\n",
       "    </tr>\n",
       "    <tr>\n",
       "      <th>2023-02-24</th>\n",
       "      <td>15207.89</td>\n",
       "      <td>15207.89</td>\n",
       "      <td>16487.570000</td>\n",
       "      <td>NaN</td>\n",
       "      <td>NaN</td>\n",
       "    </tr>\n",
       "    <tr>\n",
       "      <th>2023-02-25</th>\n",
       "      <td>15761.25</td>\n",
       "      <td>15761.25</td>\n",
       "      <td>16513.984286</td>\n",
       "      <td>NaN</td>\n",
       "      <td>NaN</td>\n",
       "    </tr>\n",
       "    <tr>\n",
       "      <th>2023-02-26</th>\n",
       "      <td>16304.72</td>\n",
       "      <td>16304.72</td>\n",
       "      <td>NaN</td>\n",
       "      <td>NaN</td>\n",
       "      <td>NaN</td>\n",
       "    </tr>\n",
       "    <tr>\n",
       "      <th>2023-02-27</th>\n",
       "      <td>19170.81</td>\n",
       "      <td>19170.81</td>\n",
       "      <td>NaN</td>\n",
       "      <td>NaN</td>\n",
       "      <td>NaN</td>\n",
       "    </tr>\n",
       "    <tr>\n",
       "      <th>2023-02-28</th>\n",
       "      <td>18105.15</td>\n",
       "      <td>18105.15</td>\n",
       "      <td>NaN</td>\n",
       "      <td>NaN</td>\n",
       "      <td>NaN</td>\n",
       "    </tr>\n",
       "  </tbody>\n",
       "</table>\n",
       "<p>730 rows × 5 columns</p>\n",
       "</div>"
      ],
      "text/plain": [
       "               price      jour       semaine  mois  semestre\n",
       "date                                                        \n",
       "2021-03-01  16565.22  16565.22           NaN   NaN       NaN\n",
       "2021-03-02  15486.45  15486.45           NaN   NaN       NaN\n",
       "2021-03-03  15198.69  15198.69           NaN   NaN       NaN\n",
       "2021-03-04  15196.07  15196.07  15780.468571   NaN       NaN\n",
       "2021-03-05  17471.37  17471.37  15653.941429   NaN       NaN\n",
       "...              ...       ...           ...   ...       ...\n",
       "2023-02-24  15207.89  15207.89  16487.570000   NaN       NaN\n",
       "2023-02-25  15761.25  15761.25  16513.984286   NaN       NaN\n",
       "2023-02-26  16304.72  16304.72           NaN   NaN       NaN\n",
       "2023-02-27  19170.81  19170.81           NaN   NaN       NaN\n",
       "2023-02-28  18105.15  18105.15           NaN   NaN       NaN\n",
       "\n",
       "[730 rows x 5 columns]"
      ]
     },
     "execution_count": 112,
     "metadata": {},
     "output_type": "execute_result"
    }
   ],
   "source": [
    "chiffreAffaireJournalier"
   ]
  },
  {
   "cell_type": "markdown",
   "id": "0f4d8515",
   "metadata": {},
   "source": [
    "# Nombre de Ventes par catégorie"
   ]
  },
  {
   "cell_type": "code",
   "execution_count": 113,
   "id": "3cb931f5",
   "metadata": {},
   "outputs": [
    {
     "data": {
      "text/plain": [
       "<AxesSubplot: xlabel='date', ylabel='Count'>"
      ]
     },
     "execution_count": 113,
     "metadata": {},
     "output_type": "execute_result"
    },
    {
     "data": {
      "image/png": "[encoded data removed]",
      "text/plain": [
       "<Figure size 1000x800 with 1 Axes>"
      ]
     },
     "metadata": {},
     "output_type": "display_data"
    }
   ],
   "source": [
    "# Affichage du nombre de ventes par catégorie\n",
    "plt.figure(figsize=(10,8))\n",
    "sns.histplot(data=tableTotale, x='date', hue='categ',palette=\"dark:c_r\")"
   ]
  },
  {
   "cell_type": "markdown",
   "id": "5d92bba3",
   "metadata": {},
   "source": [
    "\n",
    "\n",
    "Comme on peut le voir, il manque certaines données sur le mois d'octobre. On va donc complétement effacer les données du mois d'octobre 2021."
   ]
  },
  {
   "cell_type": "code",
   "execution_count": 114,
   "id": "a17d3289",
   "metadata": {},
   "outputs": [
    {
     "name": "stdout",
     "output_type": "stream",
     "text": [
      "on a supprimé 21599 lignes, soit 3.18 % du dataframe original.\n"
     ]
    }
   ],
   "source": [
    "# Suppression des données du mois d'octobre\n",
    "tailleAv = len(tableTotale.index)\n",
    "tableTotale = tableTotale.loc[tableTotale['date'].dt.strftime('%Y%m') != pd.Timestamp(year=2021, month=10, day=1).strftime('%Y%m')]\n",
    "tailleAp = len(tableTotale.index)\n",
    "\n",
    "print(\"on a supprimé\",tailleAv-tailleAp,\"lignes, soit\",round(((tailleAv-tailleAp)/tailleAv)*100,2),\"% du dataframe original.\")"
   ]
  },
  {
   "cell_type": "markdown",
   "id": "d553e70f",
   "metadata": {},
   "source": [
    "# Calcul du nouveau chiffre d'affaires"
   ]
  },
  {
   "cell_type": "code",
   "execution_count": 115,
   "id": "4256b60a",
   "metadata": {},
   "outputs": [
    {
     "data": {
      "text/plain": [
       "<AxesSubplot: xlabel='date', ylabel='semestre'>"
      ]
     },
     "execution_count": 115,
     "metadata": {},
     "output_type": "execute_result"
    },
    {
     "data": {
      "image/png": "[encoded data removed]",
      "text/plain": [
       "<Figure size 1000x800 with 1 Axes>"
      ]
     },
     "metadata": {},
     "output_type": "display_data"
    }
   ],
   "source": [
    "# Caclcul de la nouvelle moyenne mobile du chiffre d'affaires\n",
    "chiffreAffaire = tableTotale[['price', 'date', 'id_prod', 'categ']].sort_values(by='date')\n",
    "plt.figure(figsize=(10, 8))\n",
    "\n",
    "chiffreAffaireJournalier = tableTotale[['price', 'date']].resample('D', on='date').sum()\n",
    "\n",
    "chiffreAffaireJournalier['jour'] = chiffreAffaireJournalier['price'].rolling(1).mean().shift(0)\n",
    "chiffreAffaireJournalier['semaine'] = chiffreAffaireJournalier['price'].rolling(7).mean().shift(-3)\n",
    "chiffreAffaireJournalier['mois'] = chiffreAffaireJournalier['price'].rolling(31).mean().shift(-15)\n",
    "chiffreAffaireJournalier['semestre'] = chiffreAffaireJournalier['price'].rolling(183).mean().shift(-91)\n",
    "\n",
    "\"\"\"\n",
    "sns.lineplot(x=\"date\",y=\"price\",\n",
    "             label=\"CA Journalier\", data=chiffreAffaireJournalier,\n",
    "             errorbar=None)\n",
    "\"\"\"\n",
    "# Time series plot with Seaborn lineplot() with label\n",
    "sns.lineplot(x=\"date\", y=\"semestre\",\n",
    "             label=\"CA Semestrielle\",\n",
    "             data=chiffreAffaireJournalier,\n",
    "             errorbar=None)\n",
    "\n",
    "# 7-day rolling average Time series plot with Seaborn lineplot() with label\n",
    "sns.lineplot(x=\"date\", y=\"semaine\",\n",
    "             label=\"CA Hebdomadaire\",\n",
    "             data=chiffreAffaireJournalier,\n",
    "             errorbar=None)\n",
    "\n",
    "# Time series plot with Seaborn lineplot() with label\n",
    "sns.lineplot(x=\"date\", y=\"mois\",\n",
    "             label=\"CA Mensuelle\",\n",
    "             data=chiffreAffaireJournalier,\n",
    "             errorbar=None)"
   ]
  },
  {
   "cell_type": "markdown",
   "id": "e074495f",
   "metadata": {},
   "source": [
    "# Nouvelles ventes par catégorie"
   ]
  },
  {
   "cell_type": "code",
   "execution_count": 116,
   "id": "667bfd77",
   "metadata": {},
   "outputs": [
    {
     "data": {
      "text/plain": [
       "<AxesSubplot: xlabel='date', ylabel='Count'>"
      ]
     },
     "execution_count": 116,
     "metadata": {},
     "output_type": "execute_result"
    },
    {
     "data": {
      "image/png": "[encoded data removed]",
      "text/plain": [
       "<Figure size 1000x800 with 1 Axes>"
      ]
     },
     "metadata": {},
     "output_type": "display_data"
    }
   ],
   "source": [
    "# Affichage du nouveau nombre de ventes par catégorie\n",
    "plt.figure(figsize=(10,8))\n",
    "sns.histplot(data=tableTotale, x='date', hue='categ',palette=\"dark:c_r\")"
   ]
  },
  {
   "cell_type": "markdown",
   "id": "18b760a0",
   "metadata": {},
   "source": [
    "# Ajout de nouvelles colonnes"
   ]
  },
  {
   "cell_type": "markdown",
   "id": "77735efb",
   "metadata": {},
   "source": [
    "Création d'une tranche d'âge"
   ]
  },
  {
   "cell_type": "code",
   "execution_count": 117,
   "id": "ca4ad46b",
   "metadata": {},
   "outputs": [],
   "source": [
    "# Création du fonction permetant d'arrondir un chiffre à la dizaine inférieur\n",
    "def arrondiNInf(x, n:int):\n",
    "    x = int(x)\n",
    "    while x%n !=0:\n",
    "        x=x-1\n",
    "    return x"
   ]
  },
  {
   "cell_type": "code",
   "execution_count": 118,
   "id": "2306fe72",
   "metadata": {},
   "outputs": [],
   "source": [
    "# Calcul de l'âge en fonction de la date d'achat\n",
    "tableTotale['age'] = pd.DatetimeIndex(tableTotale['date']).year - tableTotale['birth']"
   ]
  },
  {
   "cell_type": "code",
   "execution_count": 119,
   "id": "0b50ea68",
   "metadata": {},
   "outputs": [],
   "source": [
    "# Création de la tranche d'âge\n",
    "inter = 10\n",
    "tableTotale['trancheAge'] = tableTotale['age'].apply(arrondiNInf,n=inter).apply(str)\\\n",
    "                            +'-'\\\n",
    "                            +(tableTotale['age'].apply(arrondiNInf,n=inter)+inter).apply(str)\n"
   ]
  },
  {
   "cell_type": "code",
   "execution_count": 120,
   "id": "7dcea47a",
   "metadata": {},
   "outputs": [
    {
     "name": "stdout",
     "output_type": "stream",
     "text": [
      "(657512, 10)\n",
      "       id_prod                           date session_id client_id  \\\n",
      "count   657512                         657512     657512    657512   \n",
      "unique    3263                            NaN     330731      8598   \n",
      "top      1_369                            NaN   s_118668    c_1609   \n",
      "freq      2237                            NaN         14     24472   \n",
      "mean       NaN  2022-03-08 03:59:26.060106240        NaN       NaN   \n",
      "min        NaN     2021-03-01 00:01:07.843138        NaN       NaN   \n",
      "25%        NaN  2021-09-02 21:01:11.439571456        NaN       NaN   \n",
      "50%        NaN     2022-03-14 23:06:31.924672        NaN       NaN   \n",
      "75%        NaN  2022-09-05 21:29:50.094605568        NaN       NaN   \n",
      "max        NaN     2023-02-28 23:58:30.792755        NaN       NaN   \n",
      "std        NaN                            NaN        NaN       NaN   \n",
      "\n",
      "                price          categ     sex          birth            age  \\\n",
      "count   657512.000000  657512.000000  657512  657512.000000  657512.000000   \n",
      "unique            NaN            NaN       2            NaN            NaN   \n",
      "top               NaN            NaN       m            NaN            NaN   \n",
      "freq              NaN            NaN  329717            NaN            NaN   \n",
      "mean        17.540258       0.450375     NaN    1977.776570      43.915959   \n",
      "min          0.620000       0.000000     NaN    1929.000000      17.000000   \n",
      "25%          8.990000       0.000000     NaN    1970.000000      35.000000   \n",
      "50%         13.990000       0.000000     NaN    1980.000000      42.000000   \n",
      "75%         19.080000       1.000000     NaN    1987.000000      51.000000   \n",
      "max        300.000000       2.000000     NaN    2004.000000      94.000000   \n",
      "std         18.340492       0.595776     NaN      13.615459      13.629282   \n",
      "\n",
      "       trancheAge  \n",
      "count      657512  \n",
      "unique          9  \n",
      "top         40-50  \n",
      "freq       217960  \n",
      "mean          NaN  \n",
      "min           NaN  \n",
      "25%           NaN  \n",
      "50%           NaN  \n",
      "75%           NaN  \n",
      "max           NaN  \n",
      "std           NaN  \n"
     ]
    }
   ],
   "source": [
    "# Vérification de la table\n",
    "print(tableTotale.shape)\n",
    "print(tableTotale.describe(include='all', datetime_is_numeric=True))"
   ]
  },
  {
   "cell_type": "markdown",
   "id": "149c9c1e",
   "metadata": {},
   "source": [
    "On ajoute le prix du panier ainsi que le panier moyen par client."
   ]
  },
  {
   "cell_type": "code",
   "execution_count": 121,
   "id": "84ca86bd",
   "metadata": {},
   "outputs": [],
   "source": [
    "# Ajout du montant moyen du panier par client\n",
    "tableTotale = tableTotale.merge(\n",
    "    tableTotale.groupby('session_id')['price'].sum().reset_index(),\n",
    "    how='left', on='session_id').rename(columns={'client_id_x': 'client_id','price_x': 'price','price_y': 'montantPanier'})\n",
    "\n",
    "tableTotale.sort_values(by='session_id',ascending=False)\n",
    "\n",
    "tableTotale = tableTotale.merge(\n",
    "    tableTotale.groupby('client_id')['montantPanier'].mean().reset_index(),\n",
    "    how='left', on='client_id').rename(columns={'montantPanier_x': 'montantPanier','montantPanier_y': 'montantPanierMoyen'})\n",
    "\n",
    "tableTotale.sort_values(by='session_id',ascending=False)\n",
    "\n",
    "tableTotale['montantPanierMoyen'] = tableTotale['montantPanierMoyen'].round(decimals=2)"
   ]
  },
  {
   "cell_type": "markdown",
   "id": "7881269c",
   "metadata": {},
   "source": [
    "On ajoute la taille du panier ainsi que la taille moyenne du panier par client."
   ]
  },
  {
   "cell_type": "code",
   "execution_count": 122,
   "id": "84c9bd9f",
   "metadata": {},
   "outputs": [],
   "source": [
    "# Ajout de la taille moyenne du panier par client\n",
    "tableTotale = tableTotale.merge(\n",
    "    tableTotale.groupby('session_id')['client_id'].count().reset_index(),\n",
    "    how='left', on='session_id').rename(columns={'client_id_x': 'client_id','client_id_y': 'taillePanier'})\n",
    "\n",
    "\n",
    "tableTotale = tableTotale.merge(\n",
    "    tableTotale.groupby('client_id')['taillePanier'].mean().reset_index(),\n",
    "    how='left', on='client_id').rename(columns={'taillePanier_x': 'taillePanier','taillePanier_y': 'taillePanierMoyen'})\n",
    "\n",
    "tableTotale.sort_values(by='session_id',ascending=False)\n",
    "\n",
    "tableTotale['taillePanierMoyen'] = tableTotale['taillePanierMoyen'].round(decimals=2)"
   ]
  },
  {
   "cell_type": "code",
   "execution_count": 123,
   "id": "4ea7b77b",
   "metadata": {},
   "outputs": [
    {
     "data": {
      "text/html": [
       "<div>\n",
       "<style scoped>\n",
       "    .dataframe tbody tr th:only-of-type {\n",
       "        vertical-align: middle;\n",
       "    }\n",
       "\n",
       "    .dataframe tbody tr th {\n",
       "        vertical-align: top;\n",
       "    }\n",
       "\n",
       "    .dataframe thead th {\n",
       "        text-align: right;\n",
       "    }\n",
       "</style>\n",
       "<table border=\"1\" class=\"dataframe\">\n",
       "  <thead>\n",
       "    <tr style=\"text-align: right;\">\n",
       "      <th></th>\n",
       "      <th>id_prod</th>\n",
       "      <th>date</th>\n",
       "      <th>session_id</th>\n",
       "      <th>client_id</th>\n",
       "      <th>price</th>\n",
       "      <th>categ</th>\n",
       "      <th>sex</th>\n",
       "      <th>birth</th>\n",
       "      <th>age</th>\n",
       "      <th>trancheAge</th>\n",
       "      <th>montantPanier</th>\n",
       "      <th>montantPanierMoyen</th>\n",
       "      <th>taillePanier</th>\n",
       "      <th>taillePanierMoyen</th>\n",
       "    </tr>\n",
       "  </thead>\n",
       "  <tbody>\n",
       "    <tr>\n",
       "      <th>0</th>\n",
       "      <td>0_1518</td>\n",
       "      <td>2022-05-20 13:21:29.043970</td>\n",
       "      <td>s_211425</td>\n",
       "      <td>c_103</td>\n",
       "      <td>4.18</td>\n",
       "      <td>0.0</td>\n",
       "      <td>f</td>\n",
       "      <td>1986</td>\n",
       "      <td>36</td>\n",
       "      <td>30-40</td>\n",
       "      <td>21.17</td>\n",
       "      <td>33.51</td>\n",
       "      <td>2</td>\n",
       "      <td>2.85</td>\n",
       "    </tr>\n",
       "    <tr>\n",
       "      <th>1</th>\n",
       "      <td>1_251</td>\n",
       "      <td>2022-02-02 07:55:19.149409</td>\n",
       "      <td>s_158752</td>\n",
       "      <td>c_8534</td>\n",
       "      <td>15.99</td>\n",
       "      <td>1.0</td>\n",
       "      <td>m</td>\n",
       "      <td>1988</td>\n",
       "      <td>34</td>\n",
       "      <td>30-40</td>\n",
       "      <td>39.68</td>\n",
       "      <td>44.55</td>\n",
       "      <td>4</td>\n",
       "      <td>2.90</td>\n",
       "    </tr>\n",
       "    <tr>\n",
       "      <th>2</th>\n",
       "      <td>0_1277</td>\n",
       "      <td>2022-06-18 15:44:33.155329</td>\n",
       "      <td>s_225667</td>\n",
       "      <td>c_6714</td>\n",
       "      <td>7.99</td>\n",
       "      <td>0.0</td>\n",
       "      <td>f</td>\n",
       "      <td>1968</td>\n",
       "      <td>54</td>\n",
       "      <td>50-60</td>\n",
       "      <td>53.61</td>\n",
       "      <td>72.86</td>\n",
       "      <td>5</td>\n",
       "      <td>4.43</td>\n",
       "    </tr>\n",
       "    <tr>\n",
       "      <th>3</th>\n",
       "      <td>2_209</td>\n",
       "      <td>2021-06-24 04:19:29.835891</td>\n",
       "      <td>s_52962</td>\n",
       "      <td>c_6941</td>\n",
       "      <td>69.99</td>\n",
       "      <td>2.0</td>\n",
       "      <td>m</td>\n",
       "      <td>2000</td>\n",
       "      <td>21</td>\n",
       "      <td>20-30</td>\n",
       "      <td>69.99</td>\n",
       "      <td>72.46</td>\n",
       "      <td>1</td>\n",
       "      <td>1.43</td>\n",
       "    </tr>\n",
       "    <tr>\n",
       "      <th>4</th>\n",
       "      <td>0_1509</td>\n",
       "      <td>2023-01-11 08:22:08.194479</td>\n",
       "      <td>s_325227</td>\n",
       "      <td>c_4232</td>\n",
       "      <td>4.99</td>\n",
       "      <td>0.0</td>\n",
       "      <td>m</td>\n",
       "      <td>1980</td>\n",
       "      <td>43</td>\n",
       "      <td>40-50</td>\n",
       "      <td>50.16</td>\n",
       "      <td>38.74</td>\n",
       "      <td>4</td>\n",
       "      <td>2.73</td>\n",
       "    </tr>\n",
       "    <tr>\n",
       "      <th>...</th>\n",
       "      <td>...</td>\n",
       "      <td>...</td>\n",
       "      <td>...</td>\n",
       "      <td>...</td>\n",
       "      <td>...</td>\n",
       "      <td>...</td>\n",
       "      <td>...</td>\n",
       "      <td>...</td>\n",
       "      <td>...</td>\n",
       "      <td>...</td>\n",
       "      <td>...</td>\n",
       "      <td>...</td>\n",
       "      <td>...</td>\n",
       "      <td>...</td>\n",
       "    </tr>\n",
       "    <tr>\n",
       "      <th>657507</th>\n",
       "      <td>0_1551</td>\n",
       "      <td>2022-01-15 13:05:06.246925</td>\n",
       "      <td>s_150195</td>\n",
       "      <td>c_8489</td>\n",
       "      <td>12.99</td>\n",
       "      <td>0.0</td>\n",
       "      <td>f</td>\n",
       "      <td>1951</td>\n",
       "      <td>71</td>\n",
       "      <td>70-80</td>\n",
       "      <td>12.99</td>\n",
       "      <td>27.65</td>\n",
       "      <td>1</td>\n",
       "      <td>1.89</td>\n",
       "    </tr>\n",
       "    <tr>\n",
       "      <th>657508</th>\n",
       "      <td>1_639</td>\n",
       "      <td>2022-03-19 16:03:23.429229</td>\n",
       "      <td>s_181434</td>\n",
       "      <td>c_4370</td>\n",
       "      <td>10.99</td>\n",
       "      <td>1.0</td>\n",
       "      <td>f</td>\n",
       "      <td>1977</td>\n",
       "      <td>45</td>\n",
       "      <td>40-50</td>\n",
       "      <td>10.99</td>\n",
       "      <td>63.14</td>\n",
       "      <td>1</td>\n",
       "      <td>4.23</td>\n",
       "    </tr>\n",
       "    <tr>\n",
       "      <th>657509</th>\n",
       "      <td>0_1425</td>\n",
       "      <td>2022-12-20 04:33:37.584749</td>\n",
       "      <td>s_314704</td>\n",
       "      <td>c_304</td>\n",
       "      <td>12.99</td>\n",
       "      <td>0.0</td>\n",
       "      <td>f</td>\n",
       "      <td>1988</td>\n",
       "      <td>34</td>\n",
       "      <td>30-40</td>\n",
       "      <td>26.60</td>\n",
       "      <td>44.50</td>\n",
       "      <td>3</td>\n",
       "      <td>3.07</td>\n",
       "    </tr>\n",
       "    <tr>\n",
       "      <th>657510</th>\n",
       "      <td>0_1994</td>\n",
       "      <td>2021-07-16 20:36:35.350579</td>\n",
       "      <td>s_63204</td>\n",
       "      <td>c_2227</td>\n",
       "      <td>4.98</td>\n",
       "      <td>0.0</td>\n",
       "      <td>m</td>\n",
       "      <td>1986</td>\n",
       "      <td>35</td>\n",
       "      <td>30-40</td>\n",
       "      <td>30.97</td>\n",
       "      <td>37.24</td>\n",
       "      <td>2</td>\n",
       "      <td>2.87</td>\n",
       "    </tr>\n",
       "    <tr>\n",
       "      <th>657511</th>\n",
       "      <td>1_523</td>\n",
       "      <td>2022-09-28 01:12:01.973763</td>\n",
       "      <td>s_274568</td>\n",
       "      <td>c_3873</td>\n",
       "      <td>23.99</td>\n",
       "      <td>1.0</td>\n",
       "      <td>m</td>\n",
       "      <td>1995</td>\n",
       "      <td>27</td>\n",
       "      <td>20-30</td>\n",
       "      <td>56.83</td>\n",
       "      <td>77.72</td>\n",
       "      <td>4</td>\n",
       "      <td>3.76</td>\n",
       "    </tr>\n",
       "  </tbody>\n",
       "</table>\n",
       "<p>657512 rows × 14 columns</p>\n",
       "</div>"
      ],
      "text/plain": [
       "       id_prod                       date session_id client_id  price  categ  \\\n",
       "0       0_1518 2022-05-20 13:21:29.043970   s_211425     c_103   4.18    0.0   \n",
       "1        1_251 2022-02-02 07:55:19.149409   s_158752    c_8534  15.99    1.0   \n",
       "2       0_1277 2022-06-18 15:44:33.155329   s_225667    c_6714   7.99    0.0   \n",
       "3        2_209 2021-06-24 04:19:29.835891    s_52962    c_6941  69.99    2.0   \n",
       "4       0_1509 2023-01-11 08:22:08.194479   s_325227    c_4232   4.99    0.0   \n",
       "...        ...                        ...        ...       ...    ...    ...   \n",
       "657507  0_1551 2022-01-15 13:05:06.246925   s_150195    c_8489  12.99    0.0   \n",
       "657508   1_639 2022-03-19 16:03:23.429229   s_181434    c_4370  10.99    1.0   \n",
       "657509  0_1425 2022-12-20 04:33:37.584749   s_314704     c_304  12.99    0.0   \n",
       "657510  0_1994 2021-07-16 20:36:35.350579    s_63204    c_2227   4.98    0.0   \n",
       "657511   1_523 2022-09-28 01:12:01.973763   s_274568    c_3873  23.99    1.0   \n",
       "\n",
       "       sex  birth  age trancheAge  montantPanier  montantPanierMoyen  \\\n",
       "0        f   1986   36      30-40          21.17               33.51   \n",
       "1        m   1988   34      30-40          39.68               44.55   \n",
       "2        f   1968   54      50-60          53.61               72.86   \n",
       "3        m   2000   21      20-30          69.99               72.46   \n",
       "4        m   1980   43      40-50          50.16               38.74   \n",
       "...     ..    ...  ...        ...            ...                 ...   \n",
       "657507   f   1951   71      70-80          12.99               27.65   \n",
       "657508   f   1977   45      40-50          10.99               63.14   \n",
       "657509   f   1988   34      30-40          26.60               44.50   \n",
       "657510   m   1986   35      30-40          30.97               37.24   \n",
       "657511   m   1995   27      20-30          56.83               77.72   \n",
       "\n",
       "        taillePanier  taillePanierMoyen  \n",
       "0                  2               2.85  \n",
       "1                  4               2.90  \n",
       "2                  5               4.43  \n",
       "3                  1               1.43  \n",
       "4                  4               2.73  \n",
       "...              ...                ...  \n",
       "657507             1               1.89  \n",
       "657508             1               4.23  \n",
       "657509             3               3.07  \n",
       "657510             2               2.87  \n",
       "657511             4               3.76  \n",
       "\n",
       "[657512 rows x 14 columns]"
      ]
     },
     "execution_count": 123,
     "metadata": {},
     "output_type": "execute_result"
    }
   ],
   "source": [
    "tableTotale"
   ]
  },
  {
   "cell_type": "markdown",
   "id": "ce30069a",
   "metadata": {},
   "source": [
    "On ajoute le chiffre d'affaires par client"
   ]
  },
  {
   "cell_type": "code",
   "execution_count": 124,
   "id": "71da1677",
   "metadata": {},
   "outputs": [
    {
     "data": {
      "text/html": [
       "<div>\n",
       "<style scoped>\n",
       "    .dataframe tbody tr th:only-of-type {\n",
       "        vertical-align: middle;\n",
       "    }\n",
       "\n",
       "    .dataframe tbody tr th {\n",
       "        vertical-align: top;\n",
       "    }\n",
       "\n",
       "    .dataframe thead th {\n",
       "        text-align: right;\n",
       "    }\n",
       "</style>\n",
       "<table border=\"1\" class=\"dataframe\">\n",
       "  <thead>\n",
       "    <tr style=\"text-align: right;\">\n",
       "      <th></th>\n",
       "      <th>id_prod</th>\n",
       "      <th>date</th>\n",
       "      <th>session_id</th>\n",
       "      <th>client_id</th>\n",
       "      <th>price</th>\n",
       "      <th>categ</th>\n",
       "      <th>sex</th>\n",
       "      <th>birth</th>\n",
       "      <th>age</th>\n",
       "      <th>trancheAge</th>\n",
       "      <th>montantPanier</th>\n",
       "      <th>montantPanierMoyen</th>\n",
       "      <th>taillePanier</th>\n",
       "      <th>taillePanierMoyen</th>\n",
       "      <th>chiffreAffaireClient</th>\n",
       "    </tr>\n",
       "  </thead>\n",
       "  <tbody>\n",
       "    <tr>\n",
       "      <th>600822</th>\n",
       "      <td>1_425</td>\n",
       "      <td>2021-12-25 03:53:43.623598</td>\n",
       "      <td>s_139610</td>\n",
       "      <td>c_1</td>\n",
       "      <td>16.99</td>\n",
       "      <td>1.0</td>\n",
       "      <td>m</td>\n",
       "      <td>1955</td>\n",
       "      <td>66</td>\n",
       "      <td>60-70</td>\n",
       "      <td>16.99</td>\n",
       "      <td>26.56</td>\n",
       "      <td>1</td>\n",
       "      <td>1.63</td>\n",
       "      <td>550.19</td>\n",
       "    </tr>\n",
       "    <tr>\n",
       "      <th>518641</th>\n",
       "      <td>0_1571</td>\n",
       "      <td>2022-02-01 01:47:04.355850</td>\n",
       "      <td>s_158128</td>\n",
       "      <td>c_1</td>\n",
       "      <td>5.99</td>\n",
       "      <td>0.0</td>\n",
       "      <td>m</td>\n",
       "      <td>1955</td>\n",
       "      <td>67</td>\n",
       "      <td>60-70</td>\n",
       "      <td>5.99</td>\n",
       "      <td>26.56</td>\n",
       "      <td>1</td>\n",
       "      <td>1.63</td>\n",
       "      <td>550.19</td>\n",
       "    </tr>\n",
       "    <tr>\n",
       "      <th>472811</th>\n",
       "      <td>0_513</td>\n",
       "      <td>2022-12-21 22:41:38.769525</td>\n",
       "      <td>s_315508</td>\n",
       "      <td>c_1</td>\n",
       "      <td>11.99</td>\n",
       "      <td>0.0</td>\n",
       "      <td>m</td>\n",
       "      <td>1955</td>\n",
       "      <td>67</td>\n",
       "      <td>60-70</td>\n",
       "      <td>11.99</td>\n",
       "      <td>26.56</td>\n",
       "      <td>1</td>\n",
       "      <td>1.63</td>\n",
       "      <td>550.19</td>\n",
       "    </tr>\n",
       "    <tr>\n",
       "      <th>308637</th>\n",
       "      <td>0_1880</td>\n",
       "      <td>2021-11-04 18:37:01.482109</td>\n",
       "      <td>s_114737</td>\n",
       "      <td>c_1</td>\n",
       "      <td>14.91</td>\n",
       "      <td>0.0</td>\n",
       "      <td>m</td>\n",
       "      <td>1955</td>\n",
       "      <td>66</td>\n",
       "      <td>60-70</td>\n",
       "      <td>92.62</td>\n",
       "      <td>26.56</td>\n",
       "      <td>5</td>\n",
       "      <td>1.63</td>\n",
       "      <td>550.19</td>\n",
       "    </tr>\n",
       "    <tr>\n",
       "      <th>177936</th>\n",
       "      <td>0_1448</td>\n",
       "      <td>2021-07-26 17:37:29.438136</td>\n",
       "      <td>s_67467</td>\n",
       "      <td>c_1</td>\n",
       "      <td>18.94</td>\n",
       "      <td>0.0</td>\n",
       "      <td>m</td>\n",
       "      <td>1955</td>\n",
       "      <td>66</td>\n",
       "      <td>60-70</td>\n",
       "      <td>18.94</td>\n",
       "      <td>26.56</td>\n",
       "      <td>1</td>\n",
       "      <td>1.63</td>\n",
       "      <td>550.19</td>\n",
       "    </tr>\n",
       "    <tr>\n",
       "      <th>...</th>\n",
       "      <td>...</td>\n",
       "      <td>...</td>\n",
       "      <td>...</td>\n",
       "      <td>...</td>\n",
       "      <td>...</td>\n",
       "      <td>...</td>\n",
       "      <td>...</td>\n",
       "      <td>...</td>\n",
       "      <td>...</td>\n",
       "      <td>...</td>\n",
       "      <td>...</td>\n",
       "      <td>...</td>\n",
       "      <td>...</td>\n",
       "      <td>...</td>\n",
       "      <td>...</td>\n",
       "    </tr>\n",
       "    <tr>\n",
       "      <th>51091</th>\n",
       "      <td>1_676</td>\n",
       "      <td>2023-02-10 23:59:59.414026</td>\n",
       "      <td>s_339757</td>\n",
       "      <td>c_999</td>\n",
       "      <td>19.50</td>\n",
       "      <td>1.0</td>\n",
       "      <td>m</td>\n",
       "      <td>1964</td>\n",
       "      <td>59</td>\n",
       "      <td>50-60</td>\n",
       "      <td>19.50</td>\n",
       "      <td>19.67</td>\n",
       "      <td>1</td>\n",
       "      <td>1.18</td>\n",
       "      <td>681.43</td>\n",
       "    </tr>\n",
       "    <tr>\n",
       "      <th>578055</th>\n",
       "      <td>0_1426</td>\n",
       "      <td>2022-07-10 02:44:13.556163</td>\n",
       "      <td>s_236171</td>\n",
       "      <td>c_999</td>\n",
       "      <td>13.44</td>\n",
       "      <td>0.0</td>\n",
       "      <td>m</td>\n",
       "      <td>1964</td>\n",
       "      <td>58</td>\n",
       "      <td>50-60</td>\n",
       "      <td>13.44</td>\n",
       "      <td>19.67</td>\n",
       "      <td>1</td>\n",
       "      <td>1.18</td>\n",
       "      <td>681.43</td>\n",
       "    </tr>\n",
       "    <tr>\n",
       "      <th>453278</th>\n",
       "      <td>0_1426</td>\n",
       "      <td>2022-06-10 02:44:13.556163</td>\n",
       "      <td>s_221433</td>\n",
       "      <td>c_999</td>\n",
       "      <td>13.44</td>\n",
       "      <td>0.0</td>\n",
       "      <td>m</td>\n",
       "      <td>1964</td>\n",
       "      <td>58</td>\n",
       "      <td>50-60</td>\n",
       "      <td>13.44</td>\n",
       "      <td>19.67</td>\n",
       "      <td>1</td>\n",
       "      <td>1.18</td>\n",
       "      <td>681.43</td>\n",
       "    </tr>\n",
       "    <tr>\n",
       "      <th>262226</th>\n",
       "      <td>1_395</td>\n",
       "      <td>2022-08-23 16:44:27.072834</td>\n",
       "      <td>s_257401</td>\n",
       "      <td>c_999</td>\n",
       "      <td>28.99</td>\n",
       "      <td>1.0</td>\n",
       "      <td>m</td>\n",
       "      <td>1964</td>\n",
       "      <td>58</td>\n",
       "      <td>50-60</td>\n",
       "      <td>28.99</td>\n",
       "      <td>19.67</td>\n",
       "      <td>1</td>\n",
       "      <td>1.18</td>\n",
       "      <td>681.43</td>\n",
       "    </tr>\n",
       "    <tr>\n",
       "      <th>287301</th>\n",
       "      <td>1_459</td>\n",
       "      <td>2022-05-11 10:00:53.303706</td>\n",
       "      <td>s_206890</td>\n",
       "      <td>c_999</td>\n",
       "      <td>15.99</td>\n",
       "      <td>1.0</td>\n",
       "      <td>m</td>\n",
       "      <td>1964</td>\n",
       "      <td>58</td>\n",
       "      <td>50-60</td>\n",
       "      <td>15.99</td>\n",
       "      <td>19.67</td>\n",
       "      <td>1</td>\n",
       "      <td>1.18</td>\n",
       "      <td>681.43</td>\n",
       "    </tr>\n",
       "  </tbody>\n",
       "</table>\n",
       "<p>657512 rows × 15 columns</p>\n",
       "</div>"
      ],
      "text/plain": [
       "       id_prod                       date session_id client_id  price  categ  \\\n",
       "600822   1_425 2021-12-25 03:53:43.623598   s_139610       c_1  16.99    1.0   \n",
       "518641  0_1571 2022-02-01 01:47:04.355850   s_158128       c_1   5.99    0.0   \n",
       "472811   0_513 2022-12-21 22:41:38.769525   s_315508       c_1  11.99    0.0   \n",
       "308637  0_1880 2021-11-04 18:37:01.482109   s_114737       c_1  14.91    0.0   \n",
       "177936  0_1448 2021-07-26 17:37:29.438136    s_67467       c_1  18.94    0.0   \n",
       "...        ...                        ...        ...       ...    ...    ...   \n",
       "51091    1_676 2023-02-10 23:59:59.414026   s_339757     c_999  19.50    1.0   \n",
       "578055  0_1426 2022-07-10 02:44:13.556163   s_236171     c_999  13.44    0.0   \n",
       "453278  0_1426 2022-06-10 02:44:13.556163   s_221433     c_999  13.44    0.0   \n",
       "262226   1_395 2022-08-23 16:44:27.072834   s_257401     c_999  28.99    1.0   \n",
       "287301   1_459 2022-05-11 10:00:53.303706   s_206890     c_999  15.99    1.0   \n",
       "\n",
       "       sex  birth  age trancheAge  montantPanier  montantPanierMoyen  \\\n",
       "600822   m   1955   66      60-70          16.99               26.56   \n",
       "518641   m   1955   67      60-70           5.99               26.56   \n",
       "472811   m   1955   67      60-70          11.99               26.56   \n",
       "308637   m   1955   66      60-70          92.62               26.56   \n",
       "177936   m   1955   66      60-70          18.94               26.56   \n",
       "...     ..    ...  ...        ...            ...                 ...   \n",
       "51091    m   1964   59      50-60          19.50               19.67   \n",
       "578055   m   1964   58      50-60          13.44               19.67   \n",
       "453278   m   1964   58      50-60          13.44               19.67   \n",
       "262226   m   1964   58      50-60          28.99               19.67   \n",
       "287301   m   1964   58      50-60          15.99               19.67   \n",
       "\n",
       "        taillePanier  taillePanierMoyen  chiffreAffaireClient  \n",
       "600822             1               1.63                550.19  \n",
       "518641             1               1.63                550.19  \n",
       "472811             1               1.63                550.19  \n",
       "308637             5               1.63                550.19  \n",
       "177936             1               1.63                550.19  \n",
       "...              ...                ...                   ...  \n",
       "51091              1               1.18                681.43  \n",
       "578055             1               1.18                681.43  \n",
       "453278             1               1.18                681.43  \n",
       "262226             1               1.18                681.43  \n",
       "287301             1               1.18                681.43  \n",
       "\n",
       "[657512 rows x 15 columns]"
      ]
     },
     "execution_count": 124,
     "metadata": {},
     "output_type": "execute_result"
    }
   ],
   "source": [
    "\n",
    "tableTotale = tableTotale.merge(\n",
    "    tableTotale.groupby('client_id')['price'].sum().reset_index(),\n",
    "    how='left', on='client_id').rename(columns={'price_x': 'price','price_y': 'chiffreAffaireClient'})\n",
    "\n",
    "tableTotale.sort_values(by='client_id')\n"
   ]
  },
  {
   "cell_type": "markdown",
   "id": "76a5304d",
   "metadata": {},
   "source": [
    "Ajout de la fréquence d'achat (nombre d'achats moyen par mois)"
   ]
  },
  {
   "cell_type": "code",
   "execution_count": 125,
   "id": "7fbecf03",
   "metadata": {},
   "outputs": [
    {
     "name": "stdout",
     "output_type": "stream",
     "text": [
      "Les données s'étalent sur 24 mois, 23 si on ne prend pas en compte le mois d'octobre\n"
     ]
    }
   ],
   "source": [
    "max,min = tableTotale['date'].max(),tableTotale['date'].min()\n",
    "\n",
    "nbMois = (max - min)/np.timedelta64(1, 'M')\n",
    "nbMois = round(nbMois)\n",
    "\n",
    "print(\"Les données s'étalent sur\", nbMois,\"mois,\",nbMois-1, \"si on ne prend pas en compte le mois d'octobre\")"
   ]
  },
  {
   "cell_type": "markdown",
   "id": "7e227dcf",
   "metadata": {},
   "source": [
    "On ajoute la fréquence d'achat en ignorant le mois d'octobre"
   ]
  },
  {
   "cell_type": "code",
   "execution_count": 126,
   "id": "8648c845",
   "metadata": {},
   "outputs": [],
   "source": [
    "tableTotale = tableTotale.merge(\n",
    "    tableTotale.groupby('client_id').count()['date'].reset_index().rename(columns={'date': 'nombre d\\'achats'}),\n",
    "    how='left', on='client_id')\n",
    "\n",
    "tableTotale = tableTotale.merge(\n",
    "    tableTotale.groupby('client_id')['date'].agg(['min']).reset_index().rename(columns={'min': 'date_inscription'}),\n",
    "    how='left', on='client_id')\n",
    "\n",
    "tableTotale['date_inscription'] = np.where(tableTotale['date_inscription']<'2021-10-15',\n",
    "                                           tableTotale['date_inscription'] +  pd.DateOffset(months=1),\n",
    "                                           tableTotale['date_inscription'])\n",
    "\n",
    "tableTotale['date_inscription'] = pd.to_datetime(tableTotale['date_inscription'])\n",
    "tableTotale['date'] = pd.to_datetime(tableTotale['date'])\n",
    "\n",
    "\n"
   ]
  },
  {
   "cell_type": "code",
   "execution_count": 127,
   "id": "dc2190eb",
   "metadata": {},
   "outputs": [
    {
     "name": "stdout",
     "output_type": "stream",
     "text": [
      "                                date          price          categ  \\\n",
      "count                         657512  657512.000000  657512.000000   \n",
      "mean   2022-03-08 03:59:26.060106240      17.540258       0.450375   \n",
      "min       2021-03-01 00:01:07.843138       0.620000       0.000000   \n",
      "25%    2021-09-02 21:01:11.439571456       8.990000       0.000000   \n",
      "50%       2022-03-14 23:06:31.924672      13.990000       0.000000   \n",
      "75%    2022-09-05 21:29:50.094605568      19.080000       1.000000   \n",
      "max       2023-02-28 23:58:30.792755     300.000000       2.000000   \n",
      "std                              NaN      18.340492       0.595776   \n",
      "\n",
      "               birth            age  montantPanier  montantPanierMoyen  \\\n",
      "count  657512.000000  657512.000000  657512.000000       657512.000000   \n",
      "mean     1977.776570      43.915959      45.141123           45.141104   \n",
      "min      1929.000000      17.000000       0.620000            4.150000   \n",
      "25%      1970.000000      35.000000      21.990000           34.440000   \n",
      "50%      1980.000000      42.000000      36.280000           39.540000   \n",
      "75%      1987.000000      51.000000      56.630000           48.570000   \n",
      "max      2004.000000      94.000000     568.880000          287.090000   \n",
      "std        13.615459      13.629282      36.870151           19.827106   \n",
      "\n",
      "        taillePanier  taillePanierMoyen  chiffreAffaireClient  \\\n",
      "count  657512.000000      657512.000000         657512.000000   \n",
      "mean        2.806364           2.806509          18806.193183   \n",
      "min         1.000000           1.000000              8.300000   \n",
      "25%         2.000000           2.310000           1134.250000   \n",
      "50%         2.000000           2.920000           1920.960000   \n",
      "75%         4.000000           3.260000           2965.600000   \n",
      "max        14.000000          10.850000         312755.080000   \n",
      "std         1.638882           0.834498          65876.266938   \n",
      "\n",
      "       nombre d'achats               date_inscription  ventes_mensuelles  \n",
      "count    657512.000000                         657512      657512.000000  \n",
      "mean       1260.097467  2021-04-17 20:31:34.094945280          54.244784  \n",
      "min           1.000000     2021-04-01 00:01:07.843138           0.040000  \n",
      "25%          63.000000  2021-04-03 14:48:39.404792064           2.810000  \n",
      "50%         119.000000  2021-04-09 08:11:40.524638976           5.190000  \n",
      "75%         216.000000  2021-04-21 00:56:53.921757952           9.380000  \n",
      "max       24472.000000     2022-02-28 11:00:54.920920        1051.810000  \n",
      "std        4737.131566                            NaN         203.582165  \n"
     ]
    }
   ],
   "source": [
    "dateFinale = tableTotale['date'].max()\n",
    "\n",
    "tableTotale['ventes_mensuelles'] = round(tableTotale['nombre d\\'achats'] / ((dateFinale - tableTotale['date_inscription']).dt.days/30),2)\n",
    "\n",
    "print(tableTotale.describe(datetime_is_numeric=True))\n",
    "# print(tableTotale.sort_values(by='price'))"
   ]
  },
  {
   "cell_type": "markdown",
   "id": "b41b1143",
   "metadata": {},
   "source": [
    "(Importance des plus grosses fréquences d'achats)"
   ]
  },
  {
   "cell_type": "code",
   "execution_count": 128,
   "id": "2ee22e7c",
   "metadata": {},
   "outputs": [
    {
     "data": {
      "text/plain": [
       "<AxesSubplot: >"
      ]
     },
     "execution_count": 128,
     "metadata": {},
     "output_type": "execute_result"
    },
    {
     "data": {
      "image/png": "[encoded data removed]",
      "text/plain": [
       "<Figure size 2000x1000 with 2 Axes>"
      ]
     },
     "metadata": {},
     "output_type": "display_data"
    }
   ],
   "source": [
    "f, (ax_box1, ax_box) = plt.subplots(nrows=1, ncols=2, sharex=False,  figsize=(20,10))\n",
    "sns.boxplot(data=tableTotale['ventes_mensuelles'], showfliers=False, ax=ax_box1)\n",
    "sns.boxplot(data=tableTotale['ventes_mensuelles'], showfliers=True, ax=ax_box)"
   ]
  },
  {
   "cell_type": "markdown",
   "id": "e5e05a15",
   "metadata": {},
   "source": [
    "On remarque que 4 clients ont une fréquence d'achat anormalement élevée"
   ]
  },
  {
   "cell_type": "code",
   "execution_count": 129,
   "id": "e5382928",
   "metadata": {},
   "outputs": [
    {
     "name": "stdout",
     "output_type": "stream",
     "text": [
      "['c_6714' 'c_4958' 'c_1609' 'c_3454']\n"
     ]
    }
   ],
   "source": [
    "clientAnormal = tableTotale[tableTotale['ventes_mensuelles']>17.5]['client_id'].unique()\n",
    "print(clientAnormal)"
   ]
  },
  {
   "cell_type": "markdown",
   "id": "fc42723d",
   "metadata": {},
   "source": [
    "Afin d'obtenir une étude plus cohérente, on décide de séparer ces clients des autres"
   ]
  },
  {
   "cell_type": "code",
   "execution_count": 130,
   "id": "c5744bf5",
   "metadata": {},
   "outputs": [],
   "source": [
    "tableTotaleNormal = tableTotale[~tableTotale['client_id'].isin(clientAnormal)]\n",
    "tableTotaleAnormal = tableTotale[tableTotale['client_id'].isin(clientAnormal)]\n",
    "\n",
    "tableTotale['anormal'] = 'Client \\'Normal\\''\n",
    "tableTotale.loc[tableTotale['client_id'].isin(clientAnormal),'anormal'] = 'Client \\'Anormal\\''"
   ]
  },
  {
   "cell_type": "code",
   "execution_count": 131,
   "id": "92fb52d0",
   "metadata": {},
   "outputs": [
    {
     "name": "stdout",
     "output_type": "stream",
     "text": [
      "Ce n'est pas une clé primaire, il y a 326781 doublons\n"
     ]
    },
    {
     "data": {
      "text/html": [
       "<div>\n",
       "<style scoped>\n",
       "    .dataframe tbody tr th:only-of-type {\n",
       "        vertical-align: middle;\n",
       "    }\n",
       "\n",
       "    .dataframe tbody tr th {\n",
       "        vertical-align: top;\n",
       "    }\n",
       "\n",
       "    .dataframe thead th {\n",
       "        text-align: right;\n",
       "    }\n",
       "</style>\n",
       "<table border=\"1\" class=\"dataframe\">\n",
       "  <thead>\n",
       "    <tr style=\"text-align: right;\">\n",
       "      <th></th>\n",
       "      <th>id_prod</th>\n",
       "      <th>date</th>\n",
       "      <th>session_id</th>\n",
       "      <th>client_id</th>\n",
       "      <th>price</th>\n",
       "      <th>categ</th>\n",
       "      <th>sex</th>\n",
       "      <th>birth</th>\n",
       "      <th>age</th>\n",
       "      <th>trancheAge</th>\n",
       "      <th>montantPanier</th>\n",
       "      <th>montantPanierMoyen</th>\n",
       "      <th>taillePanier</th>\n",
       "      <th>taillePanierMoyen</th>\n",
       "      <th>chiffreAffaireClient</th>\n",
       "      <th>nombre d'achats</th>\n",
       "      <th>date_inscription</th>\n",
       "      <th>ventes_mensuelles</th>\n",
       "      <th>anormal</th>\n",
       "    </tr>\n",
       "  </thead>\n",
       "  <tbody>\n",
       "    <tr>\n",
       "      <th>0</th>\n",
       "      <td>0_1518</td>\n",
       "      <td>2022-05-20 13:21:29.043970</td>\n",
       "      <td>s_211425</td>\n",
       "      <td>c_103</td>\n",
       "      <td>4.18</td>\n",
       "      <td>0.0</td>\n",
       "      <td>f</td>\n",
       "      <td>1986</td>\n",
       "      <td>36</td>\n",
       "      <td>30-40</td>\n",
       "      <td>21.17</td>\n",
       "      <td>33.51</td>\n",
       "      <td>2</td>\n",
       "      <td>2.85</td>\n",
       "      <td>2118.62</td>\n",
       "      <td>181</td>\n",
       "      <td>2021-04-04 05:48:00.482557</td>\n",
       "      <td>7.81</td>\n",
       "      <td>Client 'Normal'</td>\n",
       "    </tr>\n",
       "    <tr>\n",
       "      <th>1</th>\n",
       "      <td>1_251</td>\n",
       "      <td>2022-02-02 07:55:19.149409</td>\n",
       "      <td>s_158752</td>\n",
       "      <td>c_8534</td>\n",
       "      <td>15.99</td>\n",
       "      <td>1.0</td>\n",
       "      <td>m</td>\n",
       "      <td>1988</td>\n",
       "      <td>34</td>\n",
       "      <td>30-40</td>\n",
       "      <td>39.68</td>\n",
       "      <td>44.55</td>\n",
       "      <td>4</td>\n",
       "      <td>2.90</td>\n",
       "      <td>3389.69</td>\n",
       "      <td>241</td>\n",
       "      <td>2021-04-07 11:27:39.031057</td>\n",
       "      <td>10.45</td>\n",
       "      <td>Client 'Normal'</td>\n",
       "    </tr>\n",
       "    <tr>\n",
       "      <th>2</th>\n",
       "      <td>0_1277</td>\n",
       "      <td>2022-06-18 15:44:33.155329</td>\n",
       "      <td>s_225667</td>\n",
       "      <td>c_6714</td>\n",
       "      <td>7.99</td>\n",
       "      <td>0.0</td>\n",
       "      <td>f</td>\n",
       "      <td>1968</td>\n",
       "      <td>54</td>\n",
       "      <td>50-60</td>\n",
       "      <td>53.61</td>\n",
       "      <td>72.86</td>\n",
       "      <td>5</td>\n",
       "      <td>4.43</td>\n",
       "      <td>149783.75</td>\n",
       "      <td>8897</td>\n",
       "      <td>2021-04-01 06:44:06.269773</td>\n",
       "      <td>382.39</td>\n",
       "      <td>Client 'Anormal'</td>\n",
       "    </tr>\n",
       "    <tr>\n",
       "      <th>3</th>\n",
       "      <td>2_209</td>\n",
       "      <td>2021-06-24 04:19:29.835891</td>\n",
       "      <td>s_52962</td>\n",
       "      <td>c_6941</td>\n",
       "      <td>69.99</td>\n",
       "      <td>2.0</td>\n",
       "      <td>m</td>\n",
       "      <td>2000</td>\n",
       "      <td>21</td>\n",
       "      <td>20-30</td>\n",
       "      <td>69.99</td>\n",
       "      <td>72.46</td>\n",
       "      <td>1</td>\n",
       "      <td>1.43</td>\n",
       "      <td>664.53</td>\n",
       "      <td>14</td>\n",
       "      <td>2021-04-21 02:54:28.780319</td>\n",
       "      <td>0.62</td>\n",
       "      <td>Client 'Normal'</td>\n",
       "    </tr>\n",
       "    <tr>\n",
       "      <th>4</th>\n",
       "      <td>0_1509</td>\n",
       "      <td>2023-01-11 08:22:08.194479</td>\n",
       "      <td>s_325227</td>\n",
       "      <td>c_4232</td>\n",
       "      <td>4.99</td>\n",
       "      <td>0.0</td>\n",
       "      <td>m</td>\n",
       "      <td>1980</td>\n",
       "      <td>43</td>\n",
       "      <td>40-50</td>\n",
       "      <td>50.16</td>\n",
       "      <td>38.74</td>\n",
       "      <td>4</td>\n",
       "      <td>2.73</td>\n",
       "      <td>2286.88</td>\n",
       "      <td>163</td>\n",
       "      <td>2021-04-03 22:59:43.064902</td>\n",
       "      <td>7.03</td>\n",
       "      <td>Client 'Normal'</td>\n",
       "    </tr>\n",
       "    <tr>\n",
       "      <th>...</th>\n",
       "      <td>...</td>\n",
       "      <td>...</td>\n",
       "      <td>...</td>\n",
       "      <td>...</td>\n",
       "      <td>...</td>\n",
       "      <td>...</td>\n",
       "      <td>...</td>\n",
       "      <td>...</td>\n",
       "      <td>...</td>\n",
       "      <td>...</td>\n",
       "      <td>...</td>\n",
       "      <td>...</td>\n",
       "      <td>...</td>\n",
       "      <td>...</td>\n",
       "      <td>...</td>\n",
       "      <td>...</td>\n",
       "      <td>...</td>\n",
       "      <td>...</td>\n",
       "      <td>...</td>\n",
       "    </tr>\n",
       "    <tr>\n",
       "      <th>657507</th>\n",
       "      <td>0_1551</td>\n",
       "      <td>2022-01-15 13:05:06.246925</td>\n",
       "      <td>s_150195</td>\n",
       "      <td>c_8489</td>\n",
       "      <td>12.99</td>\n",
       "      <td>0.0</td>\n",
       "      <td>f</td>\n",
       "      <td>1951</td>\n",
       "      <td>71</td>\n",
       "      <td>70-80</td>\n",
       "      <td>12.99</td>\n",
       "      <td>27.65</td>\n",
       "      <td>1</td>\n",
       "      <td>1.89</td>\n",
       "      <td>1082.76</td>\n",
       "      <td>72</td>\n",
       "      <td>2021-04-02 02:47:43.012785</td>\n",
       "      <td>3.10</td>\n",
       "      <td>Client 'Normal'</td>\n",
       "    </tr>\n",
       "    <tr>\n",
       "      <th>657508</th>\n",
       "      <td>1_639</td>\n",
       "      <td>2022-03-19 16:03:23.429229</td>\n",
       "      <td>s_181434</td>\n",
       "      <td>c_4370</td>\n",
       "      <td>10.99</td>\n",
       "      <td>1.0</td>\n",
       "      <td>f</td>\n",
       "      <td>1977</td>\n",
       "      <td>45</td>\n",
       "      <td>40-50</td>\n",
       "      <td>10.99</td>\n",
       "      <td>63.14</td>\n",
       "      <td>1</td>\n",
       "      <td>4.23</td>\n",
       "      <td>1170.78</td>\n",
       "      <td>83</td>\n",
       "      <td>2021-04-21 06:16:20.489213</td>\n",
       "      <td>3.67</td>\n",
       "      <td>Client 'Normal'</td>\n",
       "    </tr>\n",
       "    <tr>\n",
       "      <th>657509</th>\n",
       "      <td>0_1425</td>\n",
       "      <td>2022-12-20 04:33:37.584749</td>\n",
       "      <td>s_314704</td>\n",
       "      <td>c_304</td>\n",
       "      <td>12.99</td>\n",
       "      <td>0.0</td>\n",
       "      <td>f</td>\n",
       "      <td>1988</td>\n",
       "      <td>34</td>\n",
       "      <td>30-40</td>\n",
       "      <td>26.60</td>\n",
       "      <td>44.50</td>\n",
       "      <td>3</td>\n",
       "      <td>3.07</td>\n",
       "      <td>1673.07</td>\n",
       "      <td>115</td>\n",
       "      <td>2021-04-14 22:42:12.073579</td>\n",
       "      <td>5.04</td>\n",
       "      <td>Client 'Normal'</td>\n",
       "    </tr>\n",
       "    <tr>\n",
       "      <th>657510</th>\n",
       "      <td>0_1994</td>\n",
       "      <td>2021-07-16 20:36:35.350579</td>\n",
       "      <td>s_63204</td>\n",
       "      <td>c_2227</td>\n",
       "      <td>4.98</td>\n",
       "      <td>0.0</td>\n",
       "      <td>m</td>\n",
       "      <td>1986</td>\n",
       "      <td>35</td>\n",
       "      <td>30-40</td>\n",
       "      <td>30.97</td>\n",
       "      <td>37.24</td>\n",
       "      <td>2</td>\n",
       "      <td>2.87</td>\n",
       "      <td>2955.01</td>\n",
       "      <td>225</td>\n",
       "      <td>2021-04-04 19:17:57.245366</td>\n",
       "      <td>9.71</td>\n",
       "      <td>Client 'Normal'</td>\n",
       "    </tr>\n",
       "    <tr>\n",
       "      <th>657511</th>\n",
       "      <td>1_523</td>\n",
       "      <td>2022-09-28 01:12:01.973763</td>\n",
       "      <td>s_274568</td>\n",
       "      <td>c_3873</td>\n",
       "      <td>23.99</td>\n",
       "      <td>1.0</td>\n",
       "      <td>m</td>\n",
       "      <td>1995</td>\n",
       "      <td>27</td>\n",
       "      <td>20-30</td>\n",
       "      <td>56.83</td>\n",
       "      <td>77.72</td>\n",
       "      <td>4</td>\n",
       "      <td>3.76</td>\n",
       "      <td>2170.77</td>\n",
       "      <td>84</td>\n",
       "      <td>2021-04-02 19:47:10.951660</td>\n",
       "      <td>3.62</td>\n",
       "      <td>Client 'Normal'</td>\n",
       "    </tr>\n",
       "  </tbody>\n",
       "</table>\n",
       "<p>657512 rows × 19 columns</p>\n",
       "</div>"
      ],
      "text/plain": [
       "       id_prod                       date session_id client_id  price  categ  \\\n",
       "0       0_1518 2022-05-20 13:21:29.043970   s_211425     c_103   4.18    0.0   \n",
       "1        1_251 2022-02-02 07:55:19.149409   s_158752    c_8534  15.99    1.0   \n",
       "2       0_1277 2022-06-18 15:44:33.155329   s_225667    c_6714   7.99    0.0   \n",
       "3        2_209 2021-06-24 04:19:29.835891    s_52962    c_6941  69.99    2.0   \n",
       "4       0_1509 2023-01-11 08:22:08.194479   s_325227    c_4232   4.99    0.0   \n",
       "...        ...                        ...        ...       ...    ...    ...   \n",
       "657507  0_1551 2022-01-15 13:05:06.246925   s_150195    c_8489  12.99    0.0   \n",
       "657508   1_639 2022-03-19 16:03:23.429229   s_181434    c_4370  10.99    1.0   \n",
       "657509  0_1425 2022-12-20 04:33:37.584749   s_314704     c_304  12.99    0.0   \n",
       "657510  0_1994 2021-07-16 20:36:35.350579    s_63204    c_2227   4.98    0.0   \n",
       "657511   1_523 2022-09-28 01:12:01.973763   s_274568    c_3873  23.99    1.0   \n",
       "\n",
       "       sex  birth  age trancheAge  montantPanier  montantPanierMoyen  \\\n",
       "0        f   1986   36      30-40          21.17               33.51   \n",
       "1        m   1988   34      30-40          39.68               44.55   \n",
       "2        f   1968   54      50-60          53.61               72.86   \n",
       "3        m   2000   21      20-30          69.99               72.46   \n",
       "4        m   1980   43      40-50          50.16               38.74   \n",
       "...     ..    ...  ...        ...            ...                 ...   \n",
       "657507   f   1951   71      70-80          12.99               27.65   \n",
       "657508   f   1977   45      40-50          10.99               63.14   \n",
       "657509   f   1988   34      30-40          26.60               44.50   \n",
       "657510   m   1986   35      30-40          30.97               37.24   \n",
       "657511   m   1995   27      20-30          56.83               77.72   \n",
       "\n",
       "        taillePanier  taillePanierMoyen  chiffreAffaireClient  \\\n",
       "0                  2               2.85               2118.62   \n",
       "1                  4               2.90               3389.69   \n",
       "2                  5               4.43             149783.75   \n",
       "3                  1               1.43                664.53   \n",
       "4                  4               2.73               2286.88   \n",
       "...              ...                ...                   ...   \n",
       "657507             1               1.89               1082.76   \n",
       "657508             1               4.23               1170.78   \n",
       "657509             3               3.07               1673.07   \n",
       "657510             2               2.87               2955.01   \n",
       "657511             4               3.76               2170.77   \n",
       "\n",
       "        nombre d'achats           date_inscription  ventes_mensuelles  \\\n",
       "0                   181 2021-04-04 05:48:00.482557               7.81   \n",
       "1                   241 2021-04-07 11:27:39.031057              10.45   \n",
       "2                  8897 2021-04-01 06:44:06.269773             382.39   \n",
       "3                    14 2021-04-21 02:54:28.780319               0.62   \n",
       "4                   163 2021-04-03 22:59:43.064902               7.03   \n",
       "...                 ...                        ...                ...   \n",
       "657507               72 2021-04-02 02:47:43.012785               3.10   \n",
       "657508               83 2021-04-21 06:16:20.489213               3.67   \n",
       "657509              115 2021-04-14 22:42:12.073579               5.04   \n",
       "657510              225 2021-04-04 19:17:57.245366               9.71   \n",
       "657511               84 2021-04-02 19:47:10.951660               3.62   \n",
       "\n",
       "                 anormal  \n",
       "0        Client 'Normal'  \n",
       "1        Client 'Normal'  \n",
       "2       Client 'Anormal'  \n",
       "3        Client 'Normal'  \n",
       "4        Client 'Normal'  \n",
       "...                  ...  \n",
       "657507   Client 'Normal'  \n",
       "657508   Client 'Normal'  \n",
       "657509   Client 'Normal'  \n",
       "657510   Client 'Normal'  \n",
       "657511   Client 'Normal'  \n",
       "\n",
       "[657512 rows x 19 columns]"
      ]
     },
     "execution_count": 131,
     "metadata": {},
     "output_type": "execute_result"
    }
   ],
   "source": [
    "def cleprim(df,id):\n",
    "\n",
    "    l=len(df)-len(df[id].drop_duplicates())\n",
    "\n",
    "    if l==0:\n",
    "        print(\"C'est une clé primaire\")\n",
    "    else:\n",
    "        print(\"Ce n'est pas une clé primaire, il y a\",l,\"doublons\")\n",
    "\n",
    "    return\n",
    "\n",
    "cleprim(tableTotale,['session_id','client_id'])\n",
    "tableTotale"
   ]
  },
  {
   "cell_type": "markdown",
   "id": "4aeba61f",
   "metadata": {},
   "source": [
    "# Chiffre d'affaires par produit"
   ]
  },
  {
   "cell_type": "code",
   "execution_count": 132,
   "id": "d8334204",
   "metadata": {},
   "outputs": [
    {
     "name": "stdout",
     "output_type": "stream",
     "text": [
      "     id_prod           anormal  Chiffre d'affaires   categ    birth    age  \\\n",
      "0        0_0  Client 'Anormal'              348.75     0.0   183802   4216   \n",
      "1        0_0   Client 'Normal'             4128.75     0.0  2177710  48160   \n",
      "2        0_1  Client 'Anormal'              219.80     0.0    39530    901   \n",
      "3        0_1   Client 'Normal'             4934.51     0.0   888416  19319   \n",
      "4       0_10  Client 'Anormal'               35.90     0.0     3960     83   \n",
      "...      ...               ...                 ...     ...      ...    ...   \n",
      "5553    2_96   Client 'Normal'            25679.76  1072.0  1069593  14052   \n",
      "5554    2_97  Client 'Anormal'              321.98     4.0     3998     45   \n",
      "5555    2_97   Client 'Normal'             1770.89    22.0    21964    276   \n",
      "5556    2_98   Client 'Normal'              149.74     2.0     2003     18   \n",
      "5557    2_99   Client 'Normal'              594.93    14.0    13980    173   \n",
      "\n",
      "      montantPanier  montantPanierMoyen  taillePanier  taillePanierMoyen  \\\n",
      "0           3004.74             3997.96           284             286.97   \n",
      "1          34642.75            46519.25          3362            3257.84   \n",
      "2            789.21              858.60            66              61.82   \n",
      "3          16698.40            18561.03          1347            1336.34   \n",
      "4             49.88               74.06             4               5.90   \n",
      "...             ...                 ...           ...                ...   \n",
      "5553       42424.89            42288.25           919            1248.96   \n",
      "5554         453.48              180.92             4               3.22   \n",
      "5555        2602.79             1267.45            21              30.42   \n",
      "5556         149.74               91.80             1               1.00   \n",
      "5557         594.93              552.03             7              18.26   \n",
      "\n",
      "      chiffreAffaireClient  nombre d'achats  ventes_mensuelles    SumAll  \n",
      "0              23979883.47          1801571           77431.65   4477.50  \n",
      "1               2266970.70           164414            7172.01   4477.50  \n",
      "2               5201239.54           391460           16824.98   5154.31  \n",
      "3                970547.92            72128            3138.06   5154.31  \n",
      "4                625510.16            48944            2103.62    323.10  \n",
      "...                    ...              ...                ...       ...  \n",
      "5553            1036239.48            26875            1205.22  27835.71  \n",
      "5554             565309.22            10180             437.54   2092.87  \n",
      "5555              30851.01              771              33.87   2092.87  \n",
      "5556                275.40                3               0.13    149.74  \n",
      "5557              12410.31              259              12.16    594.93  \n",
      "\n",
      "[5558 rows x 14 columns]\n"
     ]
    },
    {
     "name": "stderr",
     "output_type": "stream",
     "text": [
      "C:\\Users\\thebe\\AppData\\Local\\Temp\\ipykernel_14988\\2399603885.py:4: FutureWarning: The default value of numeric_only in DataFrameGroupBy.sum is deprecated. In a future version, numeric_only will default to False. Either specify numeric_only or select only columns which should be valid for the function.\n",
      "  chiffreAffaireProduit = chiffreAffaireProduit.groupby(['id_prod','anormal']).sum().reset_index().sort_values(by='price').rename(columns={\"price\": \"Chiffre d'affaires\"})\n"
     ]
    },
    {
     "data": {
      "image/png": "[encoded data removed]",
      "text/plain": [
       "<Figure size 640x480 with 1 Axes>"
      ]
     },
     "metadata": {},
     "output_type": "display_data"
    },
    {
     "data": {
      "text/plain": [
       "<matplotlib.legend.Legend at 0x20035ab5dd0>"
      ]
     },
     "execution_count": 132,
     "metadata": {},
     "output_type": "execute_result"
    },
    {
     "data": {
      "image/png": "[encoded data removed]",
      "text/plain": [
       "<Figure size 640x480 with 1 Axes>"
      ]
     },
     "metadata": {},
     "output_type": "display_data"
    }
   ],
   "source": [
    "\n",
    "chiffreAffaireProduit = tableTotale.copy(deep=True)\n",
    "chiffreAffaireProduit.set_index('date')\n",
    "chiffreAffaireProduit.index = pd.to_datetime(chiffreAffaireProduit.index)\n",
    "chiffreAffaireProduit = chiffreAffaireProduit.groupby(['id_prod','anormal']).sum().reset_index().sort_values(by='price').rename(columns={\"price\": \"Chiffre d'affaires\"})\n",
    "\n",
    "chiffreAffaireProduit['SumAll'] = chiffreAffaireProduit[\"Chiffre d'affaires\"].groupby(chiffreAffaireProduit['id_prod']).transform('sum')\n",
    "print(chiffreAffaireProduit.sort_values(by='id_prod'))\n",
    "\n",
    "chiffreAffaireProduit = chiffreAffaireProduit.sort_values(by='SumAll')\n",
    "sns.barplot(x=\"Chiffre d'affaires\", y=\"id_prod\", data=chiffreAffaireProduit.head(10), hue='anormal')\n",
    "plt.legend(title='Type de client')\n",
    "plt.show()\n",
    "\n",
    "chiffreAffaireProduit = chiffreAffaireProduit.sort_values(by='SumAll',ascending=False)\n",
    "sns.barplot(x=\"Chiffre d'affaires\", y=\"id_prod\", data=chiffreAffaireProduit.head(20), hue='anormal')\n",
    "plt.legend(title='Type de client')\n"
   ]
  },
  {
   "cell_type": "markdown",
   "id": "e4c4102a",
   "metadata": {},
   "source": [
    "# Chiffre d'affaire par catégorie"
   ]
  },
  {
   "cell_type": "code",
   "execution_count": 133,
   "id": "859ed790",
   "metadata": {},
   "outputs": [
    {
     "data": {
      "image/png": "[encoded data removed]",
      "text/plain": [
       "<Figure size 1500x800 with 1 Axes>"
      ]
     },
     "metadata": {},
     "output_type": "display_data"
    },
    {
     "data": {
      "image/png": "[encoded data removed]",
      "text/plain": [
       "<Figure size 1500x800 with 1 Axes>"
      ]
     },
     "metadata": {},
     "output_type": "display_data"
    },
    {
     "ename": "TypeError",
     "evalue": "ufunc 'isfinite' not supported for the input types, and the inputs could not be safely coerced to any supported types according to the casting rule ''safe''",
     "output_type": "error",
     "traceback": [
      "\u001b[1;31m---------------------------------------------------------------------------\u001b[0m",
      "\u001b[1;31mTypeError\u001b[0m                                 Traceback (most recent call last)",
      "Cell \u001b[1;32mIn[133], line 26\u001b[0m\n\u001b[0;32m     23\u001b[0m plt\u001b[39m.\u001b[39mylabel(\u001b[39m'\u001b[39m\u001b[39mChiffre d\u001b[39m\u001b[39m\\'\u001b[39;00m\u001b[39maffaires\u001b[39m\u001b[39m'\u001b[39m)\n\u001b[0;32m     24\u001b[0m plt\u001b[39m.\u001b[39mshow()\n\u001b[1;32m---> 26\u001b[0m sns\u001b[39m.\u001b[39;49mlineplot(data\u001b[39m=\u001b[39;49mchiffreAffaireCategorie,x\u001b[39m=\u001b[39;49m\u001b[39m'\u001b[39;49m\u001b[39mdate\u001b[39;49m\u001b[39m'\u001b[39;49m,y\u001b[39m=\u001b[39;49m\u001b[39m'\u001b[39;49m\u001b[39mprice\u001b[39;49m\u001b[39m'\u001b[39;49m,hue\u001b[39m=\u001b[39;49m\u001b[39m'\u001b[39;49m\u001b[39mcateg\u001b[39;49m\u001b[39m'\u001b[39;49m)\n\u001b[0;32m     27\u001b[0m \u001b[39m#chiffreAffaireCategorie.plot.bar(stacked=True, x='date')\u001b[39;00m\n\u001b[0;32m     28\u001b[0m plt\u001b[39m.\u001b[39mshow()\n",
      "File \u001b[1;32mc:\\Users\\thebe\\AppData\\Local\\Programs\\Python\\Python311\\Lib\\site-packages\\seaborn\\relational.py:645\u001b[0m, in \u001b[0;36mlineplot\u001b[1;34m(data, x, y, hue, size, style, units, palette, hue_order, hue_norm, sizes, size_order, size_norm, dashes, markers, style_order, estimator, errorbar, n_boot, seed, orient, sort, err_style, err_kws, legend, ci, ax, **kwargs)\u001b[0m\n\u001b[0;32m    642\u001b[0m color \u001b[39m=\u001b[39m kwargs\u001b[39m.\u001b[39mpop(\u001b[39m\"\u001b[39m\u001b[39mcolor\u001b[39m\u001b[39m\"\u001b[39m, kwargs\u001b[39m.\u001b[39mpop(\u001b[39m\"\u001b[39m\u001b[39mc\u001b[39m\u001b[39m\"\u001b[39m, \u001b[39mNone\u001b[39;00m))\n\u001b[0;32m    643\u001b[0m kwargs[\u001b[39m\"\u001b[39m\u001b[39mcolor\u001b[39m\u001b[39m\"\u001b[39m] \u001b[39m=\u001b[39m _default_color(ax\u001b[39m.\u001b[39mplot, hue, color, kwargs)\n\u001b[1;32m--> 645\u001b[0m p\u001b[39m.\u001b[39;49mplot(ax, kwargs)\n\u001b[0;32m    646\u001b[0m \u001b[39mreturn\u001b[39;00m ax\n",
      "File \u001b[1;32mc:\\Users\\thebe\\AppData\\Local\\Programs\\Python\\Python311\\Lib\\site-packages\\seaborn\\relational.py:489\u001b[0m, in \u001b[0;36m_LinePlotter.plot\u001b[1;34m(self, ax, kws)\u001b[0m\n\u001b[0;32m    486\u001b[0m \u001b[39mif\u001b[39;00m \u001b[39mself\u001b[39m\u001b[39m.\u001b[39merr_style \u001b[39m==\u001b[39m \u001b[39m\"\u001b[39m\u001b[39mband\u001b[39m\u001b[39m\"\u001b[39m:\n\u001b[0;32m    488\u001b[0m     func \u001b[39m=\u001b[39m {\u001b[39m\"\u001b[39m\u001b[39mx\u001b[39m\u001b[39m\"\u001b[39m: ax\u001b[39m.\u001b[39mfill_between, \u001b[39m\"\u001b[39m\u001b[39my\u001b[39m\u001b[39m\"\u001b[39m: ax\u001b[39m.\u001b[39mfill_betweenx}[orient]\n\u001b[1;32m--> 489\u001b[0m     func(\n\u001b[0;32m    490\u001b[0m         sub_data[orient],\n\u001b[0;32m    491\u001b[0m         sub_data[\u001b[39mf\u001b[39;49m\u001b[39m\"\u001b[39;49m\u001b[39m{\u001b[39;49;00mother\u001b[39m}\u001b[39;49;00m\u001b[39mmin\u001b[39;49m\u001b[39m\"\u001b[39;49m], sub_data[\u001b[39mf\u001b[39;49m\u001b[39m\"\u001b[39;49m\u001b[39m{\u001b[39;49;00mother\u001b[39m}\u001b[39;49;00m\u001b[39mmax\u001b[39;49m\u001b[39m\"\u001b[39;49m],\n\u001b[0;32m    492\u001b[0m         color\u001b[39m=\u001b[39;49mline_color, \u001b[39m*\u001b[39;49m\u001b[39m*\u001b[39;49merr_kws\n\u001b[0;32m    493\u001b[0m     )\n\u001b[0;32m    495\u001b[0m \u001b[39melif\u001b[39;00m \u001b[39mself\u001b[39m\u001b[39m.\u001b[39merr_style \u001b[39m==\u001b[39m \u001b[39m\"\u001b[39m\u001b[39mbars\u001b[39m\u001b[39m\"\u001b[39m:\n\u001b[0;32m    497\u001b[0m     error_param \u001b[39m=\u001b[39m {\n\u001b[0;32m    498\u001b[0m         \u001b[39mf\u001b[39m\u001b[39m\"\u001b[39m\u001b[39m{\u001b[39;00mother\u001b[39m}\u001b[39;00m\u001b[39merr\u001b[39m\u001b[39m\"\u001b[39m: (\n\u001b[0;32m    499\u001b[0m             sub_data[other] \u001b[39m-\u001b[39m sub_data[\u001b[39mf\u001b[39m\u001b[39m\"\u001b[39m\u001b[39m{\u001b[39;00mother\u001b[39m}\u001b[39;00m\u001b[39mmin\u001b[39m\u001b[39m\"\u001b[39m],\n\u001b[0;32m    500\u001b[0m             sub_data[\u001b[39mf\u001b[39m\u001b[39m\"\u001b[39m\u001b[39m{\u001b[39;00mother\u001b[39m}\u001b[39;00m\u001b[39mmax\u001b[39m\u001b[39m\"\u001b[39m] \u001b[39m-\u001b[39m sub_data[other],\n\u001b[0;32m    501\u001b[0m         )\n\u001b[0;32m    502\u001b[0m     }\n",
      "File \u001b[1;32mc:\\Users\\thebe\\AppData\\Local\\Programs\\Python\\Python311\\Lib\\site-packages\\matplotlib\\__init__.py:1423\u001b[0m, in \u001b[0;36m_preprocess_data.<locals>.inner\u001b[1;34m(ax, data, *args, **kwargs)\u001b[0m\n\u001b[0;32m   1420\u001b[0m \u001b[39m@functools\u001b[39m\u001b[39m.\u001b[39mwraps(func)\n\u001b[0;32m   1421\u001b[0m \u001b[39mdef\u001b[39;00m \u001b[39minner\u001b[39m(ax, \u001b[39m*\u001b[39margs, data\u001b[39m=\u001b[39m\u001b[39mNone\u001b[39;00m, \u001b[39m*\u001b[39m\u001b[39m*\u001b[39mkwargs):\n\u001b[0;32m   1422\u001b[0m     \u001b[39mif\u001b[39;00m data \u001b[39mis\u001b[39;00m \u001b[39mNone\u001b[39;00m:\n\u001b[1;32m-> 1423\u001b[0m         \u001b[39mreturn\u001b[39;00m func(ax, \u001b[39m*\u001b[39;49m\u001b[39mmap\u001b[39;49m(sanitize_sequence, args), \u001b[39m*\u001b[39;49m\u001b[39m*\u001b[39;49mkwargs)\n\u001b[0;32m   1425\u001b[0m     bound \u001b[39m=\u001b[39m new_sig\u001b[39m.\u001b[39mbind(ax, \u001b[39m*\u001b[39margs, \u001b[39m*\u001b[39m\u001b[39m*\u001b[39mkwargs)\n\u001b[0;32m   1426\u001b[0m     auto_label \u001b[39m=\u001b[39m (bound\u001b[39m.\u001b[39marguments\u001b[39m.\u001b[39mget(label_namer)\n\u001b[0;32m   1427\u001b[0m                   \u001b[39mor\u001b[39;00m bound\u001b[39m.\u001b[39mkwargs\u001b[39m.\u001b[39mget(label_namer))\n",
      "File \u001b[1;32mc:\\Users\\thebe\\AppData\\Local\\Programs\\Python\\Python311\\Lib\\site-packages\\matplotlib\\axes\\_axes.py:5367\u001b[0m, in \u001b[0;36mAxes.fill_between\u001b[1;34m(self, x, y1, y2, where, interpolate, step, **kwargs)\u001b[0m\n\u001b[0;32m   5365\u001b[0m \u001b[39mdef\u001b[39;00m \u001b[39mfill_between\u001b[39m(\u001b[39mself\u001b[39m, x, y1, y2\u001b[39m=\u001b[39m\u001b[39m0\u001b[39m, where\u001b[39m=\u001b[39m\u001b[39mNone\u001b[39;00m, interpolate\u001b[39m=\u001b[39m\u001b[39mFalse\u001b[39;00m,\n\u001b[0;32m   5366\u001b[0m                  step\u001b[39m=\u001b[39m\u001b[39mNone\u001b[39;00m, \u001b[39m*\u001b[39m\u001b[39m*\u001b[39mkwargs):\n\u001b[1;32m-> 5367\u001b[0m     \u001b[39mreturn\u001b[39;00m \u001b[39mself\u001b[39;49m\u001b[39m.\u001b[39;49m_fill_between_x_or_y(\n\u001b[0;32m   5368\u001b[0m         \u001b[39m\"\u001b[39;49m\u001b[39mx\u001b[39;49m\u001b[39m\"\u001b[39;49m, x, y1, y2,\n\u001b[0;32m   5369\u001b[0m         where\u001b[39m=\u001b[39;49mwhere, interpolate\u001b[39m=\u001b[39;49minterpolate, step\u001b[39m=\u001b[39;49mstep, \u001b[39m*\u001b[39;49m\u001b[39m*\u001b[39;49mkwargs)\n",
      "File \u001b[1;32mc:\\Users\\thebe\\AppData\\Local\\Programs\\Python\\Python311\\Lib\\site-packages\\matplotlib\\axes\\_axes.py:5272\u001b[0m, in \u001b[0;36mAxes._fill_between_x_or_y\u001b[1;34m(self, ind_dir, ind, dep1, dep2, where, interpolate, step, **kwargs)\u001b[0m\n\u001b[0;32m   5268\u001b[0m         kwargs[\u001b[39m\"\u001b[39m\u001b[39mfacecolor\u001b[39m\u001b[39m\"\u001b[39m] \u001b[39m=\u001b[39m \\\n\u001b[0;32m   5269\u001b[0m             \u001b[39mself\u001b[39m\u001b[39m.\u001b[39m_get_patches_for_fill\u001b[39m.\u001b[39mget_next_color()\n\u001b[0;32m   5271\u001b[0m \u001b[39m# Handle united data, such as dates\u001b[39;00m\n\u001b[1;32m-> 5272\u001b[0m ind, dep1, dep2 \u001b[39m=\u001b[39m \u001b[39mmap\u001b[39m(\n\u001b[0;32m   5273\u001b[0m     ma\u001b[39m.\u001b[39mmasked_invalid, \u001b[39mself\u001b[39m\u001b[39m.\u001b[39m_process_unit_info(\n\u001b[0;32m   5274\u001b[0m         [(ind_dir, ind), (dep_dir, dep1), (dep_dir, dep2)], kwargs))\n\u001b[0;32m   5276\u001b[0m \u001b[39mfor\u001b[39;00m name, array \u001b[39min\u001b[39;00m [\n\u001b[0;32m   5277\u001b[0m         (ind_dir, ind), (\u001b[39mf\u001b[39m\u001b[39m\"\u001b[39m\u001b[39m{\u001b[39;00mdep_dir\u001b[39m}\u001b[39;00m\u001b[39m1\u001b[39m\u001b[39m\"\u001b[39m, dep1), (\u001b[39mf\u001b[39m\u001b[39m\"\u001b[39m\u001b[39m{\u001b[39;00mdep_dir\u001b[39m}\u001b[39;00m\u001b[39m2\u001b[39m\u001b[39m\"\u001b[39m, dep2)]:\n\u001b[0;32m   5278\u001b[0m     \u001b[39mif\u001b[39;00m array\u001b[39m.\u001b[39mndim \u001b[39m>\u001b[39m \u001b[39m1\u001b[39m:\n",
      "File \u001b[1;32mc:\\Users\\thebe\\AppData\\Local\\Programs\\Python\\Python311\\Lib\\site-packages\\numpy\\ma\\core.py:2360\u001b[0m, in \u001b[0;36mmasked_invalid\u001b[1;34m(a, copy)\u001b[0m\n\u001b[0;32m   2332\u001b[0m \u001b[39mdef\u001b[39;00m \u001b[39mmasked_invalid\u001b[39m(a, copy\u001b[39m=\u001b[39m\u001b[39mTrue\u001b[39;00m):\n\u001b[0;32m   2333\u001b[0m     \u001b[39m\"\"\"\u001b[39;00m\n\u001b[0;32m   2334\u001b[0m \u001b[39m    Mask an array where invalid values occur (NaNs or infs).\u001b[39;00m\n\u001b[0;32m   2335\u001b[0m \n\u001b[1;32m   (...)\u001b[0m\n\u001b[0;32m   2357\u001b[0m \n\u001b[0;32m   2358\u001b[0m \u001b[39m    \"\"\"\u001b[39;00m\n\u001b[1;32m-> 2360\u001b[0m     \u001b[39mreturn\u001b[39;00m masked_where(\u001b[39m~\u001b[39m(np\u001b[39m.\u001b[39;49misfinite(getdata(a))), a, copy\u001b[39m=\u001b[39mcopy)\n",
      "\u001b[1;31mTypeError\u001b[0m: ufunc 'isfinite' not supported for the input types, and the inputs could not be safely coerced to any supported types according to the casting rule ''safe''"
     ]
    },
    {
     "data": {
      "image/png": "[encoded data removed]",
      "text/plain": [
       "<Figure size 640x480 with 1 Axes>"
      ]
     },
     "metadata": {},
     "output_type": "display_data"
    }
   ],
   "source": [
    "plt.figure(figsize=(15,8))\n",
    "chiffreAffaireCategorie = tableTotale.groupby(by=[pd.Grouper(key='date', freq='M'), 'categ'])['price'].sum().unstack(fill_value=0).reset_index()\n",
    "chiffreAffaireCategorie['date'] = pd.to_datetime(chiffreAffaireCategorie['date']).dt.date\n",
    "chiffreAffaireCategorie[1.0] = chiffreAffaireCategorie[1.0] + chiffreAffaireCategorie[0.0]\n",
    "chiffreAffaireCategorie[2.0] = chiffreAffaireCategorie[1.0] + chiffreAffaireCategorie[2.0]\n",
    "\n",
    "sns.barplot(x = 'date', y = 2.0, data = chiffreAffaireCategorie, color = 'limegreen')\n",
    "sns.barplot(x = 'date', y = 1.0, data = chiffreAffaireCategorie, color = 'coral')\n",
    "sns.barplot(x = 'date', y = 0.0, data = chiffreAffaireCategorie, color = 'slateblue')\n",
    "\n",
    "plt.ylabel('Chiffre d\\'affaire')\n",
    "plt.xticks(rotation=45)\n",
    "\n",
    "\n",
    "chiffreAffaireCategorie = tableTotale.copy(deep=True)\n",
    "\n",
    "plt.figure(figsize=(15,8))\n",
    "chiffreAffaireCategorie = chiffreAffaireCategorie.groupby(by=[pd.Grouper(key='date', freq='M'), 'categ'])['price'].sum().reset_index()#.unstack(fill_value=0)##\n",
    "chiffreAffaireCategorie['date'] = pd.to_datetime(chiffreAffaireCategorie['date']).dt.date\n",
    "\n",
    "sns.barplot(data=chiffreAffaireCategorie,x='date',y='price',hue='categ')\n",
    "plt.xticks(rotation=45)\n",
    "plt.ylabel('Chiffre d\\'affaires')\n",
    "plt.show()\n",
    "\n",
    "sns.lineplot(data=chiffreAffaireCategorie,x='date',y='price',hue='categ')\n",
    "#chiffreAffaireCategorie.plot.bar(stacked=True, x='date')\n",
    "plt.show()\n",
    "print(chiffreAffaireCategorie)\n",
    "\n",
    "\n"
   ]
  },
  {
   "cell_type": "code",
   "execution_count": null,
   "id": "00f82078",
   "metadata": {},
   "outputs": [],
   "source": [
    "chiffreAffaireCategorie = tableTotale.groupby(by=[pd.Grouper(key='date', freq='M'), 'categ', 'anormal'])['price'].sum().unstack(fill_value=0).reset_index()\n",
    "\n",
    "chiffreAffaireCategorie['date'] = pd.to_datetime(chiffreAffaireCategorie['date']).dt.strftime('%m/%Y')\n",
    "\n",
    "chiffreAffaireCategorie = pd.melt(chiffreAffaireCategorie, id_vars=[\"date\",'categ'], var_name=\"Type_client\", value_name=\"Chiffre d\\'affaires total\")\n",
    "\n",
    "chiffreAffaireCategorie = chiffreAffaireCategorie.sort_values(by='date')\n",
    "\n",
    "hue = chiffreAffaireCategorie[['categ', 'Type_client']].apply(lambda row: f\"{row.categ}, {row.Type_client}\", axis=1)\n",
    "hue.name = 'Catégorie, Type_client'\n",
    "\n",
    "f,(ax1,ax2) = plt.subplots(2, figsize=(50,10))\n",
    "\n",
    "ax2.legend_ = None\n",
    "\n",
    "hue_order=[\"0.0, Client 'Anormal'\",\"0.0, Client 'Normal'\",\"1.0, Client 'Anormal'\",\"1.0, Client 'Normal'\",\"2.0, Client 'Anormal'\",\"2.0, Client 'Normal'\"]\n",
    "sns.barplot(x='date', y=\"Chiffre d\\'affaires total\", hue=hue,hue_order=hue_order, data=chiffreAffaireCategorie.iloc[:72,:], palette='Paired',ax=ax1)\n",
    "\n",
    "sns.barplot(x='date', y=\"Chiffre d\\'affaires total\", hue=hue,hue_order=hue_order, data=chiffreAffaireCategorie.iloc[72:,:], palette='Paired',ax=ax2)\n",
    "\n"
   ]
  },
  {
   "cell_type": "markdown",
   "id": "ce49096b",
   "metadata": {},
   "source": [
    "# Répartition des clients"
   ]
  },
  {
   "cell_type": "markdown",
   "id": "9ab4d864",
   "metadata": {},
   "source": [
    "Courbe de Lorenz"
   ]
  },
  {
   "cell_type": "code",
   "execution_count": null,
   "id": "d6053d95",
   "metadata": {},
   "outputs": [],
   "source": [
    "def lorenz(variable, title, ax):\n",
    "    X = variable.values\n",
    "    X = np.sort(X)\n",
    "\n",
    "    # Indice de Gini\n",
    "    def gini(array):\n",
    "        sorted_array = array.copy()\n",
    "        sorted_array.sort()\n",
    "        n = array.size\n",
    "        coef_ = 2. / n\n",
    "        const_ = (n + 1.) / n\n",
    "        weighted_sum = sum([(i + 1) * yi for i, yi in enumerate(sorted_array)])\n",
    "        return coef_ * weighted_sum / (sorted_array.sum()) - const_\n",
    "\n",
    "    print('Incide de Gini :', gini(X))\n",
    "\n",
    "    # Courbe de Lorenz\n",
    "    X_lorenz = X.cumsum() / X.sum()\n",
    "    X_lorenz = np.insert(X_lorenz, 0, 0)\n",
    "    # X_lorenz[0], X_lorenz[-1]\n",
    "    y = np.arange(X_lorenz.size) / (X_lorenz.size - 1)\n",
    "    lorenz = pd.DataFrame()\n",
    "    lorenz['X'] = pd.Series(X_lorenz)\n",
    "    lorenz['Y'] = pd.Series(y)\n",
    "    sns.scatterplot(data=lorenz, x='Y', y='X', marker='x', ax=ax)\n",
    "\n",
    "    # Diagonale\n",
    "    a = np.arange(0, 1, .01)\n",
    "    x = a\n",
    "    y = a\n",
    "\n",
    "    # Graphique\n",
    "    sns.lineplot(x=x, y=y, ax=ax)\n",
    "    ax.set_xlim([0, 1])\n",
    "    ax.set_ylim([0, 1])\n",
    "    ax.set(xlabel=title)\n"
   ]
  },
  {
   "cell_type": "code",
   "execution_count": null,
   "id": "17b5ad3a",
   "metadata": {},
   "outputs": [],
   "source": [
    "chiffreAffaireClient = tableTotale.groupby('client_id')['price'].sum().rename('chiffre d\\'affaire').sort_values()\n",
    "chiffreAffaireClientNormaux = tableTotaleNormal.groupby('client_id')['price'].sum().rename('chiffre d\\'affaire').sort_values()\n",
    "\n",
    "fig, (ax1,ax2) = plt.subplots(2, figsize=(10,10))\n",
    "\n",
    "lorenz(chiffreAffaireClientNormaux, 'Répartition du chiffre d\\'affaires les clients \\'normaux\\'', ax1)\n",
    "lorenz(chiffreAffaireClient, 'Répartition du chiffre d\\'affaires entre tous les clients', ax2)"
   ]
  },
  {
   "cell_type": "code",
   "execution_count": null,
   "id": "b8d5f027",
   "metadata": {},
   "outputs": [],
   "source": [
    "tableTotaleNormal"
   ]
  },
  {
   "cell_type": "markdown",
   "id": "d1893108",
   "metadata": {},
   "source": [
    "# Corrélation entre les caractéristiques"
   ]
  },
  {
   "cell_type": "code",
   "execution_count": null,
   "id": "03c135ab",
   "metadata": {},
   "outputs": [],
   "source": [
    "print(tableTotale.columns)\n",
    "\"\"\"sns.heatmap(tableTotale.replace({\"m\": 0,\"f\": 1,\"Client 'Normal'\": 0,\"Client 'Anormal'\": 1}).corr(method='pearson'), annot = True, fmt='.2g',cmap= 'YlGnBu')\"\"\"\n",
    "\n",
    "mask = np.triu(np.ones_like(tableTotaleNormal.replace({\"m\": 0,\"f\": 1}).corr()))\n",
    "\n",
    "sns.heatmap(tableTotaleNormal.replace({\"m\": 0,\"f\": 1}).corr(method='pearson'),vmin=-1,vmax=1, annot = True, mask=mask, fmt='.2g',cmap= 'coolwarm')\n",
    "\n",
    "mask = np.triu(np.ones_like(tableTotale.replace({\"m\": 0,\"f\": 1,\"Client 'Normal'\": 0,\"Client 'Anormal'\": 1}).corr()))\n",
    "\n",
    "plt.show()\n",
    "sns.heatmap(tableTotale.replace({\"m\": 0,\"f\": 1,\"Client 'Normal'\": 0,\"Client 'Anormal'\": 1}).corr(method='pearson'),vmin=-1,vmax=1, annot = True, mask=mask, fmt='.2g',cmap= 'coolwarm')"
   ]
  },
  {
   "cell_type": "code",
   "execution_count": null,
   "id": "bf79a54c",
   "metadata": {},
   "outputs": [],
   "source": [
    "import statsmodels.api as sm\n",
    "from statsmodels.formula.api import ols\n",
    "model = ols('price ~ sex', data=tableTotale).fit()\n",
    "anova_table = sm.stats.anova_lm(model, typ=2)\n",
    "anova_table"
   ]
  },
  {
   "cell_type": "code",
   "execution_count": null,
   "id": "a137ac92",
   "metadata": {},
   "outputs": [],
   "source": [
    "Lcategorie = ['price', 'categ', 'sex', 'age', 'nombre d\\'achats', 'ventes_mensuelles', 'anormal']\n",
    "# sns.pairplot(tableTotale.loc[:,Lcategorie].replace({\"m\": 0,\"f\": 1,\"Client 'Normal'\": 0,\"Client 'Anormal'\": 1}))"
   ]
  },
  {
   "cell_type": "code",
   "execution_count": null,
   "id": "4dd9b35b",
   "metadata": {},
   "outputs": [],
   "source": [
    "corr_mat = tableTotale.replace({\"m\": 0,\"f\": 1,\"Client 'Normal'\": 0,\"Client 'Anormal'\": 1}).corr(method='pearson')\n",
    "\n",
    "sorted_mat = corr_mat.unstack().sort_values()\n",
    "\n",
    "# sorted_mat.to_excel(excel_writer = \"test.xlsx\")"
   ]
  },
  {
   "cell_type": "markdown",
   "id": "9081e191",
   "metadata": {},
   "source": [
    "# Corrélation entre l'âge et les autres caractéristiques"
   ]
  },
  {
   "cell_type": "markdown",
   "id": "716b24b5",
   "metadata": {},
   "source": [
    "On commence par étudier combien il y a de clients par tranche d'âge."
   ]
  },
  {
   "cell_type": "code",
   "execution_count": null,
   "id": "5e26eae9",
   "metadata": {},
   "outputs": [],
   "source": [
    "data = tableTotale[tableTotale['anormal']==\"Client 'Normal'\"].groupby(by='client_id').mean().merge(tableTotale[['sex','client_id','anormal']], how='inner', on='client_id').drop_duplicates()\n",
    "data['age'] = data['age'].apply(int)\n",
    "data['trancheAge'] = data['age'].apply(arrondiNInf,n=inter).apply(str)+'-'+(data['age'].apply(arrondiNInf,n=inter)+inter).apply(str)\n",
    "\n",
    "plt.figure(figsize=(20,10))\n",
    "ax = sns.histplot(data=data.sort_values(by='age'), x='trancheAge', hue='sex', multiple='dodge')\n",
    "\n",
    "for container in ax.containers:\n",
    "    ax.bar_label(container)"
   ]
  },
  {
   "cell_type": "markdown",
   "id": "46803e05",
   "metadata": {},
   "source": [
    "On remarque que la catégorie est 90-100 n'est pas représenté dans nos clients. Et qu'il y a autant d'hommes que de femmes dans chaque tranche d'âge."
   ]
  },
  {
   "cell_type": "markdown",
   "id": "57bbf9a6",
   "metadata": {},
   "source": [
    "age\tnombre d'achats \t0,019005146\n",
    "ventes_mensuelles\tage\t\t0,019041955\n",
    "age\tsex\t\t0,041151568\n",
    "age\tcateg\t\t0,096243004\n",
    "age\tprice\t\t0,208040753"
   ]
  },
  {
   "cell_type": "markdown",
   "id": "ef89a4a8",
   "metadata": {},
   "source": [
    "Le coefficient de pearson entre l'âge et le nombre d'achats (ou de ventes) est très faible (0.02), ce qui laisse sous-entendre qu'il ni a pas de corrélation entre ces deux caractéristiques. Vérifions cela à l'aide de diagramme en boite en prenant le soin d'exclure les 4 clients anormaux."
   ]
  },
  {
   "cell_type": "code",
   "execution_count": null,
   "id": "697040a4",
   "metadata": {},
   "outputs": [],
   "source": [
    "plt.figure(figsize=(10,5))\n",
    "sns.boxplot(data=tableTotaleNormal.sort_values(by='age'), x='trancheAge', y=\"nombre d'achats\",hue='sex')\n",
    "plt.show()\n",
    "plt.figure(figsize=(10,5))\n",
    "sns.boxplot(data=tableTotaleNormal.sort_values(by='age'), x='trancheAge', y=\"ventes_mensuelles\",hue='sex')"
   ]
  },
  {
   "cell_type": "markdown",
   "id": "8a62a343",
   "metadata": {},
   "source": [
    "Voyons maintenant la taille moyenne du panier et son montant moyen par âge"
   ]
  },
  {
   "cell_type": "code",
   "execution_count": null,
   "id": "78b5a65c",
   "metadata": {},
   "outputs": [],
   "source": [
    "plt.figure(figsize=(10,5))\n",
    "sns.boxplot(data=tableTotaleNormal.drop_duplicates(subset=['client_id']).sort_values(by='age'), x='trancheAge', y=\"montantPanierMoyen\",hue='sex')\n",
    "\n",
    "plt.figure(figsize=(10,5))\n",
    "sns.boxplot(data=tableTotaleNormal.drop_duplicates(subset=['client_id']).sort_values(by='age'), x='trancheAge', y=\"taillePanierMoyen\",hue='sex')"
   ]
  },
  {
   "cell_type": "code",
   "execution_count": null,
   "id": "e87fe08b",
   "metadata": {},
   "outputs": [],
   "source": [
    "plt.figure(figsize=(20,10))\n",
    "sns.boxplot(data=tableTotaleNormal.drop_duplicates(subset=['client_id']).sort_values(by='age'), x='age', y=\"montantPanierMoyen\")\n",
    "\n",
    "plt.figure(figsize=(20,10))\n",
    "sns.boxplot(data=tableTotaleNormal.drop_duplicates(subset=['client_id']).sort_values(by='age'), x='age', y=\"taillePanierMoyen\")"
   ]
  },
  {
   "cell_type": "markdown",
   "id": "8d0f4652",
   "metadata": {},
   "source": [
    "On peut remarquer que les 30-50 ans sont les clients avec le plus grand nombre d'achats en moyenne."
   ]
  },
  {
   "cell_type": "markdown",
   "id": "f04b6132",
   "metadata": {},
   "source": [
    "On va ensuite s'intéresser à la relation entre l'âge, le sexe et la catégorie du livre acheté."
   ]
  },
  {
   "cell_type": "code",
   "execution_count": null,
   "id": "2af2078e",
   "metadata": {},
   "outputs": [],
   "source": [
    "plt.figure(figsize=(20,10))\n",
    "sns.displot(data=tableTotaleNormal.sort_values(by='age'), x='trancheAge', hue='sex',multiple='dodge',col='categ')"
   ]
  },
  {
   "cell_type": "markdown",
   "id": "314a2331",
   "metadata": {},
   "source": [
    "Grâce à ces graphiques, on peut se rendre compte que le sexe n'a presque aucune incidence sur le comportement d'achat du client (Cp = 0.04). Au contraire, la catégorie achetée à un lien très faible avec l'âge."
   ]
  },
  {
   "cell_type": "markdown",
   "id": "4bcfa131",
   "metadata": {},
   "source": [
    "Voyons plus en détail la relation entre l'âge et la catégorie achetée."
   ]
  },
  {
   "cell_type": "code",
   "execution_count": null,
   "id": "3102e543",
   "metadata": {},
   "outputs": [],
   "source": [
    "plt.figure(figsize=(20,10))\n",
    "sns.histplot(data=tableTotaleNormal.sort_values(by='age'), x='age', hue='categ',multiple='stack',bins=93-17)"
   ]
  },
  {
   "cell_type": "markdown",
   "id": "005a9e68",
   "metadata": {},
   "source": [
    "On peut voir plus facilement la répartition des catégories par tranche d'âge grâce à ce graphique, les 10-30 ans achètent environ autant de chaque catégorie, tandis que les 30+ n'achètent presque aucun livre de la deuxième catégorie."
   ]
  },
  {
   "cell_type": "markdown",
   "id": "a8965ff3",
   "metadata": {},
   "source": [
    "Voyons maintenant la corrélation entre l'âge et le prix du livre acheté moyen."
   ]
  },
  {
   "cell_type": "code",
   "execution_count": null,
   "id": "698a7288",
   "metadata": {},
   "outputs": [],
   "source": [
    "plt.figure(figsize=(20,10))\n",
    "sns.boxplot(data=tableTotaleNormal.sort_values(by='age'), x='trancheAge', y='price')\n",
    "\n",
    "plt.figure(figsize=(20,10))\n",
    "sns.boxplot(data=tableTotaleNormal.sort_values(by='age'), x='trancheAge', y='price', hue='categ')"
   ]
  },
  {
   "cell_type": "markdown",
   "id": "4068d417",
   "metadata": {},
   "source": [
    "On peut remarquer que les 10-30 ans achètent des livres aux prix moyens les plus élevés. Mais on se rend compte sur le deuxième graphique que cet ecart est due à la différence du prix moyen entre chaque catégorie."
   ]
  },
  {
   "cell_type": "markdown",
   "id": "e3a9f2d1",
   "metadata": {},
   "source": [
    "# Corrélation entre le prix et la catégorie"
   ]
  },
  {
   "cell_type": "code",
   "execution_count": null,
   "id": "3c4e8fc7",
   "metadata": {},
   "outputs": [],
   "source": [
    "# f,(ax1,ax2) = plt.subplots(2,figsize=(20,10),sharex=True)\n",
    "plt.figure(figsize=(20,10))\n",
    "sns.boxplot(data=tableTotaleNormal.drop_duplicates(subset=['id_prod']).sort_values(by='categ'), x='price', y='categ', orient='h')\n"
   ]
  },
  {
   "cell_type": "markdown",
   "id": "86462584",
   "metadata": {},
   "source": [
    "On peut remarquer que la catégorie 2 est bien plus chère en moyenne que les deux autres."
   ]
  },
  {
   "cell_type": "markdown",
   "id": "8636fb2d",
   "metadata": {},
   "source": [
    "# Corrélation entre le sexe et les autres caractéristiques"
   ]
  },
  {
   "cell_type": "code",
   "execution_count": null,
   "id": "bda6b9d8",
   "metadata": {},
   "outputs": [],
   "source": [
    "tableTotale.sort_values(by='client_id')"
   ]
  },
  {
   "cell_type": "code",
   "execution_count": null,
   "id": "0e6c3ddc",
   "metadata": {},
   "outputs": [],
   "source": [
    "tableTotale.groupby(by='client_id').mean().merge(tableTotale[['sex','client_id','anormal']], how='inner', on='client_id').drop_duplicates()"
   ]
  },
  {
   "cell_type": "code",
   "execution_count": null,
   "id": "55b05175",
   "metadata": {},
   "outputs": [],
   "source": [
    "data = tableTotale[tableTotale['anormal']==\"Client 'Normal'\"].groupby(by='client_id').mean().merge(tableTotale[['sex','client_id']], how='inner', on='client_id').drop_duplicates()\n",
    "data['age'] = data['age'].apply(int)\n",
    "data['trancheAge'] = data['age'].apply(arrondiNInf,n=inter).apply(str)\\\n",
    "                            +'-'+(data['age'].apply(arrondiNInf,n=inter)+inter).apply(str)"
   ]
  },
  {
   "cell_type": "markdown",
   "id": "5ba2f9c2",
   "metadata": {},
   "source": [
    "categ\tsex\t    0,000508974\n",
    "price\tsex \t0,007498797\n",
    "age\tsex\t\t0,041151568\n",
    "sex\tnombre d'achats\t\t0,187543789"
   ]
  },
  {
   "cell_type": "code",
   "execution_count": null,
   "id": "928ebbc8",
   "metadata": {},
   "outputs": [],
   "source": [
    "fig, ax = plt.subplots(figsize=(40,20))\n",
    "sns.scatterplot(data=data, x='age', y=\"ventes_mensuelles\", hue='sex', ax=ax)"
   ]
  },
  {
   "cell_type": "code",
   "execution_count": null,
   "id": "c6458180",
   "metadata": {},
   "outputs": [],
   "source": [
    "data"
   ]
  },
  {
   "cell_type": "code",
   "execution_count": null,
   "id": "5a9e878b",
   "metadata": {},
   "outputs": [],
   "source": [
    "sns.boxplot(data=data.sort_values(by='age'), x='trancheAge', y=\"nombre d'achats\", hue='sex')"
   ]
  },
  {
   "cell_type": "markdown",
   "id": "8c424608",
   "metadata": {},
   "source": [
    "L'influence du sexe sur le nombre d'achats est donc assez faible si on exclue la tranche 90-100 ans (qui je rappelle ne peut être étudiée à cause de son faible échantillon)."
   ]
  },
  {
   "cell_type": "markdown",
   "id": "d26d1475",
   "metadata": {},
   "source": [
    "# Corrélation avec le panier moyen"
   ]
  },
  {
   "cell_type": "code",
   "execution_count": null,
   "id": "74c94533",
   "metadata": {},
   "outputs": [],
   "source": [
    "data = tableTotaleNormal.drop_duplicates(subset=['client_id', 'montantPanierMoyen'])\n",
    "plt.figure(figsize=(20,10))\n",
    "sns.boxplot(data=data,x='trancheAge', y='montantPanierMoyen')\n"
   ]
  },
  {
   "cell_type": "code",
   "execution_count": null,
   "id": "51178ed7",
   "metadata": {},
   "outputs": [],
   "source": [
    "plt.figure(figsize=(20,10))\n",
    "sns.boxplot(data=data,x='age', y='montantPanierMoyen')"
   ]
  },
  {
   "cell_type": "code",
   "execution_count": null,
   "id": "ebcf7ea9",
   "metadata": {},
   "outputs": [],
   "source": []
  },
  {
   "cell_type": "markdown",
   "id": "cb2f88e7",
   "metadata": {},
   "source": [
    "# Influence de ces différentes caractéristiques sur le chiffre d'affaires"
   ]
  },
  {
   "cell_type": "code",
   "execution_count": null,
   "id": "f839c651",
   "metadata": {},
   "outputs": [],
   "source": []
  },
  {
   "cell_type": "markdown",
   "id": "8d6a30f2",
   "metadata": {},
   "source": [
    "# Test"
   ]
  },
  {
   "cell_type": "code",
   "execution_count": null,
   "id": "b8e6e430",
   "metadata": {},
   "outputs": [],
   "source": [
    "tableTotaleNormal.sort_values(by='session_id')"
   ]
  },
  {
   "cell_type": "code",
   "execution_count": null,
   "id": "60225910",
   "metadata": {},
   "outputs": [],
   "source": []
  }
 ],
 "metadata": {
  "kernelspec": {
   "display_name": "Python 3.11.1 64-bit",
   "language": "python",
   "name": "python3"
  },
  "language_info": {
   "codemirror_mode": {
    "name": "ipython",
    "version": 3
   },
   "file_extension": ".py",
   "mimetype": "text/x-python",
   "name": "python",
   "nbconvert_exporter": "python",
   "pygments_lexer": "ipython3",
   "version": "3.11.1"
  },
  "vscode": {
   "interpreter": {
    "hash": "48ce5a6842f0c5774be0b9ccd8bca9efa5ddc24bf0500d93ce18e8fd05a1e562"
   }
  }
 },
 "nbformat": 4,
 "nbformat_minor": 5
}
