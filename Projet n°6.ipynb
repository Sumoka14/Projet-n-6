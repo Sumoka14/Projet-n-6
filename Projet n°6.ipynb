{
 "cells": [
  {
   "cell_type": "code",
   "execution_count": null,
   "id": "3dbe0921",
   "metadata": {},
   "outputs": [],
   "source": [
    "# importations des librairies\n",
    "\n",
    "from __future__ import print_function\n",
    "from ipywidgets import interact, interactive, fixed,interact_manual\n",
    "import ipywidgets as widgets\n",
    "\n",
    "import pandas as pd\n",
    "import matplotlib.pyplot as plt\n",
    "import matplotlib\n",
    "from statsmodels.tsa.seasonal import seasonal_decompose\n",
    "import seaborn as sns\n",
    "import numpy as np\n",
    "\n",
    "from scipy.stats import pearsonr\n",
    "from scipy.stats import bartlett\n",
    "from scipy.stats import shapiro\n",
    "from scipy.stats import chi2_contingency\n",
    "from scipy.stats import kendalltau, spearmanr\n",
    "\n",
    "from sklearn.preprocessing import StandardScaler\n",
    "from sklearn.datasets import make_regression, make_circles\n",
    "\n",
    "import statsmodels.stats.multicomp as multi\n",
    "import statsmodels.api as sm\n",
    "from statsmodels.formula.api import ols\n",
    "\n",
    "sns.plotting_context(\"talk\")\n",
    "sns.set_palette(\"Dark2\")\n"
   ]
  },
  {
   "cell_type": "markdown",
   "id": "80d4d693",
   "metadata": {},
   "source": [
    "# Vérification des tables"
   ]
  },
  {
   "cell_type": "code",
   "execution_count": null,
   "id": "04f2a334",
   "metadata": {},
   "outputs": [],
   "source": [
    "# Lecture des fichiers\n",
    "produit = pd.read_csv(\"./data/products.csv\")\n",
    "client = pd.read_csv(\"./data/customers.csv\")\n",
    "vente = pd.read_csv(\"./data/transactions.csv\")"
   ]
  },
  {
   "cell_type": "markdown",
   "id": "9b4e28e2",
   "metadata": {},
   "source": [
    "# Produit"
   ]
  },
  {
   "cell_type": "code",
   "execution_count": null,
   "id": "c1f32145",
   "metadata": {},
   "outputs": [],
   "source": [
    "# Vérification du la table produit\n",
    "print(produit.head(5))"
   ]
  },
  {
   "cell_type": "code",
   "execution_count": null,
   "id": "52076925",
   "metadata": {},
   "outputs": [],
   "source": [
    "# Vérification des variables de la table produit\n",
    "print(produit.shape)\n",
    "print(produit.describe(include='all'))"
   ]
  },
  {
   "cell_type": "markdown",
   "id": "3e6507b2",
   "metadata": {},
   "source": [
    "'id_prod' est bel et bien une clé primaire, car ils sont tous uniques."
   ]
  },
  {
   "cell_type": "markdown",
   "id": "e4a0e54a",
   "metadata": {},
   "source": [
    "Cependant, on peut remarquer que certains prix sont négatifs"
   ]
  },
  {
   "cell_type": "code",
   "execution_count": null,
   "id": "7915fe41",
   "metadata": {},
   "outputs": [],
   "source": [
    "# On vérifie quels sont les prix négatifs\n",
    "print(produit.sort_values(by='price'))"
   ]
  },
  {
   "cell_type": "markdown",
   "id": "025028eb",
   "metadata": {},
   "source": [
    "On voit que le prix négatif correspond au produit 'T_0'"
   ]
  },
  {
   "cell_type": "code",
   "execution_count": null,
   "id": "adbdf317",
   "metadata": {},
   "outputs": [],
   "source": [
    "# On retire les prix négatifs\n",
    "produit = produit[produit['id_prod'] != 'T_0']\n",
    "print(produit.shape)\n",
    "print(produit.describe(include='all'))"
   ]
  },
  {
   "cell_type": "code",
   "execution_count": null,
   "id": "deeea985",
   "metadata": {},
   "outputs": [],
   "source": [
    "# On vérifie comment est codée la catégorie\n",
    "print(\"Les différentes valeurs de la colonne categ sont :\",produit.categ.unique())"
   ]
  },
  {
   "cell_type": "markdown",
   "id": "9a9d15d2",
   "metadata": {},
   "source": [
    "# Client"
   ]
  },
  {
   "cell_type": "code",
   "execution_count": null,
   "id": "7f1f4339",
   "metadata": {},
   "outputs": [],
   "source": [
    "# On regarde la table client\n",
    "client.sample(5)"
   ]
  },
  {
   "cell_type": "code",
   "execution_count": null,
   "id": "645d8f12",
   "metadata": {},
   "outputs": [],
   "source": [
    "# Vérification des variables de la table client\n",
    "print(client.shape)\n",
    "print(client.describe(include='all'))"
   ]
  },
  {
   "cell_type": "markdown",
   "id": "90cd34fc",
   "metadata": {},
   "source": [
    "'client_id' est aussi une clé primaire pour les mêmes conditions"
   ]
  },
  {
   "cell_type": "code",
   "execution_count": null,
   "id": "0a35e7e5",
   "metadata": {},
   "outputs": [],
   "source": [
    "# Vérification de comment est codé le sexe\n",
    "print(\"Les différentes valeurs de la colonne sex sont :\",client.sex.unique())"
   ]
  },
  {
   "cell_type": "markdown",
   "id": "779151e5",
   "metadata": {},
   "source": [
    "# Vente"
   ]
  },
  {
   "cell_type": "code",
   "execution_count": null,
   "id": "9673ab90",
   "metadata": {},
   "outputs": [],
   "source": [
    "# Vérification de la table vente\n",
    "print(vente.head(5))"
   ]
  },
  {
   "cell_type": "markdown",
   "id": "f1749dcf",
   "metadata": {},
   "source": [
    "On retire les lignes de test"
   ]
  },
  {
   "cell_type": "code",
   "execution_count": null,
   "id": "708be36a",
   "metadata": {},
   "outputs": [],
   "source": [
    "# Suppression des lignes établies comme test précédement\n",
    "vente = vente.drop(vente[vente.id_prod == 'T_0'].index)\n",
    "vente['date'] = pd.to_datetime(vente['date'], format='%Y-%m-%d')"
   ]
  },
  {
   "cell_type": "code",
   "execution_count": null,
   "id": "a39a2160",
   "metadata": {},
   "outputs": [],
   "source": [
    "# Vérification des variables de la table vente\n",
    "print(vente.shape)\n",
    "print(vente.describe(include='all',datetime_is_numeric=True))"
   ]
  },
  {
   "cell_type": "markdown",
   "id": "e7f67737",
   "metadata": {},
   "source": [
    "# Fusion des Tables"
   ]
  },
  {
   "cell_type": "code",
   "execution_count": null,
   "id": "006da791",
   "metadata": {},
   "outputs": [],
   "source": [
    "# On fusionne les 3 tables\n",
    "tableTotale = pd.merge(vente, produit, on='id_prod', how='left')\n",
    "tableTotale = pd.merge(tableTotale, client, on='client_id', how='left')\n",
    "\n",
    "print(f' vente shape is :{vente.shape}')\n",
    "print(f' produit shape is :{produit.shape}')\n",
    "print(f' client shape is :{client.shape}')\n",
    "print(f' tableTotale shape is :{tableTotale.shape}')"
   ]
  },
  {
   "cell_type": "code",
   "execution_count": null,
   "id": "915f8806",
   "metadata": {},
   "outputs": [],
   "source": [
    "# Vérification des variables de la table obtenue\n",
    "print(tableTotale.shape)\n",
    "print(tableTotale.describe(include='all', datetime_is_numeric=True))"
   ]
  },
  {
   "cell_type": "markdown",
   "id": "1a9368be",
   "metadata": {},
   "source": [
    "On remarque qu'il y a des prix et des catégories qui ne sont pas renseignées"
   ]
  },
  {
   "cell_type": "code",
   "execution_count": null,
   "id": "38e3649c",
   "metadata": {},
   "outputs": [],
   "source": [
    "# Identification des prix non renseignés\n",
    "print(tableTotale[tableTotale['price'].isna()]['id_prod'].unique())"
   ]
  },
  {
   "cell_type": "code",
   "execution_count": null,
   "id": "d0f05eca",
   "metadata": {},
   "outputs": [],
   "source": [
    "# Vérification de la table produit pour savoir d'où vient l'erreur\n",
    "print(produit[produit['id_prod'] == '0_2245'].shape)"
   ]
  },
  {
   "cell_type": "code",
   "execution_count": null,
   "id": "61cfd014",
   "metadata": {},
   "outputs": [],
   "source": [
    "# Vérification de la table vente pour savoir d'où vient l'erreur\n",
    "print(vente[vente['id_prod'] == '0_2245'].shape)"
   ]
  },
  {
   "cell_type": "markdown",
   "id": "1d420dac",
   "metadata": {},
   "source": [
    "Ce produit n'apparait pas dans la table produit ce qui explique qui ne possède ni prix ni catégorie, pourtant il a été vendu 221 fois. Sur les 658664 ventes ce nombre est négligeable. D'autant plus si on remarque que le premier nombre de l'id produit correspond à la catégorie et que la catégorie 0 est la catégorie avec les prix les moins chères en moyenne."
   ]
  },
  {
   "cell_type": "code",
   "execution_count": null,
   "id": "ea578f49",
   "metadata": {},
   "outputs": [],
   "source": [
    "# Suppression des lignes contenant ce produit\n",
    "tableTotale = tableTotale[tableTotale['id_prod'] != '0_2245']"
   ]
  },
  {
   "cell_type": "markdown",
   "id": "06ac2520",
   "metadata": {},
   "source": [
    "# Calcul du chiffre d'affaires"
   ]
  },
  {
   "cell_type": "code",
   "execution_count": null,
   "id": "30453a23",
   "metadata": {},
   "outputs": [],
   "source": [
    "# Calcul de la moyenne mobile du chiffre d'affaires \n",
    "chiffreAffaire = tableTotale[['price', 'date', 'id_prod', 'categ']].sort_values(by='date')\n",
    "plt.figure(figsize=(10, 8))\n",
    "\n",
    "chiffreAffaireJournalier = tableTotale[['price', 'date']].resample('D', on='date').sum()\n",
    "\n",
    "chiffreAffaireJournalier['jour'] = chiffreAffaireJournalier['price'].rolling(1).mean().shift(0)\n",
    "chiffreAffaireJournalier['semaine'] = chiffreAffaireJournalier['price'].rolling(7).mean().shift(-3)\n",
    "chiffreAffaireJournalier['mois'] = chiffreAffaireJournalier['price'].rolling(31).mean().shift(-15)\n",
    "chiffreAffaireJournalier['semestre'] = chiffreAffaireJournalier['price'].rolling(183).mean().shift(-91)\n",
    "\n",
    "\"\"\"\n",
    "sns.lineplot(x=\"date\",y=\"price\",\n",
    "             label=\"CA Journalier\", data=chiffreAffaireJournalier,\n",
    "             errorbar=None)\n",
    "\"\"\"\n",
    "# Time series plot with Seaborn lineplot() with label\n",
    "sns.lineplot(x=\"date\", y=\"semestre\",\n",
    "             label=\"CA Semestrielle\",\n",
    "             data=chiffreAffaireJournalier,\n",
    "             errorbar=None)\n",
    "\n",
    "# 7-day rolling average Time series plot with Seaborn lineplot() with label\n",
    "sns.lineplot(x=\"date\", y=\"semaine\",\n",
    "             label=\"CA Hebdomadaire\",\n",
    "             data=chiffreAffaireJournalier,\n",
    "             errorbar=None)\n",
    "\n",
    "# Time series plot with Seaborn lineplot() with label\n",
    "sns.lineplot(x=\"date\", y=\"mois\",\n",
    "             label=\"CA Mensuelle\",\n",
    "             data=chiffreAffaireJournalier,\n",
    "             errorbar=None)"
   ]
  },
  {
   "cell_type": "code",
   "execution_count": null,
   "id": "6e496f0e",
   "metadata": {},
   "outputs": [],
   "source": [
    "chiffreAffaireJournalier"
   ]
  },
  {
   "cell_type": "markdown",
   "id": "0f4d8515",
   "metadata": {},
   "source": [
    "# Nombre de Ventes par catégorie"
   ]
  },
  {
   "cell_type": "code",
   "execution_count": null,
   "id": "3cb931f5",
   "metadata": {},
   "outputs": [],
   "source": [
    "# Affichage du nombre de ventes par catégorie\n",
    "plt.figure(figsize=(10,8))\n",
    "sns.histplot(data=tableTotale, x='date', hue='categ',palette=\"dark:c_r\")"
   ]
  },
  {
   "cell_type": "markdown",
   "id": "5d92bba3",
   "metadata": {},
   "source": [
    "\n",
    "\n",
    "Comme on peut le voir, il manque certaines données sur le mois d'octobre. On va donc complétement effacer les données du mois d'octobre 2021."
   ]
  },
  {
   "cell_type": "code",
   "execution_count": null,
   "id": "a17d3289",
   "metadata": {},
   "outputs": [],
   "source": [
    "# Suppression des données du mois d'octobre\n",
    "tailleAv = len(tableTotale.index)\n",
    "tableTotale = tableTotale.loc[tableTotale['date'].dt.strftime('%Y%m') != pd.Timestamp(year=2021, month=10, day=1).strftime('%Y%m')]\n",
    "tailleAp = len(tableTotale.index)\n",
    "\n",
    "print(\"on a supprimé\",tailleAv-tailleAp,\"lignes, soit\",round(((tailleAv-tailleAp)/tailleAv)*100,2),\"% du dataframe original.\")"
   ]
  },
  {
   "cell_type": "markdown",
   "id": "d553e70f",
   "metadata": {},
   "source": [
    "# Calcul du nouveau chiffre d'affaires"
   ]
  },
  {
   "cell_type": "code",
   "execution_count": null,
   "id": "4256b60a",
   "metadata": {},
   "outputs": [],
   "source": [
    "# Caclcul de la nouvelle moyenne mobile du chiffre d'affaires\n",
    "chiffreAffaire = tableTotale[['price', 'date', 'id_prod', 'categ']].sort_values(by='date')\n",
    "plt.figure(figsize=(10, 8))\n",
    "\n",
    "chiffreAffaireJournalier = tableTotale[['price', 'date']].resample('D', on='date').sum()\n",
    "\n",
    "chiffreAffaireJournalier['jour'] = chiffreAffaireJournalier['price'].rolling(1).mean().shift(0)\n",
    "chiffreAffaireJournalier['semaine'] = chiffreAffaireJournalier['price'].rolling(7).mean().shift(-3)\n",
    "chiffreAffaireJournalier['mois'] = chiffreAffaireJournalier['price'].rolling(31).mean().shift(-15)\n",
    "chiffreAffaireJournalier['semestre'] = chiffreAffaireJournalier['price'].rolling(183).mean().shift(-91)\n",
    "\n",
    "\"\"\"\n",
    "sns.lineplot(x=\"date\",y=\"price\",\n",
    "             label=\"CA Journalier\", data=chiffreAffaireJournalier,\n",
    "             errorbar=None)\n",
    "\"\"\"\n",
    "# Time series plot with Seaborn lineplot() with label\n",
    "sns.lineplot(x=\"date\", y=\"semestre\",\n",
    "             label=\"CA Semestrielle\",\n",
    "             data=chiffreAffaireJournalier,\n",
    "             errorbar=None)\n",
    "\n",
    "# 7-day rolling average Time series plot with Seaborn lineplot() with label\n",
    "sns.lineplot(x=\"date\", y=\"semaine\",\n",
    "             label=\"CA Hebdomadaire\",\n",
    "             data=chiffreAffaireJournalier,\n",
    "             errorbar=None)\n",
    "\n",
    "# Time series plot with Seaborn lineplot() with label\n",
    "sns.lineplot(x=\"date\", y=\"mois\",\n",
    "             label=\"CA Mensuelle\",\n",
    "             data=chiffreAffaireJournalier,\n",
    "             errorbar=None)"
   ]
  },
  {
   "cell_type": "markdown",
   "id": "e074495f",
   "metadata": {},
   "source": [
    "# Nouvelles ventes par catégorie"
   ]
  },
  {
   "cell_type": "code",
   "execution_count": null,
   "id": "667bfd77",
   "metadata": {},
   "outputs": [],
   "source": [
    "# Affichage du nouveau nombre de ventes par catégorie\n",
    "plt.figure(figsize=(10,8))\n",
    "sns.histplot(data=tableTotale, x='date', hue='categ',palette=\"dark:c_r\")"
   ]
  },
  {
   "cell_type": "markdown",
   "id": "18b760a0",
   "metadata": {},
   "source": [
    "# Ajout de nouvelles colonnes"
   ]
  },
  {
   "cell_type": "markdown",
   "id": "77735efb",
   "metadata": {},
   "source": [
    "Création d'une tranche d'âge"
   ]
  },
  {
   "cell_type": "code",
   "execution_count": null,
   "id": "ca4ad46b",
   "metadata": {},
   "outputs": [],
   "source": [
    "# Création du fonction permetant d'arrondir un chiffre à la dizaine inférieur\n",
    "def arrondiNInf(x, n:int):\n",
    "    x = int(x)\n",
    "    while x%n !=0:\n",
    "        x=x-1\n",
    "    return x"
   ]
  },
  {
   "cell_type": "code",
   "execution_count": null,
   "id": "2306fe72",
   "metadata": {},
   "outputs": [],
   "source": [
    "# Calcul de l'âge en fonction de la date d'achat\n",
    "tableTotale['age'] = pd.DatetimeIndex(tableTotale['date']).year - tableTotale['birth']"
   ]
  },
  {
   "cell_type": "code",
   "execution_count": null,
   "id": "0b50ea68",
   "metadata": {},
   "outputs": [],
   "source": [
    "# Création de la tranche d'âge\n",
    "inter = 10\n",
    "tableTotale['trancheAge'] = tableTotale['age'].apply(arrondiNInf,n=inter).apply(str)\\\n",
    "                            +'-'\\\n",
    "                            +(tableTotale['age'].apply(arrondiNInf,n=inter)+inter).apply(str)\n"
   ]
  },
  {
   "cell_type": "code",
   "execution_count": null,
   "id": "7dcea47a",
   "metadata": {},
   "outputs": [],
   "source": [
    "# Vérification de la table\n",
    "print(tableTotale.shape)\n",
    "print(tableTotale.describe(include='all', datetime_is_numeric=True))"
   ]
  },
  {
   "cell_type": "markdown",
   "id": "149c9c1e",
   "metadata": {},
   "source": [
    "On ajoute le prix du panier ainsi que le panier moyen par client."
   ]
  },
  {
   "cell_type": "code",
   "execution_count": null,
   "id": "84ca86bd",
   "metadata": {},
   "outputs": [],
   "source": [
    "# Ajout du montant moyen du panier par client\n",
    "tableTotale = tableTotale.merge(\n",
    "    tableTotale.groupby('session_id')['price'].sum().reset_index(),\n",
    "    how='left', on='session_id').rename(columns={'client_id_x': 'client_id','price_x': 'price','price_y': 'montantPanier'})\n",
    "\n",
    "tableTotale.sort_values(by='session_id',ascending=False)\n",
    "\n",
    "tableTotale = tableTotale.merge(\n",
    "    tableTotale.groupby('client_id')['montantPanier'].mean().reset_index(),\n",
    "    how='left', on='client_id').rename(columns={'montantPanier_x': 'montantPanier','montantPanier_y': 'montantPanierMoyen'})\n",
    "\n",
    "tableTotale.sort_values(by='session_id',ascending=False)\n",
    "\n",
    "tableTotale['montantPanierMoyen'] = tableTotale['montantPanierMoyen'].round(decimals=2)"
   ]
  },
  {
   "cell_type": "markdown",
   "id": "7881269c",
   "metadata": {},
   "source": [
    "On ajoute la taille du panier ainsi que la taille moyenne du panier par client."
   ]
  },
  {
   "cell_type": "code",
   "execution_count": null,
   "id": "84c9bd9f",
   "metadata": {},
   "outputs": [],
   "source": [
    "# Ajout de la taille moyenne du panier par client\n",
    "tableTotale = tableTotale.merge(\n",
    "    tableTotale.groupby('session_id')['client_id'].count().reset_index(),\n",
    "    how='left', on='session_id').rename(columns={'client_id_x': 'client_id','client_id_y': 'taillePanier'})\n",
    "\n",
    "\n",
    "tableTotale = tableTotale.merge(\n",
    "    tableTotale.groupby('client_id')['taillePanier'].mean().reset_index(),\n",
    "    how='left', on='client_id').rename(columns={'taillePanier_x': 'taillePanier','taillePanier_y': 'taillePanierMoyen'})\n",
    "\n",
    "tableTotale.sort_values(by='session_id',ascending=False)\n",
    "\n",
    "tableTotale['taillePanierMoyen'] = tableTotale['taillePanierMoyen'].round(decimals=2)"
   ]
  },
  {
   "cell_type": "markdown",
   "id": "ce30069a",
   "metadata": {},
   "source": [
    "On ajoute le chiffre d'affaires par client"
   ]
  },
  {
   "cell_type": "code",
   "execution_count": null,
   "id": "71da1677",
   "metadata": {},
   "outputs": [],
   "source": [
    "# Ajout du chiffre d'affaires par client\n",
    "tableTotale = tableTotale.merge(\n",
    "    tableTotale.groupby('client_id')['price'].sum().reset_index(),\n",
    "    how='left', on='client_id').rename(columns={'price_x': 'price','price_y': 'chiffreAffaireClient'})\n",
    "\n",
    "tableTotale.sort_values(by='client_id')\n"
   ]
  },
  {
   "cell_type": "markdown",
   "id": "76a5304d",
   "metadata": {},
   "source": [
    "Ajout de la fréquence d'achat (nombre d'achats moyen par mois)"
   ]
  },
  {
   "cell_type": "code",
   "execution_count": null,
   "id": "7fbecf03",
   "metadata": {},
   "outputs": [],
   "source": [
    "# Ajout de la fréquence d'achat par mois\n",
    "max,min = tableTotale['date'].max(),tableTotale['date'].min()\n",
    "\n",
    "nbMois = (max - min)/np.timedelta64(1, 'M')\n",
    "nbMois = round(nbMois)\n",
    "\n",
    "print(\"Les données s'étalent sur\", nbMois,\"mois,\",nbMois-1, \"si on ne prend pas en compte le mois d'octobre\")"
   ]
  },
  {
   "cell_type": "markdown",
   "id": "7e227dcf",
   "metadata": {},
   "source": [
    "On ajoute la fréquence d'achat en ignorant le mois d'octobre"
   ]
  },
  {
   "cell_type": "code",
   "execution_count": null,
   "id": "8648c845",
   "metadata": {},
   "outputs": [],
   "source": [
    "# Ajout du nombre d'achats total\n",
    "tableTotale = tableTotale.merge(\n",
    "    tableTotale.groupby('client_id').count()['date'].reset_index().rename(columns={'date': 'nombre d\\'achats'}),\n",
    "    how='left', on='client_id')\n",
    "\n",
    "tableTotale = tableTotale.merge(\n",
    "    tableTotale.groupby('client_id')['date'].agg(['min']).reset_index().rename(columns={'min': 'date_inscription'}),\n",
    "    how='left', on='client_id')\n",
    "\n",
    "tableTotale['date_inscription'] = np.where(tableTotale['date_inscription']<'2021-10-15',\n",
    "                                           tableTotale['date_inscription'] +  pd.DateOffset(months=1),\n",
    "                                           tableTotale['date_inscription'])\n",
    "\n",
    "tableTotale['date_inscription'] = pd.to_datetime(tableTotale['date_inscription'])\n",
    "tableTotale['date'] = pd.to_datetime(tableTotale['date'])\n",
    "\n",
    "\n"
   ]
  },
  {
   "cell_type": "code",
   "execution_count": null,
   "id": "dc2190eb",
   "metadata": {},
   "outputs": [],
   "source": [
    "# Ajout de la fréquence d'achat par mois\n",
    "dateFinale = tableTotale['date'].max()\n",
    "\n",
    "tableTotale['ventes_mensuelles'] = round(tableTotale['nombre d\\'achats'] / ((dateFinale - tableTotale['date_inscription']).dt.days/30),2)\n",
    "\n",
    "print(tableTotale.describe(datetime_is_numeric=True))\n",
    "# print(tableTotale.sort_values(by='price'))"
   ]
  },
  {
   "cell_type": "markdown",
   "id": "393842ba",
   "metadata": {},
   "source": [
    "On supprime les colonnes : taille du panier, montant du panier et nombre d'achats devenues inutiles"
   ]
  },
  {
   "cell_type": "code",
   "execution_count": null,
   "id": "fb9f52a5",
   "metadata": {},
   "outputs": [],
   "source": [
    "# Suppression des colonnes : [\"nombre d\\'achats\", \"montantPanier\", \"taillePanier\"]\n",
    "tableTotale = tableTotale.drop([\"nombre d\\'achats\", \"montantPanier\", \"taillePanier\"], axis=1)\n"
   ]
  },
  {
   "cell_type": "markdown",
   "id": "b41b1143",
   "metadata": {},
   "source": [
    "(Importance des plus grosses fréquences d'achats)"
   ]
  },
  {
   "cell_type": "code",
   "execution_count": null,
   "id": "2ee22e7c",
   "metadata": {},
   "outputs": [],
   "source": [
    "# Analyse des fréquence d'achats\n",
    "f, (ax_box1, ax_box) = plt.subplots(nrows=1, ncols=2, sharex=False,  figsize=(20,10))\n",
    "sns.boxplot(data=tableTotale['ventes_mensuelles'], showfliers=False, ax=ax_box1)\n",
    "sns.boxplot(data=tableTotale['ventes_mensuelles'], showfliers=True, ax=ax_box)"
   ]
  },
  {
   "cell_type": "markdown",
   "id": "e5e05a15",
   "metadata": {},
   "source": [
    "On remarque que 4 clients ont une fréquence d'achat anormalement élevée"
   ]
  },
  {
   "cell_type": "code",
   "execution_count": null,
   "id": "e5382928",
   "metadata": {},
   "outputs": [],
   "source": [
    "# Vérification de quels clients ont les fréquences les plus élevées\n",
    "clientAnormal = tableTotale[tableTotale['ventes_mensuelles']>17.5]['client_id'].unique()\n",
    "print(clientAnormal)"
   ]
  },
  {
   "cell_type": "markdown",
   "id": "fc42723d",
   "metadata": {},
   "source": [
    "Afin d'obtenir une étude plus cohérente, on décide de séparer ces clients des autres"
   ]
  },
  {
   "cell_type": "code",
   "execution_count": null,
   "id": "c5744bf5",
   "metadata": {},
   "outputs": [],
   "source": [
    "# Séparation des clients en deux catégories\n",
    "tableTotaleNormal = tableTotale[~tableTotale['client_id'].isin(clientAnormal)]\n",
    "tableTotaleAnormal = tableTotale[tableTotale['client_id'].isin(clientAnormal)]\n",
    "\n",
    "tableTotale['anormal'] = 'Client \\'Normal\\''\n",
    "tableTotale.loc[tableTotale['client_id'].isin(clientAnormal),'anormal'] = 'Client \\'Anormal\\''"
   ]
  },
  {
   "cell_type": "code",
   "execution_count": null,
   "id": "92fb52d0",
   "metadata": {},
   "outputs": [],
   "source": [
    "# Création d'une fonction qui permet de détérminer si une colonne est une clé primaire\n",
    "def cleprim(df,id):\n",
    "\n",
    "    l=len(df)-len(df[id].drop_duplicates())\n",
    "\n",
    "    if l==0:\n",
    "        print(\"C'est une clé primaire\")\n",
    "    else:\n",
    "        print(\"Ce n'est pas une clé primaire, il y a\",l,\"doublons\")\n",
    "\n",
    "    return\n",
    "\n",
    "cleprim(tableTotale,['session_id','client_id'])\n",
    "tableTotale"
   ]
  },
  {
   "cell_type": "markdown",
   "id": "4aeba61f",
   "metadata": {},
   "source": [
    "# Chiffre d'affaires par produit"
   ]
  },
  {
   "cell_type": "code",
   "execution_count": null,
   "id": "d8334204",
   "metadata": {},
   "outputs": [],
   "source": [
    "\n",
    "# Calcul du chiffre d'affaire par produit en fonction du type de client\n",
    "chiffreAffaireProduit = tableTotale.copy(deep=True)\n",
    "chiffreAffaireProduit.set_index('date')\n",
    "chiffreAffaireProduit.index = pd.to_datetime(chiffreAffaireProduit.index)\n",
    "chiffreAffaireProduit = chiffreAffaireProduit.groupby(['id_prod','anormal']).sum().reset_index().sort_values(by='price').rename(columns={\"price\": \"Chiffre d'affaires\"})\n",
    "\n",
    "chiffreAffaireProduit['SumAll'] = chiffreAffaireProduit[\"Chiffre d'affaires\"].groupby(chiffreAffaireProduit['id_prod']).transform('sum')\n",
    "print(chiffreAffaireProduit.sort_values(by='id_prod'))\n",
    "\n",
    "chiffreAffaireProduit = chiffreAffaireProduit.sort_values(by='SumAll')\n",
    "sns.barplot(x=\"Chiffre d'affaires\", y=\"id_prod\", data=chiffreAffaireProduit.head(10), hue='anormal')\n",
    "plt.legend(title='Type de client')\n",
    "plt.show()\n",
    "\n",
    "chiffreAffaireProduit = chiffreAffaireProduit.sort_values(by='SumAll',ascending=False)\n",
    "sns.barplot(x=\"Chiffre d'affaires\", y=\"id_prod\", data=chiffreAffaireProduit.head(20), hue='anormal')\n",
    "plt.legend(title='Type de client')\n"
   ]
  },
  {
   "cell_type": "markdown",
   "id": "e4c4102a",
   "metadata": {},
   "source": [
    "# Chiffre d'affaire par catégorie"
   ]
  },
  {
   "cell_type": "code",
   "execution_count": null,
   "id": "859ed790",
   "metadata": {},
   "outputs": [],
   "source": [
    "# Calcul du chiffre d'affaire par catégorie\n",
    "plt.figure(figsize=(15,8))\n",
    "chiffreAffaireCategorie = tableTotale.groupby(by=[pd.Grouper(key='date', freq='M'), 'categ'])['price'].sum().unstack(fill_value=0).reset_index()\n",
    "chiffreAffaireCategorie['date'] = pd.to_datetime(chiffreAffaireCategorie['date']).dt.date\n",
    "chiffreAffaireCategorie[1.0] = chiffreAffaireCategorie[1.0] + chiffreAffaireCategorie[0.0]\n",
    "chiffreAffaireCategorie[2.0] = chiffreAffaireCategorie[1.0] + chiffreAffaireCategorie[2.0]\n",
    "\n",
    "sns.barplot(x = 'date', y = 2.0, data = chiffreAffaireCategorie, color = 'limegreen')\n",
    "sns.barplot(x = 'date', y = 1.0, data = chiffreAffaireCategorie, color = 'coral')\n",
    "sns.barplot(x = 'date', y = 0.0, data = chiffreAffaireCategorie, color = 'slateblue')\n",
    "\n",
    "plt.ylabel('Chiffre d\\'affaire')\n",
    "plt.xticks(rotation=45)\n",
    "\n",
    "\n",
    "chiffreAffaireCategorie = tableTotale.copy(deep=True)\n",
    "\n",
    "plt.figure(figsize=(15,8))\n",
    "chiffreAffaireCategorie = chiffreAffaireCategorie.groupby(by=[pd.Grouper(key='date', freq='M'), 'categ'])['price'].sum().reset_index()#.unstack(fill_value=0)##\n",
    "chiffreAffaireCategorie['date'] = pd.to_datetime(chiffreAffaireCategorie['date']).dt.date\n",
    "\n",
    "sns.barplot(data=chiffreAffaireCategorie,x='date',y='price',hue='categ')\n",
    "plt.xticks(rotation=45)\n",
    "plt.ylabel('Chiffre d\\'affaires')\n",
    "plt.show()\n",
    "\n",
    "\"\"\"\n",
    "sns.lineplot(data=chiffreAffaireCategorie,x='date',y='price',hue='categ')\n",
    "#chiffreAffaireCategorie.plot.bar(stacked=True, x='date')\n",
    "plt.show()\n",
    "print(chiffreAffaireCategorie)\n",
    "\"\"\"\n",
    "\n"
   ]
  },
  {
   "cell_type": "code",
   "execution_count": null,
   "id": "00f82078",
   "metadata": {},
   "outputs": [],
   "source": [
    "# !!!! A SUPPRIMER | Graphique chiffre d'affaires par date, catégorie et type de client\n",
    "chiffreAffaireCategorie = tableTotale.groupby(by=[pd.Grouper(key='date', freq='M'), 'categ', 'anormal'])['price'].sum().unstack(fill_value=0).reset_index()\n",
    "\n",
    "chiffreAffaireCategorie['date'] = pd.to_datetime(chiffreAffaireCategorie['date']).dt.strftime('%m/%Y')\n",
    "\n",
    "chiffreAffaireCategorie = pd.melt(chiffreAffaireCategorie, id_vars=[\"date\",'categ'], var_name=\"Type_client\", value_name=\"Chiffre d\\'affaires total\")\n",
    "\n",
    "chiffreAffaireCategorie = chiffreAffaireCategorie.sort_values(by='date')\n",
    "\n",
    "hue = chiffreAffaireCategorie[['categ', 'Type_client']].apply(lambda row: f\"{row.categ}, {row.Type_client}\", axis=1)\n",
    "hue.name = 'Catégorie, Type_client'\n",
    "\n",
    "f,(ax1,ax2) = plt.subplots(2, figsize=(50,10))\n",
    "\n",
    "ax2.legend_ = None\n",
    "\n",
    "hue_order=[\"0.0, Client 'Anormal'\",\"0.0, Client 'Normal'\",\"1.0, Client 'Anormal'\",\"1.0, Client 'Normal'\",\"2.0, Client 'Anormal'\",\"2.0, Client 'Normal'\"]\n",
    "sns.barplot(x='date', y=\"Chiffre d\\'affaires total\", hue=hue,hue_order=hue_order, data=chiffreAffaireCategorie.iloc[:72,:], palette='Paired',ax=ax1)\n",
    "\n",
    "sns.barplot(x='date', y=\"Chiffre d\\'affaires total\", hue=hue,hue_order=hue_order, data=chiffreAffaireCategorie.iloc[72:,:], palette='Paired',ax=ax2)\n",
    "\n"
   ]
  },
  {
   "cell_type": "markdown",
   "id": "ce49096b",
   "metadata": {},
   "source": [
    "# Répartition des clients"
   ]
  },
  {
   "cell_type": "markdown",
   "id": "9ab4d864",
   "metadata": {},
   "source": [
    "Courbe de Lorenz"
   ]
  },
  {
   "cell_type": "code",
   "execution_count": null,
   "id": "d6053d95",
   "metadata": {},
   "outputs": [],
   "source": [
    "# Fonction courbe de Lorenz\n",
    "def lorenz(variable, title, ax):\n",
    "    X = variable.values\n",
    "    X = np.sort(X)\n",
    "\n",
    "    # Indice de Gini\n",
    "    def gini(array):\n",
    "        sorted_array = array.copy()\n",
    "        sorted_array.sort()\n",
    "        n = array.size\n",
    "        coef_ = 2. / n\n",
    "        const_ = (n + 1.) / n\n",
    "        weighted_sum = sum([(i + 1) * yi for i, yi in enumerate(sorted_array)])\n",
    "        return coef_ * weighted_sum / (sorted_array.sum()) - const_\n",
    "\n",
    "    print('Incide de Gini :', gini(X))\n",
    "\n",
    "    # Courbe de Lorenz\n",
    "    X_lorenz = X.cumsum() / X.sum()\n",
    "    X_lorenz = np.insert(X_lorenz, 0, 0)\n",
    "    # X_lorenz[0], X_lorenz[-1]\n",
    "    y = np.arange(X_lorenz.size) / (X_lorenz.size - 1)\n",
    "    lorenz = pd.DataFrame()\n",
    "    lorenz['X'] = pd.Series(X_lorenz)\n",
    "    lorenz['Y'] = pd.Series(y)\n",
    "    sns.scatterplot(data=lorenz, x='Y', y='X', marker='x', ax=ax)\n",
    "\n",
    "    # Diagonale\n",
    "    a = np.arange(0, 1, .01)\n",
    "    x = a\n",
    "    y = a\n",
    "\n",
    "    # Graphique\n",
    "    sns.lineplot(x=x, y=y, ax=ax)\n",
    "    ax.set_xlim([0, 1])\n",
    "    ax.set_ylim([0, 1])\n",
    "    ax.set(xlabel=title)\n"
   ]
  },
  {
   "cell_type": "code",
   "execution_count": null,
   "id": "17b5ad3a",
   "metadata": {},
   "outputs": [],
   "source": [
    "# Affichage des courbes de Lorenz\n",
    "chiffreAffaireClient = tableTotale.groupby('client_id')['price'].sum().rename('chiffre d\\'affaire').sort_values()\n",
    "chiffreAffaireClientNormaux = tableTotaleNormal.groupby('client_id')['price'].sum().rename('chiffre d\\'affaire').sort_values()\n",
    "\n",
    "fig, (ax1,ax2) = plt.subplots(2, figsize=(10,10))\n",
    "\n",
    "#lorenz(chiffreAffaireClientNormaux, 'Répartition du chiffre d\\'affaires les clients \\'normaux\\'', ax1)\n",
    "#lorenz(chiffreAffaireClient, 'Répartition du chiffre d\\'affaires entre tous les clients', ax2)"
   ]
  },
  {
   "cell_type": "markdown",
   "id": "d1893108",
   "metadata": {},
   "source": [
    "# Corrélation entre les caractéristiques"
   ]
  },
  {
   "cell_type": "code",
   "execution_count": null,
   "id": "03c135ab",
   "metadata": {},
   "outputs": [],
   "source": [
    "# Calcul des coefficients de Pearson entre les caractéristiques\n",
    "print(tableTotale.columns)\n",
    "\"\"\"sns.heatmap(tableTotale.replace({\"m\": 0,\"f\": 1,\"Client 'Normal'\": 0,\"Client 'Anormal'\": 1}).corr(method='pearson'), annot = True, fmt='.2g',cmap= 'YlGnBu')\"\"\"\n",
    "\n",
    "mask = np.triu(np.ones_like(tableTotaleNormal.replace({\"m\": 0,\"f\": 1}).corr()))\n",
    "\n",
    "sns.heatmap(tableTotaleNormal.replace({\"m\": 0,\"f\": 1}).corr(method='pearson'),vmin=-1,vmax=1, annot = True, mask=mask, fmt='.2g',cmap= 'coolwarm')\n",
    "\n",
    "mask = np.triu(np.ones_like(tableTotale.replace({\"m\": 0,\"f\": 1,\"Client 'Normal'\": 0,\"Client 'Anormal'\": 1}).corr()))\n",
    "\n",
    "plt.show()\n",
    "sns.heatmap(tableTotale.replace({\"m\": 0,\"f\": 1,\"Client 'Normal'\": 0,\"Client 'Anormal'\": 1}).corr(method='pearson'),vmin=-1,vmax=1, annot = True, mask=mask, fmt='.2g',cmap= 'coolwarm')"
   ]
  },
  {
   "cell_type": "code",
   "execution_count": null,
   "id": "bf79a54c",
   "metadata": {},
   "outputs": [],
   "source": [
    "# A FINIR | Test statistiques\n",
    "import statsmodels.api as sm\n",
    "from statsmodels.formula.api import ols\n",
    "model = ols('price ~ sex', data=tableTotale).fit()\n",
    "anova_table = sm.stats.anova_lm(model, typ=2)\n",
    "anova_table\n",
    "\n",
    "Lcategorie = ['price', 'categ', 'sex', 'age', 'nombre d\\'achats', 'ventes_mensuelles', 'anormal']\n",
    "# sns.pairplot(tableTotale.loc[:,Lcategorie].replace({\"m\": 0,\"f\": 1,\"Client 'Normal'\": 0,\"Client 'Anormal'\": 1}))"
   ]
  },
  {
   "cell_type": "code",
   "execution_count": null,
   "id": "4dd9b35b",
   "metadata": {},
   "outputs": [],
   "source": [
    "# Éxportation de la matrice des corrélation\n",
    "corr_mat = tableTotale.replace({\"m\": 0,\"f\": 1,\"Client 'Normal'\": 0,\"Client 'Anormal'\": 1}).corr(method='pearson')\n",
    "\n",
    "sorted_mat = corr_mat.unstack().sort_values()\n",
    "\n",
    "# sorted_mat.to_excel(excel_writer = \"test.xlsx\")"
   ]
  },
  {
   "cell_type": "markdown",
   "id": "9081e191",
   "metadata": {},
   "source": [
    "# Corrélation entre l'âge et les autres caractéristiques"
   ]
  },
  {
   "cell_type": "markdown",
   "id": "716b24b5",
   "metadata": {},
   "source": [
    "On commence par étudier combien il y a de clients par tranche d'âge."
   ]
  },
  {
   "cell_type": "code",
   "execution_count": null,
   "id": "5e26eae9",
   "metadata": {},
   "outputs": [],
   "source": [
    "# Vérification du nombre d'individus par tranche d'âge\n",
    "data = tableTotale[tableTotale['anormal']==\"Client 'Normal'\"].groupby(by='client_id').mean().merge(tableTotale[['sex','client_id','anormal']], how='inner', on='client_id').drop_duplicates()\n",
    "data['age'] = data['age'].apply(int)\n",
    "data['trancheAge'] = data['age'].apply(arrondiNInf,n=inter).apply(str)+'-'+(data['age'].apply(arrondiNInf,n=inter)+inter).apply(str)\n",
    "\n",
    "plt.figure(figsize=(20,10))\n",
    "ax = sns.histplot(data=data.sort_values(by='age'), x='trancheAge', hue='sex', multiple='dodge')\n",
    "\n",
    "for container in ax.containers:\n",
    "    ax.bar_label(container)"
   ]
  },
  {
   "cell_type": "markdown",
   "id": "46803e05",
   "metadata": {},
   "source": [
    "On remarque que la catégorie est 90-100 n'est pas représenté dans nos clients. Et qu'il y a autant d'hommes que de femmes dans chaque tranche d'âge."
   ]
  },
  {
   "cell_type": "markdown",
   "id": "57bbf9a6",
   "metadata": {},
   "source": [
    "age\tnombre d'achats \t0,019005146\n",
    "ventes_mensuelles\tage\t\t0,019041955\n",
    "age\tsex\t\t0,041151568\n",
    "age\tcateg\t\t0,096243004\n",
    "age\tprice\t\t0,208040753"
   ]
  },
  {
   "cell_type": "markdown",
   "id": "ef89a4a8",
   "metadata": {},
   "source": [
    "Le coefficient de pearson entre l'âge et le nombre d'achats (ou de ventes) est très faible (0.02), ce qui laisse sous-entendre qu'il ni a pas de corrélation entre ces deux caractéristiques. Vérifions cela à l'aide de diagramme en boite en prenant le soin d'exclure les 4 clients anormaux."
   ]
  },
  {
   "cell_type": "code",
   "execution_count": null,
   "id": "697040a4",
   "metadata": {},
   "outputs": [],
   "source": [
    "# Affichage de la fréquence d'achats en fonction de l'âge et du sexe\n",
    "plt.figure(figsize=(10,5))\n",
    "sns.boxplot(data=tableTotaleNormal.sort_values(by='age'), x='trancheAge', y=\"nombre d'achats\",hue='sex')\n",
    "plt.show()\n",
    "plt.figure(figsize=(10,5))\n",
    "sns.boxplot(data=tableTotaleNormal.sort_values(by='age'), x='trancheAge', y=\"ventes_mensuelles\",hue='sex')"
   ]
  },
  {
   "cell_type": "markdown",
   "id": "8a62a343",
   "metadata": {},
   "source": [
    "Voyons maintenant la taille moyenne du panier et son montant moyen par âge"
   ]
  },
  {
   "cell_type": "code",
   "execution_count": null,
   "id": "78b5a65c",
   "metadata": {},
   "outputs": [],
   "source": [
    "# Affichage de la taille et du montant moyen du panier en fonction de la tranche d'âge\n",
    "plt.figure(figsize=(10,5))\n",
    "sns.boxplot(data=tableTotaleNormal.drop_duplicates(subset=['client_id']).sort_values(by='age'), x='trancheAge', y=\"montantPanierMoyen\",hue='sex')\n",
    "\n",
    "plt.figure(figsize=(10,5))\n",
    "sns.boxplot(data=tableTotaleNormal.drop_duplicates(subset=['client_id']).sort_values(by='age'), x='trancheAge', y=\"taillePanierMoyen\",hue='sex')"
   ]
  },
  {
   "cell_type": "code",
   "execution_count": null,
   "id": "e87fe08b",
   "metadata": {},
   "outputs": [],
   "source": [
    "# Affichage de la taille et du montant moyen du panier en fonction de l'âge\n",
    "plt.figure(figsize=(20,10))\n",
    "sns.boxplot(data=tableTotaleNormal.drop_duplicates(subset=['client_id']).sort_values(by='age'), x='age', y=\"montantPanierMoyen\")\n",
    "\n",
    "plt.figure(figsize=(20,10))\n",
    "sns.boxplot(data=tableTotaleNormal.drop_duplicates(subset=['client_id']).sort_values(by='age'), x='age', y=\"taillePanierMoyen\")"
   ]
  },
  {
   "cell_type": "markdown",
   "id": "8d0f4652",
   "metadata": {},
   "source": [
    "On peut remarquer que les 30-50 ans sont les clients avec le plus grand nombre d'achats en moyenne."
   ]
  },
  {
   "cell_type": "markdown",
   "id": "f04b6132",
   "metadata": {},
   "source": [
    "On va ensuite s'intéresser à la relation entre l'âge, le sexe et la catégorie du livre acheté."
   ]
  },
  {
   "cell_type": "code",
   "execution_count": null,
   "id": "2af2078e",
   "metadata": {},
   "outputs": [],
   "source": [
    "# Affichage du nombre d'achats dans chaque catégorie en fonction de l'âge et du sexe\n",
    "plt.figure(figsize=(20,10))\n",
    "sns.displot(data=tableTotaleNormal.sort_values(by='age'), x='trancheAge', hue='sex',multiple='dodge',col='categ')"
   ]
  },
  {
   "cell_type": "markdown",
   "id": "314a2331",
   "metadata": {},
   "source": [
    "Grâce à ces graphiques, on peut se rendre compte que le sexe n'a presque aucune incidence sur le comportement d'achat du client (Cp = 0.04). Au contraire, la catégorie achetée à un lien très faible avec l'âge."
   ]
  },
  {
   "cell_type": "markdown",
   "id": "4bcfa131",
   "metadata": {},
   "source": [
    "Voyons plus en détail la relation entre l'âge et la catégorie achetée."
   ]
  },
  {
   "cell_type": "code",
   "execution_count": null,
   "id": "3102e543",
   "metadata": {},
   "outputs": [],
   "source": [
    "# Affichage du nombre de ventes par catégorie et par âge\n",
    "plt.figure(figsize=(20,10))\n",
    "sns.histplot(data=tableTotaleNormal.sort_values(by='age'), x='age', hue='categ',multiple='stack',bins=93-17)"
   ]
  },
  {
   "cell_type": "markdown",
   "id": "005a9e68",
   "metadata": {},
   "source": [
    "On peut voir plus facilement la répartition des catégories par tranche d'âge grâce à ce graphique, les 10-30 ans achètent environ autant de chaque catégorie, tandis que les 30+ n'achètent presque aucun livre de la deuxième catégorie."
   ]
  },
  {
   "cell_type": "markdown",
   "id": "a8965ff3",
   "metadata": {},
   "source": [
    "Voyons maintenant la corrélation entre l'âge et le prix du livre acheté moyen."
   ]
  },
  {
   "cell_type": "code",
   "execution_count": null,
   "id": "698a7288",
   "metadata": {},
   "outputs": [],
   "source": [
    "# Affichage du prix moyen du livre acheté en fonctionde l'âge (et de la catégorie)\n",
    "plt.figure(figsize=(20,10))\n",
    "sns.boxplot(data=tableTotaleNormal.sort_values(by='age'), x='trancheAge', y='price')\n",
    "\n",
    "plt.figure(figsize=(20,10))\n",
    "sns.boxplot(data=tableTotaleNormal.sort_values(by='age'), x='trancheAge', y='price', hue='categ')"
   ]
  },
  {
   "cell_type": "markdown",
   "id": "4068d417",
   "metadata": {},
   "source": [
    "On peut remarquer que les 10-30 ans achètent des livres aux prix moyens les plus élevés. Mais on se rend compte sur le deuxième graphique que cet ecart est due à la différence du prix moyen entre chaque catégorie."
   ]
  },
  {
   "cell_type": "markdown",
   "id": "e3a9f2d1",
   "metadata": {},
   "source": [
    "# Corrélation entre le prix et la catégorie"
   ]
  },
  {
   "cell_type": "code",
   "execution_count": null,
   "id": "3c4e8fc7",
   "metadata": {},
   "outputs": [],
   "source": [
    "# Affichage du prix en fonction de la catégorie\n",
    "plt.figure(figsize=(20,10))\n",
    "sns.boxplot(data=tableTotaleNormal.drop_duplicates(subset=['id_prod']).sort_values(by='categ'), x='price', y='categ', orient='h')\n"
   ]
  },
  {
   "cell_type": "markdown",
   "id": "86462584",
   "metadata": {},
   "source": [
    "On peut remarquer que la catégorie 2 est bien plus chère en moyenne que les deux autres."
   ]
  },
  {
   "cell_type": "markdown",
   "id": "cb2f88e7",
   "metadata": {},
   "source": [
    "# Influence de ces différentes caractéristiques sur le chiffre d'affaires"
   ]
  },
  {
   "cell_type": "code",
   "execution_count": null,
   "id": "f839c651",
   "metadata": {},
   "outputs": [],
   "source": []
  },
  {
   "cell_type": "markdown",
   "id": "8d6a30f2",
   "metadata": {},
   "source": [
    "# Test"
   ]
  },
  {
   "cell_type": "code",
   "execution_count": null,
   "id": "b8e6e430",
   "metadata": {},
   "outputs": [],
   "source": [
    "tableTotaleNormal.sort_values(by='session_id')"
   ]
  },
  {
   "cell_type": "code",
   "execution_count": null,
   "id": "60225910",
   "metadata": {},
   "outputs": [],
   "source": []
  }
 ],
 "metadata": {
  "kernelspec": {
   "display_name": "Python 3.11.1 64-bit",
   "language": "python",
   "name": "python3"
  },
  "language_info": {
   "codemirror_mode": {
    "name": "ipython",
    "version": 3
   },
   "file_extension": ".py",
   "mimetype": "text/x-python",
   "name": "python",
   "nbconvert_exporter": "python",
   "pygments_lexer": "ipython3",
   "version": "3.11.1"
  },
  "vscode": {
   "interpreter": {
    "hash": "48ce5a6842f0c5774be0b9ccd8bca9efa5ddc24bf0500d93ce18e8fd05a1e562"
   }
  }
 },
 "nbformat": 4,
 "nbformat_minor": 5
}
